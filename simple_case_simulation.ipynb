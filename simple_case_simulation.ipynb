{
 "cells": [
  {
   "cell_type": "code",
   "execution_count": 1,
   "metadata": {},
   "outputs": [],
   "source": [
    "import numpy as np\n",
    "import matplotlib.pyplot as plt\n",
    "%matplotlib inline"
   ]
  },
  {
   "cell_type": "markdown",
   "metadata": {},
   "source": [
    "### Simulation"
   ]
  },
  {
   "cell_type": "code",
   "execution_count": 159,
   "metadata": {},
   "outputs": [],
   "source": [
    "n = 100\n",
    "p_minus_1 = 90\n",
    "np.random.seed(1)\n",
    "X = np.random.normal( 0,2, [n, p_minus_1])\n",
    "X = np.concatenate([np.ones([n,1]), X], axis = 1)\n",
    "beta = np.random.normal(0, 5, p_minus_1 + 1)\n",
    "sigma_g2 = np.var(X @ beta , ddof=1)\n",
    "h2 = 1 # heritability\n",
    "sigma_e2 = sigma_g2 * (1 - h2)/ h2\n",
    "\n",
    "epsilon = np.random.normal(0, np.sqrt(sigma_e2), n)\n",
    "y = X @ beta + epsilon"
   ]
  },
  {
   "cell_type": "code",
   "execution_count": 104,
   "metadata": {},
   "outputs": [
    {
     "name": "stdout",
     "output_type": "stream",
     "text": [
      "beta is [  3.1701271    3.56500665  -2.41659598  -9.61075309  -3.80668622\n",
      "   2.58873779   6.83181935   3.37062249  -3.01521147   4.8348767\n",
      "   9.03435865  -8.93437277  -3.52501138  -2.09114362   1.58003366\n",
      "   8.67161158  -2.14302264  -5.63945201  -3.1349975    1.19480784\n",
      "   7.68776173   1.53781507   0.62989274   5.46833574   1.12922166\n",
      "  -0.64448782   4.56872861   9.10033988   0.98304666  -1.44008789\n",
      "  -5.87470095   7.02678073  -2.86481238  10.59363357   0.60161031\n",
      "   6.37383935  -0.30376793   4.81641488   5.40863269   0.83975283\n",
      "  -5.40858776  -4.13108565   5.90564579   9.94084962  -0.70174848\n",
      "   8.8952332  -10.21300268  -2.08651778  -2.52222117  -0.49867183\n",
      "  -0.81185405  -0.30212355  -0.09892479   4.15831464   3.79755958\n",
      "  -4.01809466 -12.26048255  -3.43585967   0.15702209   1.42705458\n",
      "   0.51248759  -0.82400744  -6.68211261   7.63235475  -2.21301747\n",
      "  -4.58927136   0.5833807    0.23649408   3.05533794  -1.94527762\n",
      "   2.83990104  -1.25208333  -3.93042763   9.94843281  -6.70235786\n",
      "  -0.21704472  -1.99945168   2.86944447   0.34157095  -2.24841705\n",
      "  -2.9626811   -0.32248809  -3.5059958   -3.82323527  -3.53047545\n",
      "  -0.94031351   2.5483361   -2.57057123  -1.68658019   1.91174068\n",
      "   5.78349449], and sigma_g2 is 8931.429583591032, sigma_e2 is 0.0, h^2 is 1\n"
     ]
    }
   ],
   "source": [
    "print('beta is {}, and sigma_g2 is {}, sigma_e2 is {}, h^2 is {}'.format(beta, sigma_g2,sigma_e2, h2))"
   ]
  },
  {
   "cell_type": "code",
   "execution_count": 4,
   "metadata": {},
   "outputs": [],
   "source": [
    "from sklearn.model_selection import train_test_split\n",
    "X_tr, X_te, y_tr, y_te = train_test_split(X, y.reshape([-1,1]), test_size = 0.2, random_state = 123)"
   ]
  },
  {
   "cell_type": "code",
   "execution_count": 2,
   "metadata": {},
   "outputs": [],
   "source": [
    "from numpy.linalg import inv\n",
    "from numpy.linalg import pinv\n",
    "from numpy.linalg import LinAlgError\n",
    "from numpy.linalg import det\n",
    "\n",
    "def getInv(Matrix):\n",
    "    try:\n",
    "        inv_mat = inv(Matrix)\n",
    "    except LinAlgError:\n",
    "        print('Singluar Matrix determinant is {}'\\\n",
    "            .format(det(Matrix)))\n",
    "        inv_mat = pinv(Matrix)\n",
    "        print('shape of matrix origin {}, psesudo invserse {}'.format(Matrix.shape, inv_mat.shape))\n",
    "    return inv_mat"
   ]
  },
  {
   "cell_type": "code",
   "execution_count": 107,
   "metadata": {},
   "outputs": [],
   "source": [
    "n,p = X_tr.shape\n",
    "V = sigma_g2 / p * X_tr @ X_tr.T + sigma_e2 * np.diag(np.ones(X_tr.shape[0]))\n",
    "inverse_part = getInv(X_tr.T @ getInv(V) @ X_tr)\n",
    "K = X_tr @ X_tr.T /p\n",
    "add1 = X_tr @ inverse_part @ X_tr.T @ getInv(V)\n",
    "add2 = sigma_g2 * K @ getInv(V) @ (np.identity(n) - add1 )\n",
    "H = add1 + add2"
   ]
  },
  {
   "cell_type": "code",
   "execution_count": 110,
   "metadata": {},
   "outputs": [],
   "source": [
    "beta_hat_ols = getInv(X_tr.T @ X_tr) @ X_tr.T @y_tr\n",
    "beta_hat_wls = inverse_part @ X_tr.T @ getInv(V) @ y_tr"
   ]
  },
  {
   "cell_type": "code",
   "execution_count": 111,
   "metadata": {},
   "outputs": [
    {
     "name": "stdout",
     "output_type": "stream",
     "text": [
      "training error is 2.618477936345988e-24, ols error is 165622.10166354838, wls error is 56854.25173037212, sigma_e2 is 0.0\n"
     ]
    }
   ],
   "source": [
    "y_tr_hat = H @ y_tr\n",
    "y_tr_hat_ols = X_tr @ beta_hat_ols\n",
    "y_tr_hat_wls = X_tr @ beta_hat_wls\n",
    "tr_error = 1/n * (np.sum((y_tr - y_tr_hat)**2))\n",
    "tr_error_ols = 1/n * (np.sum((y_tr - y_tr_hat_ols)**2))\n",
    "tr_error_wls = 1/n * (np.sum((y_tr - y_tr_hat_wls)**2))\n",
    "n_te = len(y_te)\n",
    "print('training error is {}, ols error is {}, wls error is {}, sigma_e2 is {}'.format(tr_error, tr_error_ols, tr_error_wls, sigma_e2))"
   ]
  },
  {
   "cell_type": "markdown",
   "metadata": {},
   "source": [
    "### Running whole code all together"
   ]
  },
  {
   "cell_type": "code",
   "execution_count": 93,
   "metadata": {},
   "outputs": [
    {
     "name": "stdout",
     "output_type": "stream",
     "text": [
      "sigma_g2 is 89.74250481513559, sigma_e2 is 89.74250481513559, h^2 is 0.5\n",
      "training error is 101.2239989741818, ols error is 101.22399897418178, wls error is 101.22399897418177, sigma_e2 is 89.74250481513559\n",
      "The ratio is 1 : 4.004897020986129 : 4.004897020986129\n",
      "test error of LMM is 75.95, ols error is 75.95, wls error is 75.95, sigma_e2 is 89.74\n",
      "The ratio is 1.00 : 1.00 : 1.00\n"
     ]
    }
   ],
   "source": [
    "h2 = 0.5 # heritability\n",
    "n = 100\n",
    "p_minus_1 = 2\n",
    "np.random.seed(1)\n",
    "X = np.random.normal( 0,2, [n, p_minus_1])\n",
    "# X = np.random.choice([0,1,2], [n, p_minus_1])\n",
    "X = np.concatenate([np.ones([n,1]), X], axis = 1)\n",
    "beta = np.random.normal(0, 5, p_minus_1 + 1)\n",
    "sigma_g2 = np.var(X @ beta , ddof=1)\n",
    "sigma_e2 = sigma_g2 * (1 - h2)/ h2\n",
    "\n",
    "epsilon = np.random.normal(0, np.sqrt(sigma_e2), n)\n",
    "y = X @ beta + epsilon\n",
    "\n",
    "print('sigma_g2 is {}, sigma_e2 is {}, h^2 is {}'.format( sigma_g2,sigma_e2, h2))\n",
    "X_tr, X_te, y_tr, y_te = train_test_split(X, y.reshape([-1,1]), test_size = 0.2, random_state = 123)\n",
    "\n",
    "n,p = X_tr.shape\n",
    "V = sigma_g2 / p * X_tr @ X_tr.T + sigma_e2 * np.diag(np.ones(X_tr.shape[0]))\n",
    "inverse_part = getInv(X_tr.T @ getInv(V) @ X_tr)\n",
    "K = X_tr @ X_tr.T /p\n",
    "add1 = X_tr @ inverse_part @ X_tr.T @ getInv(V)\n",
    "add2 = sigma_g2 * K @ getInv(V) @ (np.identity(n) - add1 )\n",
    "H = add1 + add2\n",
    "\n",
    "beta_hat_ols = getInv(X_tr.T @ X_tr) @ X_tr.T @y_tr\n",
    "beta_hat_wls = inverse_part @ X_tr.T @ getInv(V) @ y_tr\n",
    "\n",
    "n_tr = X_tr.shape[0]\n",
    "y_tr_hat_LMM = H @ y_tr\n",
    "y_tr_hat_ols = X_tr @ beta_hat_ols\n",
    "y_tr_hat_wls = X_tr @ beta_hat_wls\n",
    "tr_error_LMM = 1/n_tr * (np.sum((y_tr - y_tr_hat_LMM)**2))\n",
    "tr_error_ols = 1/n_tr * (np.sum((y_tr - y_tr_hat_ols)**2))\n",
    "tr_error_wls = 1/n_tr * (np.sum((y_tr - y_tr_hat_wls)**2))\n",
    "n_te = len(y_te)\n",
    "print('training error is {}, ols error is {}, wls error is {}, sigma_e2 is {}'.format(tr_error_LMM, tr_error_ols, tr_error_wls, sigma_e2))\n",
    "print('The ratio is {} : {} : {}'.format(1, tr_error_ols/tr_error, tr_error_wls/tr_error))\n",
    "\n",
    "y_te_hat_ols = X_te @ beta_hat_ols\n",
    "y_te_hat_wls = X_te @ beta_hat_wls\n",
    "\n",
    "COV_tr_te = sigma_g2 * X_te @ X_tr.T\n",
    "V_inv = np.linalg.inv(V)\n",
    "y_te_hat_LMM = y_te_hat_wls + \\\n",
    "    COV_tr_te @ V_inv @ (np.identity(n_tr) - X_tr @ getInv(X_tr.T @ V_inv @ X_tr) @ X_tr.T @ V_inv) @ y_tr\n",
    "\n",
    "n_te, p = X_te.shape\n",
    "\n",
    "te_error_LMM = 1/n_te * (np.sum((y_te - y_te_hat_LMM)**2))\n",
    "te_error_ols = 1/n_te * (np.sum((y_te - y_te_hat_ols)**2))\n",
    "te_error_wls = 1/n_te * (np.sum((y_te - y_te_hat_wls)**2))\n",
    "\n",
    "print('test error of LMM is {:.2f}, ols error is {:.2f}, wls error is {:.2f}, sigma_e2 is {:.2f}'.format(te_error_LMM, te_error_ols, te_error_wls, sigma_e2))\n",
    "print('The ratio is {:.2f} : {:.2f} : {:.2f}'.format(1, te_error_ols/te_error_LMM, te_error_wls/te_error_LMM))"
   ]
  },
  {
   "cell_type": "code",
   "execution_count": 96,
   "metadata": {},
   "outputs": [
    {
     "data": {
      "text/plain": [
       "<matplotlib.legend.Legend at 0x16385395ef0>"
      ]
     },
     "execution_count": 96,
     "metadata": {},
     "output_type": "execute_result"
    },
    {
     "data": {
      "image/png": "[encoded data removed]",
      "text/plain": [
       "<Figure size 1008x576 with 1 Axes>"
      ]
     },
     "metadata": {
      "needs_background": "light"
     },
     "output_type": "display_data"
    }
   ],
   "source": [
    "# plt.scatter(X[:,1], y, color = 'red')\n",
    "plt.figure(figsize= [14,8])\n",
    "plt.scatter(X_tr[:,2], y_tr, label = \"Training\", marker='x')\n",
    "plt.scatter(X_tr[:,2], y_tr_hat_LMM, label = \"LMM\")\n",
    "plt.scatter(X_tr[:,2], y_tr_hat_ols, label = \"OLS\")\n",
    "plt.scatter(X_tr[:,2], y_tr_hat_wls, label = \"WLS\")\n",
    "plt.legend()"
   ]
  },
  {
   "cell_type": "code",
   "execution_count": null,
   "metadata": {},
   "outputs": [],
   "source": [
    "def regression(h2, n, p):\n",
    "    #h2 heritability\n",
    "    p_minus_1 = p-1\n",
    "    np.random.seed(1)\n",
    "    X = np.random.normal( 0,2, [n, p_minus_1])\n",
    "    # X = np.random.choice([0,1,2], [n, p_minus_1])\n",
    "    X = np.concatenate([np.ones([n,1]), X], axis = 1)\n",
    "    beta = np.random.normal(0, 5, p_minus_1 + 1)\n",
    "    sigma_g2 = np.var(X @ beta , ddof=1)\n",
    "    sigma_e2 = sigma_g2 * (1 - h2)/ h2\n",
    "\n",
    "    epsilon = np.random.normal(0, np.sqrt(sigma_e2), n)\n",
    "    y = X @ beta + epsilon\n",
    "\n",
    "    print('sigma_g2 is {}, sigma_e2 is {}, h^2 is {}'.format( sigma_g2,sigma_e2, h2))\n",
    "    X_tr, X_te, y_tr, y_te = train_test_split(X, y.reshape([-1,1]), test_size = 0.2, random_state = 123)\n",
    "\n",
    "    n,p = X_tr.shape\n",
    "    V = sigma_g2 / p * X_tr @ X_tr.T + sigma_e2 * np.diag(np.ones(X_tr.shape[0]))\n",
    "    inverse_part = getInv(X_tr.T @ getInv(V) @ X_tr)\n",
    "    K = X_tr @ X_tr.T /p\n",
    "    add1 = X_tr @ inverse_part @ X_tr.T @ getInv(V)\n",
    "    add2 = sigma_g2 * K @ getInv(V) @ (np.identity(n) - add1 )\n",
    "    H = add1 + add2\n",
    "\n",
    "    beta_hat_ols = getInv(X_tr.T @ X_tr) @ X_tr.T @y_tr\n",
    "    beta_hat_wls = inverse_part @ X_tr.T @ getInv(V) @ y_tr\n",
    "\n",
    "    n_tr = X_tr.shape[0]\n",
    "    y_tr_hat_LMM = H @ y_tr\n",
    "    y_tr_hat_ols = X_tr @ beta_hat_ols\n",
    "    y_tr_hat_wls = X_tr @ beta_hat_wls\n",
    "    tr_error_LMM = 1/n_tr * (np.sum((y_tr - y_tr_hat_LMM)**2))\n",
    "    tr_error_ols = 1/n_tr * (np.sum((y_tr - y_tr_hat_ols)**2))\n",
    "    tr_error_wls = 1/n_tr * (np.sum((y_tr - y_tr_hat_wls)**2))\n",
    "    n_te = len(y_te)\n",
    "    # print('training error is {}, ols error is {}, wls error is {}, sigma_e2 is {}'.format(tr_error_LMM, tr_error_ols, tr_error_wls, sigma_e2))\n",
    "    # print('The ratio is {} : {} : {}'.format(1, tr_error_ols/tr_error, tr_error_wls/tr_error))\n",
    "\n",
    "    y_te_hat_ols = X_te @ beta_hat_ols\n",
    "    y_te_hat_wls = X_te @ beta_hat_wls\n",
    "\n",
    "    COV_tr_te = sigma_g2 * X_te @ X_tr.T\n",
    "    V_inv = np.linalg.inv(V)\n",
    "    y_te_hat_LMM = y_te_hat_wls + \\\n",
    "        COV_tr_te @ V_inv @ (np.identity(n_tr) - X_tr @ getInv(X_tr.T @ V_inv @ X_tr) @ X_tr.T @ V_inv) @ y_tr\n",
    "\n",
    "    n_te, p = X_te.shape\n",
    "\n",
    "    te_error_LMM = 1/n_te * (np.sum((y_te - y_te_hat_LMM)**2))\n",
    "    te_error_ols = 1/n_te * (np.sum((y_te - y_te_hat_ols)**2))\n",
    "    te_error_wls = 1/n_te * (np.sum((y_te - y_te_hat_wls)**2))\n",
    "\n",
    "    # print('test error of LMM is {:.2f}, ols error is {:.2f}, wls error is {:.2f}, sigma_e2 is {:.2f}'.format(te_error_LMM, te_error_ols, te_error_wls, sigma_e2))\n",
    "    # print('The ratio is {:.2f} : {:.2f} : {:.2f}'.format(1, te_error_ols/te_error_LMM, te_error_wls/te_error_LMM))\n",
    "    return tr_error_LMM, tr_error_ols, tr_error_wls, te_error_LMM, te_error_ols, te_error_wls, sigma_e2"
   ]
  },
  {
   "cell_type": "code",
   "execution_count": 84,
   "metadata": {},
   "outputs": [
    {
     "name": "stdout",
     "output_type": "stream",
     "text": [
      "sigma_g2 is 3.187316788771765e-30, sigma_e2 is 3.187316788771765e-30, h^2 is 0.5\n",
      "sigma_g2 is 118.66638012921187, sigma_e2 is 118.66638012921187, h^2 is 0.5\n",
      "sigma_g2 is 164.79010286685548, sigma_e2 is 164.79010286685548, h^2 is 0.5\n",
      "sigma_g2 is 1144.9133953887037, sigma_e2 is 1144.9133953887037, h^2 is 0.5\n",
      "sigma_g2 is 1392.1151635754272, sigma_e2 is 1392.1151635754272, h^2 is 0.5\n",
      "sigma_g2 is 1740.9380182551324, sigma_e2 is 1740.9380182551324, h^2 is 0.5\n",
      "sigma_g2 is 5106.330095761481, sigma_e2 is 5106.330095761481, h^2 is 0.5\n",
      "sigma_g2 is 7502.644555758893, sigma_e2 is 7502.644555758893, h^2 is 0.5\n",
      "sigma_g2 is 9128.841934969974, sigma_e2 is 9128.841934969974, h^2 is 0.5\n",
      "sigma_g2 is 6647.24023941449, sigma_e2 is 6647.24023941449, h^2 is 0.5\n",
      "sigma_g2 is 8313.988744518523, sigma_e2 is 8313.988744518523, h^2 is 0.5\n",
      "sigma_g2 is 8721.114175325663, sigma_e2 is 8721.114175325663, h^2 is 0.5\n",
      "sigma_g2 is 10248.27241003183, sigma_e2 is 10248.27241003183, h^2 is 0.5\n",
      "sigma_g2 is 10580.219229939303, sigma_e2 is 10580.219229939303, h^2 is 0.5\n",
      "sigma_g2 is 12516.94183714336, sigma_e2 is 12516.94183714336, h^2 is 0.5\n"
     ]
    }
   ],
   "source": [
    "p_list = [1,2,5, 10,  20,30, 40, 50, 60, 70, 80, 90, 100, 110 , 120]\n",
    "tr_LMM_list, tr_ols_list, tr_wls_list, te_LMM_list, te_ols_list, te_wls_list = [],[],[],[],[],[]\n",
    "tr_ratio_ols_LMM, tr_ratio_wls_LMM, te_ratio_ols_LMM, te_ratio_wls_LMM = [],[],[],[]\n",
    "sigma_e2_list = []\n",
    "for p in p_list:\n",
    "    ret = regression(0.5, 100, p)\n",
    "    tr_LMM_list.append(ret[0])\n",
    "    tr_ols_list.append(ret[1])\n",
    "    tr_wls_list.append(ret[2])\n",
    "    te_LMM_list.append(ret[3])\n",
    "    te_ols_list.append(ret[4])\n",
    "    te_wls_list.append(ret[5])\n",
    "    sigma_e2_list.append(ret[6])\n",
    "\n",
    "    tr_ratio_ols_LMM.append(ret[1]/ret[0])\n",
    "    tr_ratio_wls_LMM.append(ret[2]/ret[0])\n",
    "    te_ratio_ols_LMM.append(ret[4]/ret[3])\n",
    "    te_ratio_wls_LMM.append(ret[5]/ret[3])\n",
    "    "
   ]
  },
  {
   "cell_type": "code",
   "execution_count": 87,
   "metadata": {},
   "outputs": [
    {
     "data": {
      "text/plain": [
       "<matplotlib.legend.Legend at 0x16386949908>"
      ]
     },
     "execution_count": 87,
     "metadata": {},
     "output_type": "execute_result"
    },
    {
     "data": {
      "image/png": "[encoded data removed]",
      "text/plain": [
       "<Figure size 432x288 with 1 Axes>"
      ]
     },
     "metadata": {
      "needs_background": "light"
     },
     "output_type": "display_data"
    }
   ],
   "source": [
    "plt.plot(p_list[-5:], tr_LMM_list[-5:], label = \"LMM\")\n",
    "plt.plot(p_list[-5:], tr_ols_list[-5:], label = \"ols\")\n",
    "plt.plot(p_list[-5:], tr_wls_list[-5:], label = \"wls\")\n",
    "plt.plot(p_list[-5:], sigma_e2_list[-5:], label = \"sigma_e2\")\n",
    "plt.legend()"
   ]
  }
 ],
 "metadata": {
  "kernelspec": {
   "display_name": "Python 3.7.3 64-bit",
   "language": "python",
   "name": "python3"
  },
  "language_info": {
   "codemirror_mode": {
    "name": "ipython",
    "version": 3
   },
   "file_extension": ".py",
   "mimetype": "text/x-python",
   "name": "python",
   "nbconvert_exporter": "python",
   "pygments_lexer": "ipython3",
   "version": "3.7.3"
  },
  "orig_nbformat": 4,
  "vscode": {
   "interpreter": {
    "hash": "5109d816b82be14675a6b11f8e0f0d2e80f029176ed3710d54e125caa8520dfd"
   }
  }
 },
 "nbformat": 4,
 "nbformat_minor": 2
}
