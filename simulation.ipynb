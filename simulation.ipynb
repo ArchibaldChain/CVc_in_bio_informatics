{
 "cells": [
  {
   "cell_type": "markdown",
   "metadata": {},
   "source": [
    "# Simulation"
   ]
  },
  {
   "cell_type": "markdown",
   "metadata": {},
   "source": [
    "## Simulate the Pheno-type data"
   ]
  },
  {
   "cell_type": "markdown",
   "metadata": {},
   "source": [
    "### 1. Choose $n = 20$ genes"
   ]
  },
  {
   "cell_type": "code",
   "execution_count": 1,
   "metadata": {},
   "outputs": [],
   "source": [
    "import numpy as np\n",
    "import pandas as pd\n",
    "import os"
   ]
  },
  {
   "cell_type": "code",
   "execution_count": 20,
   "metadata": {},
   "outputs": [
    {
     "name": "stdout",
     "output_type": "stream",
     "text": [
      "e:\\OneDrive\\Programming\\Python\\bio_informatics\n",
      "['a.txt', 'Chr1First2000 - 副本.vcf', 'Chr1First2000.vcf', 'eg.vcf', 'filtered_test.vcf', 'selected_genes.csv', 'SNP_in_200GENE_chr1.csv', 'SNP_in_20GENE_chr1.csv', 'test.csv']\n"
     ]
    },
    {
     "name": "stderr",
     "output_type": "stream",
     "text": [
      "C:\\Users\\Archibald\\AppData\\Local\\Temp\\ipykernel_29016\\2278546344.py:4: FutureWarning: The error_bad_lines argument has been deprecated and will be removed in a future version. Use on_bad_lines in the future.\n",
      "\n",
      "\n",
      "  data = pd.read_csv(file, error_bad_lines=False)\n"
     ]
    }
   ],
   "source": [
    "print(os.getcwd())\n",
    "print(os.listdir('./data'))\n",
    "file = 'data/SNP_in_200GENE_chr1.csv'\n",
    "data = pd.read_csv(file, error_bad_lines=False)\n"
   ]
  },
  {
   "cell_type": "code",
   "execution_count": 21,
   "metadata": {},
   "outputs": [
    {
     "name": "stdout",
     "output_type": "stream",
     "text": [
      "10297\n"
     ]
    },
    {
     "data": {
      "text/html": [
       "<div>\n",
       "<style scoped>\n",
       "    .dataframe tbody tr th:only-of-type {\n",
       "        vertical-align: middle;\n",
       "    }\n",
       "\n",
       "    .dataframe tbody tr th {\n",
       "        vertical-align: top;\n",
       "    }\n",
       "\n",
       "    .dataframe thead th {\n",
       "        text-align: right;\n",
       "    }\n",
       "</style>\n",
       "<table border=\"1\" class=\"dataframe\">\n",
       "  <thead>\n",
       "    <tr style=\"text-align: right;\">\n",
       "      <th></th>\n",
       "      <th>GENE</th>\n",
       "      <th>POS</th>\n",
       "      <th>HG00096</th>\n",
       "      <th>HG00097</th>\n",
       "      <th>HG00099</th>\n",
       "      <th>HG00100</th>\n",
       "      <th>HG00101</th>\n",
       "      <th>HG00102</th>\n",
       "      <th>HG00103</th>\n",
       "      <th>HG00104</th>\n",
       "      <th>...</th>\n",
       "      <th>NA21128</th>\n",
       "      <th>NA21129</th>\n",
       "      <th>NA21130</th>\n",
       "      <th>NA21133</th>\n",
       "      <th>NA21135</th>\n",
       "      <th>NA21137</th>\n",
       "      <th>NA21141</th>\n",
       "      <th>NA21142</th>\n",
       "      <th>NA21143</th>\n",
       "      <th>NA21144</th>\n",
       "    </tr>\n",
       "  </thead>\n",
       "  <tbody>\n",
       "    <tr>\n",
       "      <th>0</th>\n",
       "      <td>ENSG00000227634</td>\n",
       "      <td>8269039</td>\n",
       "      <td>2</td>\n",
       "      <td>2</td>\n",
       "      <td>1</td>\n",
       "      <td>2</td>\n",
       "      <td>2</td>\n",
       "      <td>1</td>\n",
       "      <td>1</td>\n",
       "      <td>2</td>\n",
       "      <td>...</td>\n",
       "      <td>1</td>\n",
       "      <td>2</td>\n",
       "      <td>1</td>\n",
       "      <td>2</td>\n",
       "      <td>1</td>\n",
       "      <td>2</td>\n",
       "      <td>2</td>\n",
       "      <td>1</td>\n",
       "      <td>2</td>\n",
       "      <td>1</td>\n",
       "    </tr>\n",
       "    <tr>\n",
       "      <th>1</th>\n",
       "      <td>ENSG00000227634</td>\n",
       "      <td>8269341</td>\n",
       "      <td>0</td>\n",
       "      <td>0</td>\n",
       "      <td>0</td>\n",
       "      <td>0</td>\n",
       "      <td>0</td>\n",
       "      <td>0</td>\n",
       "      <td>0</td>\n",
       "      <td>0</td>\n",
       "      <td>...</td>\n",
       "      <td>0</td>\n",
       "      <td>0</td>\n",
       "      <td>0</td>\n",
       "      <td>0</td>\n",
       "      <td>0</td>\n",
       "      <td>0</td>\n",
       "      <td>0</td>\n",
       "      <td>0</td>\n",
       "      <td>0</td>\n",
       "      <td>0</td>\n",
       "    </tr>\n",
       "    <tr>\n",
       "      <th>2</th>\n",
       "      <td>ENSG00000227634</td>\n",
       "      <td>8269373</td>\n",
       "      <td>2</td>\n",
       "      <td>2</td>\n",
       "      <td>1</td>\n",
       "      <td>2</td>\n",
       "      <td>2</td>\n",
       "      <td>1</td>\n",
       "      <td>1</td>\n",
       "      <td>2</td>\n",
       "      <td>...</td>\n",
       "      <td>1</td>\n",
       "      <td>2</td>\n",
       "      <td>1</td>\n",
       "      <td>2</td>\n",
       "      <td>1</td>\n",
       "      <td>2</td>\n",
       "      <td>2</td>\n",
       "      <td>1</td>\n",
       "      <td>2</td>\n",
       "      <td>1</td>\n",
       "    </tr>\n",
       "    <tr>\n",
       "      <th>3</th>\n",
       "      <td>ENSG00000227634</td>\n",
       "      <td>8269650</td>\n",
       "      <td>2</td>\n",
       "      <td>2</td>\n",
       "      <td>1</td>\n",
       "      <td>2</td>\n",
       "      <td>2</td>\n",
       "      <td>1</td>\n",
       "      <td>1</td>\n",
       "      <td>2</td>\n",
       "      <td>...</td>\n",
       "      <td>1</td>\n",
       "      <td>2</td>\n",
       "      <td>1</td>\n",
       "      <td>1</td>\n",
       "      <td>1</td>\n",
       "      <td>2</td>\n",
       "      <td>2</td>\n",
       "      <td>1</td>\n",
       "      <td>2</td>\n",
       "      <td>1</td>\n",
       "    </tr>\n",
       "    <tr>\n",
       "      <th>4</th>\n",
       "      <td>ENSG00000227634</td>\n",
       "      <td>8269712</td>\n",
       "      <td>0</td>\n",
       "      <td>0</td>\n",
       "      <td>0</td>\n",
       "      <td>0</td>\n",
       "      <td>0</td>\n",
       "      <td>0</td>\n",
       "      <td>0</td>\n",
       "      <td>0</td>\n",
       "      <td>...</td>\n",
       "      <td>0</td>\n",
       "      <td>0</td>\n",
       "      <td>0</td>\n",
       "      <td>0</td>\n",
       "      <td>0</td>\n",
       "      <td>0</td>\n",
       "      <td>0</td>\n",
       "      <td>0</td>\n",
       "      <td>0</td>\n",
       "      <td>0</td>\n",
       "    </tr>\n",
       "  </tbody>\n",
       "</table>\n",
       "<p>5 rows × 2550 columns</p>\n",
       "</div>"
      ],
      "text/plain": [
       "              GENE      POS  HG00096  HG00097  HG00099  HG00100  HG00101  \\\n",
       "0  ENSG00000227634  8269039        2        2        1        2        2   \n",
       "1  ENSG00000227634  8269341        0        0        0        0        0   \n",
       "2  ENSG00000227634  8269373        2        2        1        2        2   \n",
       "3  ENSG00000227634  8269650        2        2        1        2        2   \n",
       "4  ENSG00000227634  8269712        0        0        0        0        0   \n",
       "\n",
       "   HG00102  HG00103  HG00104  ...  NA21128  NA21129  NA21130  NA21133  \\\n",
       "0        1        1        2  ...        1        2        1        2   \n",
       "1        0        0        0  ...        0        0        0        0   \n",
       "2        1        1        2  ...        1        2        1        2   \n",
       "3        1        1        2  ...        1        2        1        1   \n",
       "4        0        0        0  ...        0        0        0        0   \n",
       "\n",
       "   NA21135  NA21137  NA21141  NA21142  NA21143  NA21144  \n",
       "0        1        2        2        1        2        1  \n",
       "1        0        0        0        0        0        0  \n",
       "2        1        2        2        1        2        1  \n",
       "3        1        2        2        1        2        1  \n",
       "4        0        0        0        0        0        0  \n",
       "\n",
       "[5 rows x 2550 columns]"
      ]
     },
     "execution_count": 21,
     "metadata": {},
     "output_type": "execute_result"
    }
   ],
   "source": [
    "print(len(data))\n",
    "data.head()"
   ]
  },
  {
   "cell_type": "code",
   "execution_count": 22,
   "metadata": {},
   "outputs": [
    {
     "data": {
      "text/html": [
       "<div>\n",
       "<style scoped>\n",
       "    .dataframe tbody tr th:only-of-type {\n",
       "        vertical-align: middle;\n",
       "    }\n",
       "\n",
       "    .dataframe tbody tr th {\n",
       "        vertical-align: top;\n",
       "    }\n",
       "\n",
       "    .dataframe thead th {\n",
       "        text-align: right;\n",
       "    }\n",
       "</style>\n",
       "<table border=\"1\" class=\"dataframe\">\n",
       "  <thead>\n",
       "    <tr style=\"text-align: right;\">\n",
       "      <th></th>\n",
       "      <th>GENE</th>\n",
       "      <th>POS</th>\n",
       "      <th>HG00096</th>\n",
       "      <th>HG00097</th>\n",
       "      <th>HG00099</th>\n",
       "      <th>HG00100</th>\n",
       "      <th>HG00101</th>\n",
       "      <th>HG00102</th>\n",
       "      <th>HG00103</th>\n",
       "      <th>HG00104</th>\n",
       "      <th>...</th>\n",
       "      <th>NA21129</th>\n",
       "      <th>NA21130</th>\n",
       "      <th>NA21133</th>\n",
       "      <th>NA21135</th>\n",
       "      <th>NA21137</th>\n",
       "      <th>NA21141</th>\n",
       "      <th>NA21142</th>\n",
       "      <th>NA21143</th>\n",
       "      <th>NA21144</th>\n",
       "      <th>gene</th>\n",
       "    </tr>\n",
       "  </thead>\n",
       "  <tbody>\n",
       "    <tr>\n",
       "      <th>0</th>\n",
       "      <td>ENSG00000227634</td>\n",
       "      <td>8269039</td>\n",
       "      <td>2</td>\n",
       "      <td>2</td>\n",
       "      <td>1</td>\n",
       "      <td>2</td>\n",
       "      <td>2</td>\n",
       "      <td>1</td>\n",
       "      <td>1</td>\n",
       "      <td>2</td>\n",
       "      <td>...</td>\n",
       "      <td>2</td>\n",
       "      <td>1</td>\n",
       "      <td>2</td>\n",
       "      <td>1</td>\n",
       "      <td>2</td>\n",
       "      <td>2</td>\n",
       "      <td>1</td>\n",
       "      <td>2</td>\n",
       "      <td>1</td>\n",
       "      <td>ENSG00000227634</td>\n",
       "    </tr>\n",
       "    <tr>\n",
       "      <th>1</th>\n",
       "      <td>ENSG00000227634</td>\n",
       "      <td>8269341</td>\n",
       "      <td>0</td>\n",
       "      <td>0</td>\n",
       "      <td>0</td>\n",
       "      <td>0</td>\n",
       "      <td>0</td>\n",
       "      <td>0</td>\n",
       "      <td>0</td>\n",
       "      <td>0</td>\n",
       "      <td>...</td>\n",
       "      <td>0</td>\n",
       "      <td>0</td>\n",
       "      <td>0</td>\n",
       "      <td>0</td>\n",
       "      <td>0</td>\n",
       "      <td>0</td>\n",
       "      <td>0</td>\n",
       "      <td>0</td>\n",
       "      <td>0</td>\n",
       "      <td>ENSG00000227634</td>\n",
       "    </tr>\n",
       "    <tr>\n",
       "      <th>2</th>\n",
       "      <td>ENSG00000227634</td>\n",
       "      <td>8269373</td>\n",
       "      <td>2</td>\n",
       "      <td>2</td>\n",
       "      <td>1</td>\n",
       "      <td>2</td>\n",
       "      <td>2</td>\n",
       "      <td>1</td>\n",
       "      <td>1</td>\n",
       "      <td>2</td>\n",
       "      <td>...</td>\n",
       "      <td>2</td>\n",
       "      <td>1</td>\n",
       "      <td>2</td>\n",
       "      <td>1</td>\n",
       "      <td>2</td>\n",
       "      <td>2</td>\n",
       "      <td>1</td>\n",
       "      <td>2</td>\n",
       "      <td>1</td>\n",
       "      <td>ENSG00000227634</td>\n",
       "    </tr>\n",
       "    <tr>\n",
       "      <th>3</th>\n",
       "      <td>ENSG00000227634</td>\n",
       "      <td>8269650</td>\n",
       "      <td>2</td>\n",
       "      <td>2</td>\n",
       "      <td>1</td>\n",
       "      <td>2</td>\n",
       "      <td>2</td>\n",
       "      <td>1</td>\n",
       "      <td>1</td>\n",
       "      <td>2</td>\n",
       "      <td>...</td>\n",
       "      <td>2</td>\n",
       "      <td>1</td>\n",
       "      <td>1</td>\n",
       "      <td>1</td>\n",
       "      <td>2</td>\n",
       "      <td>2</td>\n",
       "      <td>1</td>\n",
       "      <td>2</td>\n",
       "      <td>1</td>\n",
       "      <td>ENSG00000227634</td>\n",
       "    </tr>\n",
       "    <tr>\n",
       "      <th>4</th>\n",
       "      <td>ENSG00000227634</td>\n",
       "      <td>8269712</td>\n",
       "      <td>0</td>\n",
       "      <td>0</td>\n",
       "      <td>0</td>\n",
       "      <td>0</td>\n",
       "      <td>0</td>\n",
       "      <td>0</td>\n",
       "      <td>0</td>\n",
       "      <td>0</td>\n",
       "      <td>...</td>\n",
       "      <td>0</td>\n",
       "      <td>0</td>\n",
       "      <td>0</td>\n",
       "      <td>0</td>\n",
       "      <td>0</td>\n",
       "      <td>0</td>\n",
       "      <td>0</td>\n",
       "      <td>0</td>\n",
       "      <td>0</td>\n",
       "      <td>ENSG00000227634</td>\n",
       "    </tr>\n",
       "  </tbody>\n",
       "</table>\n",
       "<p>5 rows × 2551 columns</p>\n",
       "</div>"
      ],
      "text/plain": [
       "              GENE      POS  HG00096  HG00097  HG00099  HG00100  HG00101  \\\n",
       "0  ENSG00000227634  8269039        2        2        1        2        2   \n",
       "1  ENSG00000227634  8269341        0        0        0        0        0   \n",
       "2  ENSG00000227634  8269373        2        2        1        2        2   \n",
       "3  ENSG00000227634  8269650        2        2        1        2        2   \n",
       "4  ENSG00000227634  8269712        0        0        0        0        0   \n",
       "\n",
       "   HG00102  HG00103  HG00104  ...  NA21129  NA21130  NA21133  NA21135  \\\n",
       "0        1        1        2  ...        2        1        2        1   \n",
       "1        0        0        0  ...        0        0        0        0   \n",
       "2        1        1        2  ...        2        1        2        1   \n",
       "3        1        1        2  ...        2        1        1        1   \n",
       "4        0        0        0  ...        0        0        0        0   \n",
       "\n",
       "   NA21137  NA21141  NA21142  NA21143  NA21144             gene  \n",
       "0        2        2        1        2        1  ENSG00000227634  \n",
       "1        0        0        0        0        0  ENSG00000227634  \n",
       "2        2        2        1        2        1  ENSG00000227634  \n",
       "3        2        2        1        2        1  ENSG00000227634  \n",
       "4        0        0        0        0        0  ENSG00000227634  \n",
       "\n",
       "[5 rows x 2551 columns]"
      ]
     },
     "execution_count": 22,
     "metadata": {},
     "output_type": "execute_result"
    }
   ],
   "source": [
    "data['gene'] = data.GENE.astype('category')\n",
    "data.head()"
   ]
  },
  {
   "cell_type": "code",
   "execution_count": 23,
   "metadata": {},
   "outputs": [
    {
     "data": {
      "text/plain": [
       "gene\n",
       "ENSG00000001461    [ENSG00000001461]\n",
       "ENSG00000018625    [ENSG00000018625]\n",
       "ENSG00000084070    [ENSG00000084070]\n",
       "ENSG00000084072    [ENSG00000084072]\n",
       "ENSG00000116147    [ENSG00000116147]\n",
       "                         ...        \n",
       "ENSG00000268172    [ENSG00000268172]\n",
       "ENSG00000271647    [ENSG00000271647]\n",
       "ENSG00000271810    [ENSG00000271810]\n",
       "ENSG00000272084    [ENSG00000272084]\n",
       "ENSG00000273002    [ENSG00000273002]\n",
       "Name: GENE, Length: 136, dtype: object"
      ]
     },
     "execution_count": 23,
     "metadata": {},
     "output_type": "execute_result"
    }
   ],
   "source": [
    "data.groupby('gene').GENE.unique().sort_values()"
   ]
  },
  {
   "cell_type": "code",
   "execution_count": 24,
   "metadata": {},
   "outputs": [
    {
     "name": "stdout",
     "output_type": "stream",
     "text": [
      "CategoricalIndex(['ENSG00000116704', 'ENSG00000162378', 'ENSG00000162374',\n",
      "                  'ENSG00000168710', 'ENSG00000121644', 'ENSG00000116353',\n",
      "                  'ENSG00000237413', 'ENSG00000143190', 'ENSG00000203739',\n",
      "                  'ENSG00000134198', 'ENSG00000153207', 'ENSG00000229956',\n",
      "                  'ENSG00000198198', 'ENSG00000172380', 'ENSG00000143702',\n",
      "                  'ENSG00000225006', 'ENSG00000117461', 'ENSG00000117602',\n",
      "                  'ENSG00000143344', 'ENSG00000162688'],\n",
      "                 categories=['ENSG00000001461', 'ENSG00000018625', 'ENSG00000084070', 'ENSG00000084072', 'ENSG00000116147', 'ENSG00000116353', 'ENSG00000116497', 'ENSG00000116704', ...], ordered=False, dtype='category', name='gene')\n"
     ]
    }
   ],
   "source": [
    "# Selecting 20 Genes that have more than 100 SNPs\n",
    "n = 20\n",
    "counts = data.groupby('gene').size().sort_values(ascending=False) \n",
    "groups = counts[counts > 100].sample(n, replace = False, random_state = 1 ).index\n",
    "\n",
    "print(groups)"
   ]
  },
  {
   "cell_type": "code",
   "execution_count": 25,
   "metadata": {},
   "outputs": [
    {
     "name": "stdout",
     "output_type": "stream",
     "text": [
      "5443\n"
     ]
    },
    {
     "data": {
      "text/html": [
       "<div>\n",
       "<style scoped>\n",
       "    .dataframe tbody tr th:only-of-type {\n",
       "        vertical-align: middle;\n",
       "    }\n",
       "\n",
       "    .dataframe tbody tr th {\n",
       "        vertical-align: top;\n",
       "    }\n",
       "\n",
       "    .dataframe thead th {\n",
       "        text-align: right;\n",
       "    }\n",
       "</style>\n",
       "<table border=\"1\" class=\"dataframe\">\n",
       "  <thead>\n",
       "    <tr style=\"text-align: right;\">\n",
       "      <th></th>\n",
       "      <th>GENE</th>\n",
       "      <th>POS</th>\n",
       "      <th>HG00096</th>\n",
       "      <th>HG00097</th>\n",
       "      <th>HG00099</th>\n",
       "      <th>HG00100</th>\n",
       "      <th>HG00101</th>\n",
       "      <th>HG00102</th>\n",
       "      <th>HG00103</th>\n",
       "      <th>HG00104</th>\n",
       "      <th>...</th>\n",
       "      <th>NA21129</th>\n",
       "      <th>NA21130</th>\n",
       "      <th>NA21133</th>\n",
       "      <th>NA21135</th>\n",
       "      <th>NA21137</th>\n",
       "      <th>NA21141</th>\n",
       "      <th>NA21142</th>\n",
       "      <th>NA21143</th>\n",
       "      <th>NA21144</th>\n",
       "      <th>gene</th>\n",
       "    </tr>\n",
       "  </thead>\n",
       "  <tbody>\n",
       "    <tr>\n",
       "      <th>331</th>\n",
       "      <td>ENSG00000117602</td>\n",
       "      <td>24830297</td>\n",
       "      <td>2</td>\n",
       "      <td>2</td>\n",
       "      <td>2</td>\n",
       "      <td>2</td>\n",
       "      <td>2</td>\n",
       "      <td>2</td>\n",
       "      <td>2</td>\n",
       "      <td>2</td>\n",
       "      <td>...</td>\n",
       "      <td>2</td>\n",
       "      <td>2</td>\n",
       "      <td>2</td>\n",
       "      <td>2</td>\n",
       "      <td>2</td>\n",
       "      <td>2</td>\n",
       "      <td>2</td>\n",
       "      <td>2</td>\n",
       "      <td>2</td>\n",
       "      <td>ENSG00000117602</td>\n",
       "    </tr>\n",
       "    <tr>\n",
       "      <th>332</th>\n",
       "      <td>ENSG00000117602</td>\n",
       "      <td>24831517</td>\n",
       "      <td>2</td>\n",
       "      <td>2</td>\n",
       "      <td>2</td>\n",
       "      <td>2</td>\n",
       "      <td>2</td>\n",
       "      <td>2</td>\n",
       "      <td>2</td>\n",
       "      <td>2</td>\n",
       "      <td>...</td>\n",
       "      <td>2</td>\n",
       "      <td>2</td>\n",
       "      <td>2</td>\n",
       "      <td>2</td>\n",
       "      <td>2</td>\n",
       "      <td>2</td>\n",
       "      <td>2</td>\n",
       "      <td>2</td>\n",
       "      <td>2</td>\n",
       "      <td>ENSG00000117602</td>\n",
       "    </tr>\n",
       "    <tr>\n",
       "      <th>333</th>\n",
       "      <td>ENSG00000117602</td>\n",
       "      <td>24832009</td>\n",
       "      <td>2</td>\n",
       "      <td>2</td>\n",
       "      <td>1</td>\n",
       "      <td>0</td>\n",
       "      <td>1</td>\n",
       "      <td>2</td>\n",
       "      <td>2</td>\n",
       "      <td>1</td>\n",
       "      <td>...</td>\n",
       "      <td>1</td>\n",
       "      <td>2</td>\n",
       "      <td>2</td>\n",
       "      <td>0</td>\n",
       "      <td>2</td>\n",
       "      <td>2</td>\n",
       "      <td>1</td>\n",
       "      <td>0</td>\n",
       "      <td>0</td>\n",
       "      <td>ENSG00000117602</td>\n",
       "    </tr>\n",
       "    <tr>\n",
       "      <th>334</th>\n",
       "      <td>ENSG00000117602</td>\n",
       "      <td>24835018</td>\n",
       "      <td>2</td>\n",
       "      <td>2</td>\n",
       "      <td>1</td>\n",
       "      <td>2</td>\n",
       "      <td>2</td>\n",
       "      <td>1</td>\n",
       "      <td>1</td>\n",
       "      <td>1</td>\n",
       "      <td>...</td>\n",
       "      <td>2</td>\n",
       "      <td>1</td>\n",
       "      <td>2</td>\n",
       "      <td>2</td>\n",
       "      <td>2</td>\n",
       "      <td>2</td>\n",
       "      <td>2</td>\n",
       "      <td>2</td>\n",
       "      <td>2</td>\n",
       "      <td>ENSG00000117602</td>\n",
       "    </tr>\n",
       "    <tr>\n",
       "      <th>335</th>\n",
       "      <td>ENSG00000117602</td>\n",
       "      <td>24835171</td>\n",
       "      <td>0</td>\n",
       "      <td>0</td>\n",
       "      <td>1</td>\n",
       "      <td>2</td>\n",
       "      <td>1</td>\n",
       "      <td>0</td>\n",
       "      <td>0</td>\n",
       "      <td>1</td>\n",
       "      <td>...</td>\n",
       "      <td>1</td>\n",
       "      <td>0</td>\n",
       "      <td>0</td>\n",
       "      <td>2</td>\n",
       "      <td>0</td>\n",
       "      <td>0</td>\n",
       "      <td>1</td>\n",
       "      <td>2</td>\n",
       "      <td>2</td>\n",
       "      <td>ENSG00000117602</td>\n",
       "    </tr>\n",
       "  </tbody>\n",
       "</table>\n",
       "<p>5 rows × 2551 columns</p>\n",
       "</div>"
      ],
      "text/plain": [
       "                GENE       POS  HG00096  HG00097  HG00099  HG00100  HG00101  \\\n",
       "331  ENSG00000117602  24830297        2        2        2        2        2   \n",
       "332  ENSG00000117602  24831517        2        2        2        2        2   \n",
       "333  ENSG00000117602  24832009        2        2        1        0        1   \n",
       "334  ENSG00000117602  24835018        2        2        1        2        2   \n",
       "335  ENSG00000117602  24835171        0        0        1        2        1   \n",
       "\n",
       "     HG00102  HG00103  HG00104  ...  NA21129  NA21130  NA21133  NA21135  \\\n",
       "331        2        2        2  ...        2        2        2        2   \n",
       "332        2        2        2  ...        2        2        2        2   \n",
       "333        2        2        1  ...        1        2        2        0   \n",
       "334        1        1        1  ...        2        1        2        2   \n",
       "335        0        0        1  ...        1        0        0        2   \n",
       "\n",
       "     NA21137  NA21141  NA21142  NA21143  NA21144             gene  \n",
       "331        2        2        2        2        2  ENSG00000117602  \n",
       "332        2        2        2        2        2  ENSG00000117602  \n",
       "333        2        2        1        0        0  ENSG00000117602  \n",
       "334        2        2        2        2        2  ENSG00000117602  \n",
       "335        0        0        1        2        2  ENSG00000117602  \n",
       "\n",
       "[5 rows x 2551 columns]"
      ]
     },
     "execution_count": 25,
     "metadata": {},
     "output_type": "execute_result"
    }
   ],
   "source": [
    "index = [i for i,x in enumerate(data['gene']) if x in groups]\n",
    "data_selected = data.iloc[index, :]\n",
    "print(len(data_selected))\n",
    "data_selected.head()"
   ]
  },
  {
   "cell_type": "code",
   "execution_count": 26,
   "metadata": {},
   "outputs": [
    {
     "data": {
      "text/plain": [
       "(5443, 2551)"
      ]
     },
     "execution_count": 26,
     "metadata": {},
     "output_type": "execute_result"
    }
   ],
   "source": [
    "data_selected.shape"
   ]
  },
  {
   "cell_type": "code",
   "execution_count": 32,
   "metadata": {},
   "outputs": [
    {
     "name": "stderr",
     "output_type": "stream",
     "text": [
      "C:\\Users\\Archibald\\AppData\\Local\\Temp\\ipykernel_29016\\486112115.py:4: SettingWithCopyWarning: \n",
      "A value is trying to be set on a copy of a slice from a DataFrame.\n",
      "Try using .loc[row_indexer,col_indexer] = value instead\n",
      "\n",
      "See the caveats in the documentation: https://pandas.pydata.org/pandas-docs/stable/user_guide/indexing.html#returning-a-view-versus-a-copy\n",
      "  data_selected['sign'] = 0\n"
     ]
    }
   ],
   "source": [
    "# get the group names\n",
    "gene_names = list(data_selected.gene.unique())\n",
    "\n",
    "data_selected['sign'] = 0\n",
    "\n",
    "# Choose five SNPs as significant SNPs and 95 as small sigficance others are non-significant\n",
    "for gene in gene_names:\n",
    "    n = len(data_selected.loc[data_selected['gene'] == gene ,:])\n",
    "    sign =  [1] * 100  + [0] * (n - 100)\n",
    "    \n",
    "    data_selected.loc[data_selected['gene'] == gene ,'sign'] = sign"
   ]
  },
  {
   "cell_type": "code",
   "execution_count": 43,
   "metadata": {},
   "outputs": [
    {
     "name": "stderr",
     "output_type": "stream",
     "text": [
      "C:\\Users\\Archibald\\AppData\\Local\\Temp\\ipykernel_29016\\1514404415.py:3: SettingWithCopyWarning: \n",
      "A value is trying to be set on a copy of a slice from a DataFrame\n",
      "\n",
      "See the caveats in the documentation: https://pandas.pydata.org/pandas-docs/stable/user_guide/indexing.html#returning-a-view-versus-a-copy\n",
      "  data_selected['sign'][:d] = 2\n"
     ]
    },
    {
     "data": {
      "text/plain": [
       "(2000, 2552)"
      ]
     },
     "execution_count": 43,
     "metadata": {},
     "output_type": "execute_result"
    }
   ],
   "source": [
    "d = 5\n",
    "data_selected = data_selected.loc[data_selected['sign'] != 0,:]\n",
    "data_selected['sign'][:d] = 2\n",
    "data_selected.shape"
   ]
  },
  {
   "cell_type": "code",
   "execution_count": 45,
   "metadata": {},
   "outputs": [
    {
     "data": {
      "text/plain": [
       "331    2\n",
       "332    2\n",
       "333    2\n",
       "334    2\n",
       "335    2\n",
       "Name: sign, dtype: int64"
      ]
     },
     "execution_count": 45,
     "metadata": {},
     "output_type": "execute_result"
    }
   ],
   "source": [
    "data_selected['sign'].head()"
   ]
  },
  {
   "cell_type": "markdown",
   "metadata": {},
   "source": [
    "### Get Beta"
   ]
  },
  {
   "cell_type": "code",
   "execution_count": 78,
   "metadata": {},
   "outputs": [
    {
     "name": "stdout",
     "output_type": "stream",
     "text": [
      "5\n",
      "1995\n",
      "331    24.947468\n",
      "332     5.659078\n",
      "333    13.841445\n",
      "334    31.691016\n",
      "335    26.411258\n",
      "336    -1.692695\n",
      "337     1.645601\n",
      "338    -0.262158\n",
      "339    -0.178780\n",
      "340     0.711177\n",
      "Name: beta, dtype: float64\n"
     ]
    },
    {
     "data": {
      "text/plain": [
       "(2000,)"
      ]
     },
     "execution_count": 78,
     "metadata": {},
     "output_type": "execute_result"
    }
   ],
   "source": [
    "# Get Beta\n",
    "np.random.seed(0)\n",
    "data_selected['beta'] = 0\n",
    "n = len(data_selected.loc[data_selected['sign'] == 2,'beta'])\n",
    "print(n)\n",
    "large_effect = 200\n",
    "data_selected.loc[data_selected['sign'] == 2,'beta'] = np.random.normal(0, np.sqrt(large_effect), n)\n",
    "\n",
    "n = len(data_selected.loc[data_selected['sign'] == 1,'beta'])\n",
    "print(n)\n",
    "small_effect = 3\n",
    "data_selected.loc[data_selected['sign'] == 1,'beta'] = np.random.normal(0, np.sqrt(small_effect), n)\n",
    "\n",
    "beta = data_selected.beta\n",
    "print(beta[:10])\n",
    "beta.shape"
   ]
  },
  {
   "cell_type": "code",
   "execution_count": 105,
   "metadata": {},
   "outputs": [
    {
     "data": {
      "text/html": [
       "<div>\n",
       "<style scoped>\n",
       "    .dataframe tbody tr th:only-of-type {\n",
       "        vertical-align: middle;\n",
       "    }\n",
       "\n",
       "    .dataframe tbody tr th {\n",
       "        vertical-align: top;\n",
       "    }\n",
       "\n",
       "    .dataframe thead th {\n",
       "        text-align: right;\n",
       "    }\n",
       "</style>\n",
       "<table border=\"1\" class=\"dataframe\">\n",
       "  <thead>\n",
       "    <tr style=\"text-align: right;\">\n",
       "      <th></th>\n",
       "      <th>331</th>\n",
       "      <th>332</th>\n",
       "      <th>333</th>\n",
       "      <th>334</th>\n",
       "      <th>335</th>\n",
       "      <th>336</th>\n",
       "      <th>337</th>\n",
       "      <th>338</th>\n",
       "      <th>339</th>\n",
       "      <th>340</th>\n",
       "      <th>...</th>\n",
       "      <th>9963</th>\n",
       "      <th>9964</th>\n",
       "      <th>9965</th>\n",
       "      <th>9966</th>\n",
       "      <th>9967</th>\n",
       "      <th>9968</th>\n",
       "      <th>9969</th>\n",
       "      <th>9970</th>\n",
       "      <th>9971</th>\n",
       "      <th>9972</th>\n",
       "    </tr>\n",
       "  </thead>\n",
       "  <tbody>\n",
       "    <tr>\n",
       "      <th>HG00096</th>\n",
       "      <td>2</td>\n",
       "      <td>2</td>\n",
       "      <td>2</td>\n",
       "      <td>2</td>\n",
       "      <td>0</td>\n",
       "      <td>0</td>\n",
       "      <td>2</td>\n",
       "      <td>0</td>\n",
       "      <td>2</td>\n",
       "      <td>0</td>\n",
       "      <td>...</td>\n",
       "      <td>1</td>\n",
       "      <td>1</td>\n",
       "      <td>1</td>\n",
       "      <td>0</td>\n",
       "      <td>1</td>\n",
       "      <td>0</td>\n",
       "      <td>1</td>\n",
       "      <td>0</td>\n",
       "      <td>0</td>\n",
       "      <td>0</td>\n",
       "    </tr>\n",
       "    <tr>\n",
       "      <th>HG00097</th>\n",
       "      <td>2</td>\n",
       "      <td>2</td>\n",
       "      <td>2</td>\n",
       "      <td>2</td>\n",
       "      <td>0</td>\n",
       "      <td>0</td>\n",
       "      <td>2</td>\n",
       "      <td>0</td>\n",
       "      <td>2</td>\n",
       "      <td>0</td>\n",
       "      <td>...</td>\n",
       "      <td>1</td>\n",
       "      <td>1</td>\n",
       "      <td>1</td>\n",
       "      <td>0</td>\n",
       "      <td>1</td>\n",
       "      <td>0</td>\n",
       "      <td>1</td>\n",
       "      <td>0</td>\n",
       "      <td>0</td>\n",
       "      <td>0</td>\n",
       "    </tr>\n",
       "    <tr>\n",
       "      <th>HG00099</th>\n",
       "      <td>2</td>\n",
       "      <td>2</td>\n",
       "      <td>1</td>\n",
       "      <td>1</td>\n",
       "      <td>1</td>\n",
       "      <td>0</td>\n",
       "      <td>1</td>\n",
       "      <td>1</td>\n",
       "      <td>1</td>\n",
       "      <td>1</td>\n",
       "      <td>...</td>\n",
       "      <td>0</td>\n",
       "      <td>0</td>\n",
       "      <td>1</td>\n",
       "      <td>0</td>\n",
       "      <td>0</td>\n",
       "      <td>0</td>\n",
       "      <td>0</td>\n",
       "      <td>0</td>\n",
       "      <td>0</td>\n",
       "      <td>0</td>\n",
       "    </tr>\n",
       "    <tr>\n",
       "      <th>HG00100</th>\n",
       "      <td>2</td>\n",
       "      <td>2</td>\n",
       "      <td>0</td>\n",
       "      <td>2</td>\n",
       "      <td>2</td>\n",
       "      <td>0</td>\n",
       "      <td>0</td>\n",
       "      <td>2</td>\n",
       "      <td>0</td>\n",
       "      <td>2</td>\n",
       "      <td>...</td>\n",
       "      <td>1</td>\n",
       "      <td>1</td>\n",
       "      <td>1</td>\n",
       "      <td>0</td>\n",
       "      <td>1</td>\n",
       "      <td>0</td>\n",
       "      <td>1</td>\n",
       "      <td>0</td>\n",
       "      <td>0</td>\n",
       "      <td>0</td>\n",
       "    </tr>\n",
       "    <tr>\n",
       "      <th>HG00101</th>\n",
       "      <td>2</td>\n",
       "      <td>2</td>\n",
       "      <td>1</td>\n",
       "      <td>2</td>\n",
       "      <td>1</td>\n",
       "      <td>0</td>\n",
       "      <td>1</td>\n",
       "      <td>1</td>\n",
       "      <td>1</td>\n",
       "      <td>1</td>\n",
       "      <td>...</td>\n",
       "      <td>1</td>\n",
       "      <td>1</td>\n",
       "      <td>1</td>\n",
       "      <td>0</td>\n",
       "      <td>1</td>\n",
       "      <td>0</td>\n",
       "      <td>1</td>\n",
       "      <td>0</td>\n",
       "      <td>0</td>\n",
       "      <td>0</td>\n",
       "    </tr>\n",
       "  </tbody>\n",
       "</table>\n",
       "<p>5 rows × 2000 columns</p>\n",
       "</div>"
      ],
      "text/plain": [
       "         331   332   333   334   335   336   337   338   339   340   ...  \\\n",
       "HG00096     2     2     2     2     0     0     2     0     2     0  ...   \n",
       "HG00097     2     2     2     2     0     0     2     0     2     0  ...   \n",
       "HG00099     2     2     1     1     1     0     1     1     1     1  ...   \n",
       "HG00100     2     2     0     2     2     0     0     2     0     2  ...   \n",
       "HG00101     2     2     1     2     1     0     1     1     1     1  ...   \n",
       "\n",
       "         9963  9964  9965  9966  9967  9968  9969  9970  9971  9972  \n",
       "HG00096     1     1     1     0     1     0     1     0     0     0  \n",
       "HG00097     1     1     1     0     1     0     1     0     0     0  \n",
       "HG00099     0     0     1     0     0     0     0     0     0     0  \n",
       "HG00100     1     1     1     0     1     0     1     0     0     0  \n",
       "HG00101     1     1     1     0     1     0     1     0     0     0  \n",
       "\n",
       "[5 rows x 2000 columns]"
      ]
     },
     "execution_count": 105,
     "metadata": {},
     "output_type": "execute_result"
    }
   ],
   "source": [
    "from  sklearn.preprocessing import StandardScaler \n",
    "SNP = data_selected.drop(['GENE', 'POS', 'gene', 'beta'], axis=1).T\n",
    "# ss = StandardScaler()\n",
    "# SNP.loc[:,:] = ss.fit_teansform(X = SNP.loc[:,:])\n",
    "\n",
    "SNP.head()\n"
   ]
  },
  {
   "cell_type": "code",
   "execution_count": 94,
   "metadata": {},
   "outputs": [],
   "source": [
    "SNP1 = SNP.copy()"
   ]
  },
  {
   "cell_type": "code",
   "execution_count": 106,
   "metadata": {},
   "outputs": [
    {
     "name": "stdout",
     "output_type": "stream",
     "text": [
      "(2549,)\n",
      "The sigma_g^2 is 2609.2, and sigma_e^2 is 2609.2\n"
     ]
    }
   ],
   "source": [
    "temp = SNP1.values @ beta\n",
    "print(temp.shape)\n",
    "sigma_g2 = np.var(temp, ddof = 1) # get the overall variance\n",
    "h2 = 0.5 # heritability\n",
    "sigma_e2 = sigma_g2 * (1 - h2)/ h2\n",
    "print(\"The sigma_g^2 is {:.5}, and sigma_e^2 is {:.5}\".format(sigma_g2, sigma_e2))"
   ]
  },
  {
   "cell_type": "markdown",
   "metadata": {},
   "source": [
    "Add bias term"
   ]
  },
  {
   "cell_type": "code",
   "execution_count": 20,
   "metadata": {},
   "outputs": [
    {
     "ename": "NameError",
     "evalue": "name 'large_effect' is not defined",
     "output_type": "error",
     "traceback": [
      "\u001b[1;31m---------------------------------------------------------------------------\u001b[0m",
      "\u001b[1;31mNameError\u001b[0m                                 Traceback (most recent call last)",
      "\u001b[1;32me:\\OneDrive\\Programming\\Python\\bio_informatics\\simulation.ipynb Cell 20\u001b[0m in \u001b[0;36m<cell line: 2>\u001b[1;34m()\u001b[0m\n\u001b[0;32m      <a href='vscode-notebook-cell:/e%3A/OneDrive/Programming/Python/bio_informatics/simulation.ipynb#ch0000019?line=0'>1</a>\u001b[0m np\u001b[39m.\u001b[39mrandom\u001b[39m.\u001b[39mseed(\u001b[39m1\u001b[39m)\n\u001b[1;32m----> <a href='vscode-notebook-cell:/e%3A/OneDrive/Programming/Python/bio_informatics/simulation.ipynb#ch0000019?line=1'>2</a>\u001b[0m beta0 \u001b[39m=\u001b[39m np\u001b[39m.\u001b[39mrandom\u001b[39m.\u001b[39mnormal(\u001b[39m0\u001b[39m, np\u001b[39m.\u001b[39msqrt(large_effect))\n\u001b[0;32m      <a href='vscode-notebook-cell:/e%3A/OneDrive/Programming/Python/bio_informatics/simulation.ipynb#ch0000019?line=2'>3</a>\u001b[0m \u001b[39mprint\u001b[39m(beta0)\n\u001b[0;32m      <a href='vscode-notebook-cell:/e%3A/OneDrive/Programming/Python/bio_informatics/simulation.ipynb#ch0000019?line=3'>4</a>\u001b[0m \u001b[39mprint\u001b[39m(beta\u001b[39m.\u001b[39mshape)\n",
      "\u001b[1;31mNameError\u001b[0m: name 'large_effect' is not defined"
     ]
    }
   ],
   "source": [
    "np.random.seed(1)\n",
    "beta0 = np.random.normal(0, np.sqrt(large_effect))\n",
    "print(beta0)\n",
    "print(beta.shape)\n",
    "# beta_ = np.append(beta, beta0)\n",
    "beta_ = np.insert(beta, 0, beta0)\n",
    "print(beta_[:6])"
   ]
  },
  {
   "cell_type": "code",
   "execution_count": null,
   "metadata": {},
   "outputs": [],
   "source": [
    "SNP.insert(loc=0, column='bias', value=1)"
   ]
  },
  {
   "cell_type": "code",
   "execution_count": 109,
   "metadata": {},
   "outputs": [
    {
     "name": "stdout",
     "output_type": "stream",
     "text": [
      "(2549, 2001)\n",
      "(2001,)\n"
     ]
    }
   ],
   "source": [
    "residual = np.random.normal(0, np.sqrt(sigma_e2), len(SNP))\n",
    "print(SNP.values.shape)\n",
    "print(beta_.shape)\n",
    "SNP['Y'] = SNP1.values @ beta + residual + beta0"
   ]
  },
  {
   "cell_type": "code",
   "execution_count": 110,
   "metadata": {},
   "outputs": [
    {
     "data": {
      "text/html": [
       "<div>\n",
       "<style scoped>\n",
       "    .dataframe tbody tr th:only-of-type {\n",
       "        vertical-align: middle;\n",
       "    }\n",
       "\n",
       "    .dataframe tbody tr th {\n",
       "        vertical-align: top;\n",
       "    }\n",
       "\n",
       "    .dataframe thead th {\n",
       "        text-align: right;\n",
       "    }\n",
       "</style>\n",
       "<table border=\"1\" class=\"dataframe\">\n",
       "  <thead>\n",
       "    <tr style=\"text-align: right;\">\n",
       "      <th></th>\n",
       "      <th>bias</th>\n",
       "      <th>331</th>\n",
       "      <th>332</th>\n",
       "      <th>333</th>\n",
       "      <th>334</th>\n",
       "      <th>335</th>\n",
       "      <th>336</th>\n",
       "      <th>337</th>\n",
       "      <th>338</th>\n",
       "      <th>339</th>\n",
       "      <th>...</th>\n",
       "      <th>9964</th>\n",
       "      <th>9965</th>\n",
       "      <th>9966</th>\n",
       "      <th>9967</th>\n",
       "      <th>9968</th>\n",
       "      <th>9969</th>\n",
       "      <th>9970</th>\n",
       "      <th>9971</th>\n",
       "      <th>9972</th>\n",
       "      <th>Y</th>\n",
       "    </tr>\n",
       "  </thead>\n",
       "  <tbody>\n",
       "    <tr>\n",
       "      <th>HG00096</th>\n",
       "      <td>1</td>\n",
       "      <td>2</td>\n",
       "      <td>2</td>\n",
       "      <td>2</td>\n",
       "      <td>2</td>\n",
       "      <td>0</td>\n",
       "      <td>0</td>\n",
       "      <td>2</td>\n",
       "      <td>0</td>\n",
       "      <td>2</td>\n",
       "      <td>...</td>\n",
       "      <td>1</td>\n",
       "      <td>1</td>\n",
       "      <td>0</td>\n",
       "      <td>1</td>\n",
       "      <td>0</td>\n",
       "      <td>1</td>\n",
       "      <td>0</td>\n",
       "      <td>0</td>\n",
       "      <td>0</td>\n",
       "      <td>89.377100</td>\n",
       "    </tr>\n",
       "    <tr>\n",
       "      <th>HG00097</th>\n",
       "      <td>1</td>\n",
       "      <td>2</td>\n",
       "      <td>2</td>\n",
       "      <td>2</td>\n",
       "      <td>2</td>\n",
       "      <td>0</td>\n",
       "      <td>0</td>\n",
       "      <td>2</td>\n",
       "      <td>0</td>\n",
       "      <td>2</td>\n",
       "      <td>...</td>\n",
       "      <td>1</td>\n",
       "      <td>1</td>\n",
       "      <td>0</td>\n",
       "      <td>1</td>\n",
       "      <td>0</td>\n",
       "      <td>1</td>\n",
       "      <td>0</td>\n",
       "      <td>0</td>\n",
       "      <td>0</td>\n",
       "      <td>97.792189</td>\n",
       "    </tr>\n",
       "    <tr>\n",
       "      <th>HG00099</th>\n",
       "      <td>1</td>\n",
       "      <td>2</td>\n",
       "      <td>2</td>\n",
       "      <td>1</td>\n",
       "      <td>1</td>\n",
       "      <td>1</td>\n",
       "      <td>0</td>\n",
       "      <td>1</td>\n",
       "      <td>1</td>\n",
       "      <td>1</td>\n",
       "      <td>...</td>\n",
       "      <td>0</td>\n",
       "      <td>1</td>\n",
       "      <td>0</td>\n",
       "      <td>0</td>\n",
       "      <td>0</td>\n",
       "      <td>0</td>\n",
       "      <td>0</td>\n",
       "      <td>0</td>\n",
       "      <td>0</td>\n",
       "      <td>7.652598</td>\n",
       "    </tr>\n",
       "    <tr>\n",
       "      <th>HG00100</th>\n",
       "      <td>1</td>\n",
       "      <td>2</td>\n",
       "      <td>2</td>\n",
       "      <td>0</td>\n",
       "      <td>2</td>\n",
       "      <td>2</td>\n",
       "      <td>0</td>\n",
       "      <td>0</td>\n",
       "      <td>2</td>\n",
       "      <td>0</td>\n",
       "      <td>...</td>\n",
       "      <td>1</td>\n",
       "      <td>1</td>\n",
       "      <td>0</td>\n",
       "      <td>1</td>\n",
       "      <td>0</td>\n",
       "      <td>1</td>\n",
       "      <td>0</td>\n",
       "      <td>0</td>\n",
       "      <td>0</td>\n",
       "      <td>121.151941</td>\n",
       "    </tr>\n",
       "    <tr>\n",
       "      <th>HG00101</th>\n",
       "      <td>1</td>\n",
       "      <td>2</td>\n",
       "      <td>2</td>\n",
       "      <td>1</td>\n",
       "      <td>2</td>\n",
       "      <td>1</td>\n",
       "      <td>0</td>\n",
       "      <td>1</td>\n",
       "      <td>1</td>\n",
       "      <td>1</td>\n",
       "      <td>...</td>\n",
       "      <td>1</td>\n",
       "      <td>1</td>\n",
       "      <td>0</td>\n",
       "      <td>1</td>\n",
       "      <td>0</td>\n",
       "      <td>1</td>\n",
       "      <td>0</td>\n",
       "      <td>0</td>\n",
       "      <td>0</td>\n",
       "      <td>-18.198573</td>\n",
       "    </tr>\n",
       "  </tbody>\n",
       "</table>\n",
       "<p>5 rows × 2002 columns</p>\n",
       "</div>"
      ],
      "text/plain": [
       "         bias  331  332  333  334  335  336  337  338  339  ...  9964  9965  \\\n",
       "HG00096     1    2    2    2    2    0    0    2    0    2  ...     1     1   \n",
       "HG00097     1    2    2    2    2    0    0    2    0    2  ...     1     1   \n",
       "HG00099     1    2    2    1    1    1    0    1    1    1  ...     0     1   \n",
       "HG00100     1    2    2    0    2    2    0    0    2    0  ...     1     1   \n",
       "HG00101     1    2    2    1    2    1    0    1    1    1  ...     1     1   \n",
       "\n",
       "         9966  9967  9968  9969  9970  9971  9972           Y  \n",
       "HG00096     0     1     0     1     0     0     0   89.377100  \n",
       "HG00097     0     1     0     1     0     0     0   97.792189  \n",
       "HG00099     0     0     0     0     0     0     0    7.652598  \n",
       "HG00100     0     1     0     1     0     0     0  121.151941  \n",
       "HG00101     0     1     0     1     0     0     0  -18.198573  \n",
       "\n",
       "[5 rows x 2002 columns]"
      ]
     },
     "execution_count": 110,
     "metadata": {},
     "output_type": "execute_result"
    }
   ],
   "source": [
    "SNP.head()"
   ]
  },
  {
   "cell_type": "code",
   "execution_count": 115,
   "metadata": {},
   "outputs": [],
   "source": [
    "# Save Simulated Parameters and data\n",
    "SNP.to_csv('data/Simulated_SNPs.csv')\n",
    "np.savez('Parameters/simulated_parameters.npz', sigma_e2 =sigma_e2,sigma_g2 =sigma_g2, h2 = h2, beta = beta_, large_effect_terms = d)"
   ]
  },
  {
   "cell_type": "markdown",
   "metadata": {},
   "source": [
    "## Working with K-folds"
   ]
  },
  {
   "cell_type": "code",
   "execution_count": 216,
   "metadata": {},
   "outputs": [],
   "source": [
    "def get_folds_indices(nfolds, n_tr):\n",
    "    if nfolds <= n_tr:\n",
    "        fold_size = int(np.floor(n_tr/nfolds))\n",
    "        resi = n_tr % nfolds\n",
    "        fold_sizes = [0] + resi * [fold_size +1] + (nfolds - resi) * [fold_size]\n",
    "        indices = np.cumsum(fold_sizes)\n",
    "        folds_indices = [(indices[i], indices[i + 1])  for i in range(nfolds)]\n",
    "\n",
    "    else:\n",
    "        raise Exception(\"Number of folds is larger than numer of samples\")\n",
    "    print('First 5 fold indices : {}'.format(folds_indices[:5]))\n",
    "    return folds_indices\n",
    "    \n",
    "def getHcv_for_Kfolds(X_tr, y_tr,  H_function, V = None, nfolds = 10):\n",
    "    n_tr,p = X_tr.shape\n",
    "    Hcv_k = np.zeros([n_tr,n_tr])\n",
    "    \n",
    "    folds_indices = get_folds_indices(nfolds = nfolds, n_tr = n_tr)\n",
    "    for Kindices in folds_indices:\n",
    "        ia,ib = Kindices\n",
    "        indices_minus_K = list(range(0, ia)) + list(range(ib, n_tr))\n",
    "\n",
    "        X_minus_K = X_tr[indices_minus_K,:]\n",
    "        y_minus_K = y_tr[indices_minus_K]\n",
    "        X_k = X_tr[ia:ib,:]\n",
    "        y_K = y_tr[ia:ib]\n",
    "\n",
    "        if V is not None:\n",
    "            V_minus_k = V[indices_minus_K,:][:, indices_minus_K]\n",
    "            temp = H_function(X_minus_K, X_k , y_minus_K, y_K, V_minus_k)\n",
    "        else:\n",
    "            temp = H_function(X_minus_K, X_k , y_minus_K, y_K)\n",
    "\n",
    "        Hcv_k[ia:ib, indices_minus_K] = temp\n",
    "\n",
    "    return Hcv_k"
   ]
  },
  {
   "cell_type": "markdown",
   "metadata": {},
   "source": [
    "## Model Test"
   ]
  },
  {
   "cell_type": "markdown",
   "metadata": {},
   "source": [
    "### 1. LMM (linear mixed model)\n",
    "Let the model be\n",
    "$$\n",
    "Y_i = \\sum_{j = 1}^{p} \\beta_j X_{i,j} + u_i +\\epsilon_i \\ \\text{where } i = 1, 2,3,\\dots,n\n",
    "$$\n",
    "where $(u_1, u_2, \\dots, u_n)^\\top \\sim MVN(0, \\sigma_g^2 K ) $ and $\\epsilon_i \\sim ^{i.i.d} N(0, \\sigma_e^2)$, and  $K = 1/p X X^\\top$, $\\sigma_e^2 = \\frac{1 - h^2}{h^2} \\sigma_g^2$ . \n",
    "\n",
    "> ? how to estimate $\\sigma_e \\text{ and } \\sigma_g$?  Maybe using REML? But it requires the indication of the clusters.\n",
    "\n",
    "We can write the model as \n",
    "$$\n",
    "Y_i = \\sum_{j = 1}^{p} \\beta_j X_{i,j} + \\epsilon_i^* \\ \\text{where } i = 1, 2,3,\\dots,n \\text{ and } \\boldsymbol{\\epsilon}^{*} = \\boldsymbol u + \\boldsymbol \\epsilon \\sim N_{n}(\\mathbf{0}, V)\n",
    "$$\n",
    "where $V = Var(Y|X\\beta) = \\sigma^2_g K + \\sigma^2_e I$\n",
    "\n",
    "So we need to estimate two of  $\\sigma_g, \\sigma_e \\text{or } h$\n",
    "\n",
    "so we can get estimate for $\\tilde{\\boldsymbol{\\beta}}:=\\left(X^{t} V^{-1} X\\right)^{-1} X^{t} V^{-1} \\boldsymbol{Y}$\n",
    "\n",
    "BLUP for $\\tilde u = E(u|Y) = \\sigma^2_g K V^{-1}(Y - X\\tilde \\beta)$\n",
    "\n",
    " And $\\hat Y = X \\tilde \\beta + \\tilde u$\n",
    "\n",
    "Now we can define $H$ by\n",
    "\n",
    "$H = X\\left(X^{t} V^{-1} X\\right)^{-1} X^{t} V^{-1} + \\sigma^2_g K V^{-1}(I - X\\left(X^{t} V^{-1} X\\right)^{-1} X^{t} V^{-1})$\n"
   ]
  },
  {
   "cell_type": "markdown",
   "metadata": {},
   "source": [
    "$$\n",
    "\\widehat{C V}_{c}=\\frac{1}{n}\\left(\\boldsymbol{y}-H_{c v} \\boldsymbol{y}\\right)^{t}\\left(\\boldsymbol{y}-H_{c v} \\boldsymbol{y}\\right)+\\frac{2}{n}\\left[\\operatorname{tr}\\left(H_{c v} \\operatorname{Cov}(\\boldsymbol{y}, \\boldsymbol{y})\\right)-n \\boldsymbol{h}_{t e} \\operatorname{Cov}\\left(\\boldsymbol{y}_{t r}, y_{t e}\\right)\\right]\n",
    "$$"
   ]
  },
  {
   "cell_type": "code",
   "execution_count": 2,
   "metadata": {},
   "outputs": [
    {
     "data": {
      "text/html": [
       "<div>\n",
       "<style scoped>\n",
       "    .dataframe tbody tr th:only-of-type {\n",
       "        vertical-align: middle;\n",
       "    }\n",
       "\n",
       "    .dataframe tbody tr th {\n",
       "        vertical-align: top;\n",
       "    }\n",
       "\n",
       "    .dataframe thead th {\n",
       "        text-align: right;\n",
       "    }\n",
       "</style>\n",
       "<table border=\"1\" class=\"dataframe\">\n",
       "  <thead>\n",
       "    <tr style=\"text-align: right;\">\n",
       "      <th></th>\n",
       "      <th>bias</th>\n",
       "      <th>331</th>\n",
       "      <th>332</th>\n",
       "      <th>333</th>\n",
       "      <th>334</th>\n",
       "      <th>335</th>\n",
       "      <th>336</th>\n",
       "      <th>337</th>\n",
       "      <th>338</th>\n",
       "      <th>339</th>\n",
       "      <th>...</th>\n",
       "      <th>9964</th>\n",
       "      <th>9965</th>\n",
       "      <th>9966</th>\n",
       "      <th>9967</th>\n",
       "      <th>9968</th>\n",
       "      <th>9969</th>\n",
       "      <th>9970</th>\n",
       "      <th>9971</th>\n",
       "      <th>9972</th>\n",
       "      <th>Y</th>\n",
       "    </tr>\n",
       "  </thead>\n",
       "  <tbody>\n",
       "    <tr>\n",
       "      <th>HG00096</th>\n",
       "      <td>1</td>\n",
       "      <td>2</td>\n",
       "      <td>2</td>\n",
       "      <td>2</td>\n",
       "      <td>2</td>\n",
       "      <td>0</td>\n",
       "      <td>0</td>\n",
       "      <td>2</td>\n",
       "      <td>0</td>\n",
       "      <td>2</td>\n",
       "      <td>...</td>\n",
       "      <td>1</td>\n",
       "      <td>1</td>\n",
       "      <td>0</td>\n",
       "      <td>1</td>\n",
       "      <td>0</td>\n",
       "      <td>1</td>\n",
       "      <td>0</td>\n",
       "      <td>0</td>\n",
       "      <td>0</td>\n",
       "      <td>89.377100</td>\n",
       "    </tr>\n",
       "    <tr>\n",
       "      <th>HG00097</th>\n",
       "      <td>1</td>\n",
       "      <td>2</td>\n",
       "      <td>2</td>\n",
       "      <td>2</td>\n",
       "      <td>2</td>\n",
       "      <td>0</td>\n",
       "      <td>0</td>\n",
       "      <td>2</td>\n",
       "      <td>0</td>\n",
       "      <td>2</td>\n",
       "      <td>...</td>\n",
       "      <td>1</td>\n",
       "      <td>1</td>\n",
       "      <td>0</td>\n",
       "      <td>1</td>\n",
       "      <td>0</td>\n",
       "      <td>1</td>\n",
       "      <td>0</td>\n",
       "      <td>0</td>\n",
       "      <td>0</td>\n",
       "      <td>97.792189</td>\n",
       "    </tr>\n",
       "    <tr>\n",
       "      <th>HG00099</th>\n",
       "      <td>1</td>\n",
       "      <td>2</td>\n",
       "      <td>2</td>\n",
       "      <td>1</td>\n",
       "      <td>1</td>\n",
       "      <td>1</td>\n",
       "      <td>0</td>\n",
       "      <td>1</td>\n",
       "      <td>1</td>\n",
       "      <td>1</td>\n",
       "      <td>...</td>\n",
       "      <td>0</td>\n",
       "      <td>1</td>\n",
       "      <td>0</td>\n",
       "      <td>0</td>\n",
       "      <td>0</td>\n",
       "      <td>0</td>\n",
       "      <td>0</td>\n",
       "      <td>0</td>\n",
       "      <td>0</td>\n",
       "      <td>7.652598</td>\n",
       "    </tr>\n",
       "    <tr>\n",
       "      <th>HG00100</th>\n",
       "      <td>1</td>\n",
       "      <td>2</td>\n",
       "      <td>2</td>\n",
       "      <td>0</td>\n",
       "      <td>2</td>\n",
       "      <td>2</td>\n",
       "      <td>0</td>\n",
       "      <td>0</td>\n",
       "      <td>2</td>\n",
       "      <td>0</td>\n",
       "      <td>...</td>\n",
       "      <td>1</td>\n",
       "      <td>1</td>\n",
       "      <td>0</td>\n",
       "      <td>1</td>\n",
       "      <td>0</td>\n",
       "      <td>1</td>\n",
       "      <td>0</td>\n",
       "      <td>0</td>\n",
       "      <td>0</td>\n",
       "      <td>121.151941</td>\n",
       "    </tr>\n",
       "    <tr>\n",
       "      <th>HG00101</th>\n",
       "      <td>1</td>\n",
       "      <td>2</td>\n",
       "      <td>2</td>\n",
       "      <td>1</td>\n",
       "      <td>2</td>\n",
       "      <td>1</td>\n",
       "      <td>0</td>\n",
       "      <td>1</td>\n",
       "      <td>1</td>\n",
       "      <td>1</td>\n",
       "      <td>...</td>\n",
       "      <td>1</td>\n",
       "      <td>1</td>\n",
       "      <td>0</td>\n",
       "      <td>1</td>\n",
       "      <td>0</td>\n",
       "      <td>1</td>\n",
       "      <td>0</td>\n",
       "      <td>0</td>\n",
       "      <td>0</td>\n",
       "      <td>-18.198573</td>\n",
       "    </tr>\n",
       "  </tbody>\n",
       "</table>\n",
       "<p>5 rows × 2002 columns</p>\n",
       "</div>"
      ],
      "text/plain": [
       "         bias  331  332  333  334  335  336  337  338  339  ...  9964  9965  \\\n",
       "HG00096     1    2    2    2    2    0    0    2    0    2  ...     1     1   \n",
       "HG00097     1    2    2    2    2    0    0    2    0    2  ...     1     1   \n",
       "HG00099     1    2    2    1    1    1    0    1    1    1  ...     0     1   \n",
       "HG00100     1    2    2    0    2    2    0    0    2    0  ...     1     1   \n",
       "HG00101     1    2    2    1    2    1    0    1    1    1  ...     1     1   \n",
       "\n",
       "         9966  9967  9968  9969  9970  9971  9972           Y  \n",
       "HG00096     0     1     0     1     0     0     0   89.377100  \n",
       "HG00097     0     1     0     1     0     0     0   97.792189  \n",
       "HG00099     0     0     0     0     0     0     0    7.652598  \n",
       "HG00100     0     1     0     1     0     0     0  121.151941  \n",
       "HG00101     0     1     0     1     0     0     0  -18.198573  \n",
       "\n",
       "[5 rows x 2002 columns]"
      ]
     },
     "execution_count": 2,
     "metadata": {},
     "output_type": "execute_result"
    }
   ],
   "source": [
    "import pandas as pd\n",
    "import numpy as np\n",
    "import matplotlib.pyplot as plt\n",
    "%matplotlib inline\n",
    "if not 'SNP' in locals():\n",
    "    SNP = pd.read_csv('data/Simulated_SNPs.csv', index_col=0)\n",
    "par = np.load('Parameters/simulated_parameters.npz')\n",
    "sigma_e2, sigma_g2, h2, beta, num_large_effet_terms = [par[params] for params in par.files]\n",
    "sigma_g2 = float(sigma_g2)\n",
    "sigma_e2 = float(sigma_e2)\n",
    "h2 = float(h2)\n",
    "SNP.head()"
   ]
  },
  {
   "cell_type": "code",
   "execution_count": 3,
   "metadata": {},
   "outputs": [
    {
     "data": {
      "text/plain": [
       "array([22.97171243, 24.94746752,  5.65907751, 13.84144531, 31.69101554,\n",
       "       26.41125838])"
      ]
     },
     "execution_count": 3,
     "metadata": {},
     "output_type": "execute_result"
    }
   ],
   "source": [
    "beta[:num_large_effet_terms+1]"
   ]
  },
  {
   "cell_type": "markdown",
   "metadata": {},
   "source": [
    "Get $V = Var(Y|X\\beta) = \\sigma^2_g K + \\sigma^2_e I$ where $K = 1/p X X^\\top$"
   ]
  },
  {
   "cell_type": "code",
   "execution_count": 4,
   "metadata": {},
   "outputs": [],
   "source": [
    "from sklearn.model_selection import train_test_split\n",
    "SNP_ = SNP.copy()\n",
    "SNP_.drop('Y', inplace= True, axis = 1)\n",
    "data = SNP_.values\n",
    "G_tr, G_te, y_tr, y_te = train_test_split(data, SNP['Y'].to_numpy().reshape([-1,1]), test_size = 0.2, random_state = 123)\n",
    "X_tr, X_te = G_tr[:, :num_large_effet_terms+1], G_te[:, :num_large_effet_terms+1]\n",
    "W_tr, W_te = G_tr[:, 1:], G_te[:, 1:]"
   ]
  },
  {
   "cell_type": "code",
   "execution_count": 5,
   "metadata": {},
   "outputs": [
    {
     "name": "stdout",
     "output_type": "stream",
     "text": [
      "(2039, 1) (2039, 6) (2039, 2000) (510, 1) (510, 6) (510, 2000)\n"
     ]
    }
   ],
   "source": [
    "print(y_tr.shape, X_tr.shape, W_tr.shape, y_te.shape, X_te.shape, W_te.shape)"
   ]
  },
  {
   "cell_type": "markdown",
   "metadata": {},
   "source": [
    "#### Using FAST_LMM to estimate sigma_g2 and sigma_e2"
   ]
  },
  {
   "cell_type": "code",
   "execution_count": 6,
   "metadata": {},
   "outputs": [],
   "source": [
    "%load_ext autoreload\n",
    "%autoreload 2"
   ]
  },
  {
   "cell_type": "code",
   "execution_count": 7,
   "metadata": {},
   "outputs": [
    {
     "name": "stdout",
     "output_type": "stream",
     "text": [
      "import uitls from the calling time\n",
      "------------- FAST-LMM------------------\n",
      "LowRank is set as True, using REML\n",
      "Rank of W is 1673, shape of W is (2039, 2000).\n",
      "Optimization Results:\n",
      "Delta is calculated as:  0.5955727153476151\n",
      "Maximum REML is calculated as:  -11030.798258070256\n",
      "---------------Summary------------------\n",
      "LowRank is set as True, using REML\n",
      "Heritability h2: 0.6267342067090548\n",
      "Sigma_g2: 4407.204534663662\n",
      "Sigma_e2: 2624.81077180196\n",
      "------ 5.080962181091309 seconds ------\n"
     ]
    }
   ],
   "source": [
    "# from FAST_LMM import utils as u\n",
    "sc = W_tr.shape[1]\n",
    "from FAST_LMM import FASTLMM\n",
    "fast = FASTLMM(lowRank=True, REML = True)\n",
    "fast.fit(X_tr, y_tr, 1/np.sqrt(sc) * W_tr)"
   ]
  },
  {
   "cell_type": "code",
   "execution_count": 64,
   "metadata": {},
   "outputs": [
    {
     "data": {
      "image/png": "[encoded data removed]",
      "text/plain": [
       "<Figure size 432x288 with 1 Axes>"
      ]
     },
     "metadata": {
      "needs_background": "light"
     },
     "output_type": "display_data"
    }
   ],
   "source": [
    "fast.plot_likelihood()"
   ]
  },
  {
   "cell_type": "code",
   "execution_count": 65,
   "metadata": {},
   "outputs": [
    {
     "name": "stdout",
     "output_type": "stream",
     "text": [
      "h2 =  0.6267342067090548\n",
      "5437.275694279155 7401.588262106941 5851.42411622923\n"
     ]
    }
   ],
   "source": [
    "#using theoreatical sigma\n",
    "# fast.sigma_e2 = sigma_e2\n",
    "# fast.sigma_g2 = sigma_g2\n",
    "\n",
    "print('h2 = ', 1/(1+fast.delta) )\n",
    "n, sc = W_tr.shape\n",
    "varYhat = np.mean(np.diag(1/ sc * sigma_g2* W_tr @ W_tr.T + sigma_e2 * np.identity(n)))\n",
    "varYhat2 = np.mean(np.diag(1/ sc * fast.sigma_g2* W_tr @ W_tr.T + fast.sigma_e2 * np.identity(n)))\n",
    "varY = np.var(y_tr - X_tr @ beta[ :num_large_effet_terms+1], ddof = 0)\n",
    "print(varYhat, varYhat2, varY)"
   ]
  },
  {
   "cell_type": "code",
   "execution_count": 53,
   "metadata": {},
   "outputs": [],
   "source": [
    "n_te, sc_te = W_te.shape\n",
    "y_te_hat = fast.predict(X_te,  1/np.sqrt(sc_te)* W_te)\n",
    "y_tr_hat = fast.predict(X_tr, 1/np.sqrt(sc)* W_tr)"
   ]
  },
  {
   "cell_type": "code",
   "execution_count": 54,
   "metadata": {},
   "outputs": [],
   "source": [
    "y_tr_hat_wls = X_tr @ fast.beta\n",
    "y_te_hat_wls = X_te @ fast.beta"
   ]
  },
  {
   "cell_type": "code",
   "execution_count": 43,
   "metadata": {},
   "outputs": [
    {
     "name": "stdout",
     "output_type": "stream",
     "text": [
      "LMM: training error is: 2406.141720451171  test error is: 3124.1619371842025\n",
      "WLS: training error is: 4070.0083771106006  test error is: 4487.270237840345\n"
     ]
    }
   ],
   "source": [
    "tr_error = 1/n * (np.sum(np.square(y_tr_hat - y_tr)))\n",
    "te_error = 1/n_te * (np.sum(np.square(y_te_hat - y_te)))\n",
    "tr_error_wls = 1/n * (np.sum(np.square(y_tr_hat_wls - y_tr)))\n",
    "te_error_wls = 1/n_te * (np.sum(np.square(y_te_hat_wls - y_te)))\n",
    "print('LMM: training error is:', tr_error, ' test error is:', te_error)\n",
    "print('WLS: training error is:', tr_error_wls, ' test error is:', te_error_wls)\n"
   ]
  },
  {
   "cell_type": "markdown",
   "metadata": {},
   "source": [
    "#### Comparison of training and test error of using LMM, OLS, WLS\n",
    "First we calculate $H_{tr, LMM}$, which is $H = X\\left(X^{t} V^{-1} X\\right)^{-1} X^{t} V^{-1} + \\sigma^2_g K V^{-1}(I - X\\left(X^{t} V^{-1} X\\right)^{-1} X^{t} V^{-1})$\n",
    "\n",
    "Then we calculate $H_{tr, WLS}$, which is $H = X\\left(X^{t} V^{-1} X\\right)^{-1} X^{t} V^{-1}$.\n",
    "\n",
    "Finally we calculate $H_{tr, WLS}$, which is $H = X\\left(X^{t} X\\right)^{-1} X^{t}$."
   ]
  },
  {
   "cell_type": "code",
   "execution_count": 55,
   "metadata": {},
   "outputs": [],
   "source": [
    "from FAST_LMM.FAST_LMM import utils as u\n",
    "n_tr,sc = W_tr.shape\n",
    "V_inv = fast.sigma_g2 / sc * W_tr @ W_tr.T + fast.sigma_e2 * np.identity(X_tr.shape[0])\n",
    "inverse_part = u.inv(X_tr.T @ fast.V_inv() @ X_tr)\n",
    "\n",
    "K = W_tr @ W_tr.T /sc\n",
    "H_wls = X_tr @ inverse_part @ X_tr.T @ fast.V_inv()\n",
    "add2 = sigma_g2 * K @ fast.V_inv() @ (np.identity(n_tr) - H_wls)\n",
    "H_lmm = H_wls + add2\n",
    "H_ols = X_tr @ u.inv(X_tr.T @ X_tr)@ X_tr.T"
   ]
  },
  {
   "cell_type": "code",
   "execution_count": 59,
   "metadata": {},
   "outputs": [
    {
     "name": "stdout",
     "output_type": "stream",
     "text": [
      "Training error of lmm is 2412.40, wls error is 4065.82, ols error is 3935.42, sigma_e2 is 2609.24\n",
      "The ratio is 1.00 : 1.86 : 1.63\n"
     ]
    }
   ],
   "source": [
    "y_tr_hat_lmm = H_lmm @ y_tr\n",
    "y_tr_hat_wls = H_wls @ y_tr\n",
    "y_tr_hat_ols = H_ols @ y_tr \n",
    "\n",
    "\n",
    "tr_error_lmm = 1/n_tr * (np.sum((y_tr - y_tr_hat)**2))\n",
    "tr_error_ols = 1/n_tr * (np.sum((y_tr - y_tr_hat_ols)**2))\n",
    "tr_error_wls = 1/n_tr * (np.sum((y_tr - y_tr_hat_wls)**2))\n",
    "\n",
    "print('Training error of lmm is {:.2f}, wls error is {:.2f}, ols error is {:.2f}, sigma_e2 is {:.2f}'.format(\n",
    "    tr_error_lmm, tr_error_wls, tr_error_ols, fast.sigma_e2))\n",
    "print('The ratio is {:.2f} : {:.2f} : {:.2f}'.format(1, te_error_wls/tr_error_lmm, tr_error_ols/tr_error_lmm))"
   ]
  },
  {
   "cell_type": "code",
   "execution_count": 57,
   "metadata": {},
   "outputs": [],
   "source": [
    "n_tr,sc = W_tr.shape\n",
    "# V = fast.sigma_g2 / sc * W_tr @ W_tr.T + fast.sigma_e2 * np.identity(X_tr.shape[0])\n",
    "inverse_part = u.inv(X_tr.T @ fast.V_inv() @ X_tr)\n",
    "\n",
    "H_wls_te = X_te @ inverse_part @ X_tr.T @ fast.V_inv()\n",
    "K_te_tr = W_te @ W_tr.T /sc\n",
    "add2 = sigma_g2 * K_te_tr @ fast.V_inv() @ (np.identity(n_tr) - H_wls)\n",
    "H_lmm_te = H_wls_te + add2\n",
    "H_ols_te = X_te @ u.inv(X_tr.T @ X_tr)@ X_tr.T"
   ]
  },
  {
   "cell_type": "code",
   "execution_count": 58,
   "metadata": {},
   "outputs": [
    {
     "name": "stdout",
     "output_type": "stream",
     "text": [
      "test error of lmm is 3125.19, wls error is 4482.01, ols error is 4301.22, sigma_e2 is 2609.24\n",
      "The ratio is 1.00 : 1.43 : 1.38\n"
     ]
    }
   ],
   "source": [
    "y_te_hat_lmm = H_lmm_te @ y_tr\n",
    "y_te_hat_wls = H_wls_te @ y_tr\n",
    "y_te_hat_ols = H_ols_te @ y_tr\n",
    "\n",
    "te_error_lmm = 1/n_te * (np.sum((y_te - y_te_hat_lmm)**2))\n",
    "te_error_ols = 1/n_te * (np.sum((y_te - y_te_hat_ols)**2))\n",
    "te_error_wls = 1/n_te * (np.sum((y_te - y_te_hat_wls)**2))\n",
    "\n",
    "print('test error of lmm is {:.2f}, wls error is {:.2f}, ols error is {:.2f}, sigma_e2 is {:.2f}'.format(\n",
    "    te_error_lmm, te_error_wls, te_error_ols, fast.sigma_e2))\n",
    "print('The ratio is {:.2f} : {:.2f} : {:.2f}'.format(1, te_error_wls/te_error_lmm, te_error_ols/te_error_lmm))"
   ]
  },
  {
   "cell_type": "code",
   "execution_count": 49,
   "metadata": {},
   "outputs": [
    {
     "name": "stdout",
     "output_type": "stream",
     "text": [
      "The training error of     lmm is 2406.141720451171, wls is 4070.0083771106233, and ols is 3935.421037480194\n",
      "The corrected tr error of lmm is 2923.152277367677, wls is 4087.9984811646773, and ols is 3981.954523067176\n",
      "The test error of         lmm is 3124.1619371842066, wls is 4487.270237840382, and ols is 4301.224827649088\n"
     ]
    }
   ],
   "source": [
    "V_tr_te = 1/sc * W_tr @ W_te.T * sigma_g2\n",
    "w_lmm = 2 *( 1/n_tr * np.trace(H_lmm @ fast.V()) - 1/ n_te * np.trace(H_lmm_te @ V_tr_te))\n",
    "w_wls = 2 *( 1/n_tr * np.trace(H_wls @ fast.V()) - 1/ n_te * np.trace(H_wls_te @ V_tr_te))\n",
    "w_ols = 2 *( 1/n_tr * np.trace(H_ols @ fast.V()) - 1/ n_te * np.trace(H_ols_te @ V_tr_te))\n",
    "\n",
    "\n",
    "tr_error_lmm_c = tr_error_lmm + w_lmm\n",
    "tr_error_wls_c = tr_error_wls + w_wls\n",
    "tr_error_ols_c = tr_error_ols + w_ols\n",
    "\n",
    "print('The training error of     lmm is {}, wls is {}, and ols is {}'.format(tr_error_lmm, tr_error_wls, tr_error_ols))\n",
    "print('The corrected tr error of lmm is {}, wls is {}, and ols is {}'.format(tr_error_lmm_c, tr_error_wls_c, tr_error_ols_c))\n",
    "print('The test error of         lmm is {}, wls is {}, and ols is {}'.format(te_error_lmm, te_error_wls, te_error_ols))"
   ]
  },
  {
   "cell_type": "markdown",
   "metadata": {},
   "source": [
    "#### Leave One out Cross-validation error of LMM WLS and OLS"
   ]
  },
  {
   "cell_type": "markdown",
   "metadata": {},
   "source": [
    "##### Using theoretical sigma values"
   ]
  },
  {
   "cell_type": "code",
   "execution_count": 81,
   "metadata": {},
   "outputs": [
    {
     "name": "stdout",
     "output_type": "stream",
     "text": [
      "sigma_e2:  2609.2370423738284  sigma_g2:  2609.2370423738284\n"
     ]
    }
   ],
   "source": [
    "print('sigma_e2: ', sigma_e2, ' sigma_g2: ', sigma_g2)"
   ]
  },
  {
   "cell_type": "code",
   "execution_count": 266,
   "metadata": {},
   "outputs": [],
   "source": [
    "n_tr,sc = W_tr.shape\n",
    "V = sigma_g2 / sc * W_tr @ W_tr.T + sigma_e2 * np.identity(n_tr)\n",
    "\n",
    "H_cv_lmm = np.zeros([n_tr,n_tr])\n",
    "H_cv_wls = np.zeros([n_tr,n_tr])\n",
    "H_cv_ols = np.zeros([n_tr,n_tr])\n",
    "\n",
    "H_cv_temp = np.zeros([n_tr,n_tr-1])\n",
    "# V_minusi_inv_storage = np.zeros([n_tr,n_tr-1,n_tr-1]) \n",
    "# Store the inverse of Variance to reduce time consumpution \n",
    "# Storge comsumption will be too large\n",
    "\n",
    "for i in range(n_tr):\n",
    "    indices_mi= list(range(n_tr))\n",
    "    indices_mi.remove(i)\n",
    "    V_minusi_inv = u.inv(V[indices_mi,:][:,indices_mi]) \n",
    "    X_minusi = X_tr[indices_mi, :]\n",
    "\n",
    "    inverse1 = u.inv(X_minusi.T @ V_minusi_inv @ X_minusi)\n",
    "    inverse2 = u.inv(X_minusi.T @  X_minusi)\n",
    "\n",
    "    beta_temp = inverse1 @ X_minusi.T @ V_minusi_inv\n",
    "    temp = X_tr[i,:] @ beta_temp\n",
    "    # H_cv_temp[i, ] = temp\n",
    "    H_cv_temp = X_minusi @ beta_temp\n",
    "\n",
    "    H_cv_wls[i, indices_mi] = temp\n",
    "    H_cv_lmm[i, indices_mi] = temp + \\\n",
    "        V[i, indices_mi] @ u.inv(V[indices_mi,:][:,indices_mi])  @\\\n",
    "             (np.identity(n_tr - 1) - H_cv_temp)\n",
    "\n",
    "    H_cv_ols[i, indices_mi] = X_tr[i,:] @ inverse2 @ X_minusi.T \n",
    "\n",
    "# for i in range(n_tr):\n",
    "#     indices_mi= list(range(n_tr))\n",
    "#     indices_mi.remove(i)\n",
    "#     H_cv_lmm[i, indices_mi] = H_cv_wls[i, indices_mi] + \\\n",
    "#         V[i, indices_mi] @ u.inv(V[indices_mi,:][:,indices_mi])  @ (np.identity(n_tr - 1) - H_cv_temp[indices_mi,: ])\n",
    "\n",
    "np.savez('Parameteres/H_cv LMM.npz', H_cv_ols = H_cv_ols,H_cv_wls = H_cv_wls, H_cv_lmm= H_cv_lmm)\n"
   ]
  },
  {
   "cell_type": "code",
   "execution_count": 82,
   "metadata": {},
   "outputs": [
    {
     "name": "stdout",
     "output_type": "stream",
     "text": [
      "------------------------------------\n",
      "LowRank is set as True, using REML\n",
      "Rank of W is 1673.\n",
      "delta: 0.5955727153476151\n",
      "Heritability h2: 0.6267342067090548\n",
      "Sigma_g2: 4407.204534663662\n",
      "Sigma_e2: 2624.81077180196\n"
     ]
    }
   ],
   "source": [
    "fast.summary()"
   ]
  },
  {
   "cell_type": "code",
   "execution_count": 267,
   "metadata": {},
   "outputs": [
    {
     "name": "stdout",
     "output_type": "stream",
     "text": [
      "55.6258332103107\n",
      "The CV error of   lmm is 2872.5647399580994, wls is 4021.7656889703244, and ols is 3958.7607906402673\n",
      "The CVc error of  lmm is 2928.19057316841, wls is 4024.6738744738504, and ols is 3985.3067672016114\n",
      "The test error of lmm is 3147.380021381683, wls is 4394.554386231235, and ols is 4301.224827649088\n"
     ]
    }
   ],
   "source": [
    "# Using Test Error to estimate the Generalization error\n",
    "Error_cv_lmm = 1/n_tr * (np.sum(np.square(y_tr - H_cv_lmm @ y_tr)))\n",
    "Error_cv_wls = 1/n_tr * (np.sum(np.square(y_tr - H_cv_wls @ y_tr)))\n",
    "Error_cv_ols = 1/n_tr * (np.sum(np.square(y_tr - H_cv_ols @ y_tr)))\n",
    "\n",
    "\n",
    "\n",
    "V_inv = fast.V_inv()\n",
    "# using theoretical sigma_g2 to get the Covariance(y_tr, y_te)\n",
    "V_tr_te = 1/sc * sigma_g2 * W_tr @ W_te.T\n",
    "\n",
    "H_te_wls = X_te @ u.inv(X_tr.T @ V_inv @ X_tr) @ X_tr.T @ V_inv\n",
    "H_te_lmm = H_te_wls + V_tr_te.T @ V_inv @ (np.identity(n_tr) - X_tr @ u.inv(X_tr.T @ V_inv @ X_tr) @ X_tr.T @ V_inv) \n",
    "H_te_ols = X_te @ u.inv(X_tr.T @ X_tr) @ X_tr.T\n",
    "\n",
    "V = fast.V(sigma_g2 = sigma_g2, sigma_e2 = sigma_e2)\n",
    "Correction_lmm = 2 * (1/n_tr * np.trace(H_cv_lmm @ V) - 1/n_te * np.trace(H_te_lmm @ V_tr_te))\n",
    "Correction_wls = 2 * (1/n_tr * np.trace(H_cv_wls @ V) - 1/n_te * np.trace(H_te_wls @ V_tr_te))\n",
    "Correction_ols = 2 * (1/n_tr * np.trace(H_cv_ols @ V) - 1/n_te * np.trace(H_te_ols @ V_tr_te))\n",
    "\n",
    "Error_cv_lmm_c = Error_cv_lmm + Correction_lmm\n",
    "Error_cv_wls_c = Error_cv_wls + Correction_wls\n",
    "Error_cv_ols_c = Error_cv_ols + Correction_ols\n",
    "\n",
    "Error_te_lmm = 1/n_te *(np.sum(np.square(y_te - H_te_lmm @ y_tr)))\n",
    "Error_te_wls = 1/n_te *(np.sum(np.square(y_te - H_te_wls @ y_tr)))\n",
    "Error_te_ols = 1/n_te *(np.sum(np.square(y_te - H_te_ols @ y_tr)))\n",
    "\n",
    "\n",
    "\n",
    "print('The CV error of   lmm is {}, wls is {}, and ols is {}'.format(Error_cv_lmm, Error_cv_wls, Error_cv_ols))\n",
    "print('The CVc error of  lmm is {}, wls is {}, and ols is {}'.format(Error_cv_lmm_c, Error_cv_wls_c, Error_cv_ols_c))\n",
    "print('The test error of lmm is {}, wls is {}, and ols is {}'.format(Error_te_lmm, Error_te_wls, Error_te_ols))"
   ]
  },
  {
   "cell_type": "markdown",
   "metadata": {},
   "source": [
    "##### Using estimated sigma value"
   ]
  },
  {
   "cell_type": "code",
   "execution_count": 83,
   "metadata": {},
   "outputs": [
    {
     "name": "stdout",
     "output_type": "stream",
     "text": [
      "------------------------------------\n",
      "LowRank is set as True, using REML\n",
      "Rank of W is 1673.\n",
      "delta: 0.5955727153476151\n",
      "Heritability h2: 0.6267342067090548\n",
      "Sigma_g2: 4407.204534663662\n",
      "Sigma_e2: 2624.81077180196\n"
     ]
    }
   ],
   "source": [
    "fast.summary()"
   ]
  },
  {
   "cell_type": "code",
   "execution_count": 268,
   "metadata": {},
   "outputs": [],
   "source": [
    "n_tr,sc = W_tr.shape\n",
    "V = fast.sigma_g2 / sc * W_tr @ W_tr.T + fast.sigma_e2 * np.identity(n_tr)\n",
    "\n",
    "H_cv_lmm2 = np.zeros([n_tr,n_tr])\n",
    "H_cv_wls2 = np.zeros([n_tr,n_tr])\n",
    "H_cv_ols2 = np.zeros([n_tr,n_tr])\n",
    "\n",
    "H_cv_temp = np.zeros([n_tr,n_tr-1])\n",
    "# V_minusi_inv_storage = np.zeros([n_tr,n_tr-1,n_tr-1]) \n",
    "# Store the inverse of Variance to reduce time consumpution \n",
    "# Storge comsumption will be too large\n",
    "\n",
    "for i in range(n_tr):\n",
    "    indices_mi= list(range(n_tr))\n",
    "    indices_mi.remove(i)\n",
    "    V_minusi_inv = u.inv(V[indices_mi,:][:,indices_mi]) \n",
    "    X_minusi = X_tr[indices_mi, :]\n",
    "\n",
    "    inverse1 = u.inv(X_minusi.T @ V_minusi_inv @ X_minusi)\n",
    "    inverse2 = u.inv(X_minusi.T @  X_minusi)\n",
    "\n",
    "    beta_temp = inverse1 @ X_minusi.T @ V_minusi_inv\n",
    "    temp = X_tr[i,:] @ beta_temp\n",
    "    H_cv_temp = X_minusi @ beta_temp\n",
    "\n",
    "    H_cv_wls2[i, indices_mi] = temp\n",
    "    H_cv_lmm2[i, indices_mi] = temp + \\\n",
    "        V[i, indices_mi] @ u.inv(V[indices_mi,:][:,indices_mi])  @\\\n",
    "             (np.identity(n_tr - 1) - H_cv_temp)\n",
    "\n",
    "    H_cv_ols2[i, indices_mi] = X_tr[i,:] @ inverse2 @ X_minusi.T \n",
    "#   H_cv_temp[i, ] = temp\n",
    "\n",
    "# for i in range(n_tr):\n",
    "#     indices_mi= list(range(n_tr))\n",
    "#     indices_mi.remove(i)\n",
    "#     H_cv_lmm[i, indices_mi] = H_cv_wls[i, indices_mi] + \\\n",
    "#         V[i, indices_mi] @ u.inv(V[indices_mi,:][:,indices_mi])  @ (np.identity(n_tr - 1) - H_cv_temp[indices_mi,: ])\n",
    "\n",
    "np.savez('Parameteres/H_cv LMM2.npz', H_cv_ols = H_cv_ols2,H_cv_wls = H_cv_wls2, H_cv_lmm= H_cv_lmm2)"
   ]
  },
  {
   "cell_type": "code",
   "execution_count": 269,
   "metadata": {},
   "outputs": [
    {
     "name": "stdout",
     "output_type": "stream",
     "text": [
      "The CV error of   lmm is 2863.589204967364, wls is 4086.1420579337737, and ols is 3958.7607906402673\n",
      "The CVc error of  lmm is 2955.5977630071848, wls is 4089.113084571088, and ols is 4002.1606211191156\n",
      "The test error of lmm is 3125.187171464316, wls is 4482.009660400972, and ols is 4301.224827649088\n"
     ]
    }
   ],
   "source": [
    "# Using Test Error to estimate the Generalization error\n",
    "Error_cv_lmm = 1/n_tr * (np.sum(np.square(y_tr - H_cv_lmm2 @ y_tr)))\n",
    "Error_cv_wls = 1/n_tr * (np.sum(np.square(y_tr - H_cv_wls2 @ y_tr)))\n",
    "Error_cv_ols = 1/n_tr * (np.sum(np.square(y_tr - H_cv_ols2 @ y_tr)))\n",
    "\n",
    "\n",
    "\n",
    "V_inv = fast.V_inv()\n",
    "# using estimated sigma_g2 to get the Covariance(y_tr, y_te)\n",
    "V_tr_te = 1/sc * fast.sigma_g2 * W_tr @ W_te.T\n",
    "\n",
    "H_te_wls = X_te @ u.inv(X_tr.T @ V_inv @ X_tr) @ X_tr.T @ V_inv\n",
    "H_te_lmm = H_te_wls + V_tr_te.T @ V_inv @ (np.identity(n_tr) - X_tr @ u.inv(X_tr.T @ V_inv @ X_tr) @ X_tr.T @ V_inv) \n",
    "H_te_ols = X_te @ u.inv(X_tr.T @ X_tr) @ X_tr.T\n",
    "\n",
    "V = fast.V()\n",
    "Correction_lmm = 2 * (1/n_tr * np.trace(H_cv_lmm2 @ V) - 1/n_te * np.trace(H_te_lmm @ V_tr_te))\n",
    "Correction_wls = 2 * (1/n_tr * np.trace(H_cv_wls2 @ V) - 1/n_te * np.trace(H_te_wls @ V_tr_te))\n",
    "Correction_ols = 2 * (1/n_tr * np.trace(H_cv_ols2 @ V) - 1/n_te * np.trace(H_te_ols @ V_tr_te))\n",
    "\n",
    "Error_cv_lmm_c = Error_cv_lmm + Correction_lmm\n",
    "Error_cv_wls_c = Error_cv_wls + Correction_wls\n",
    "Error_cv_ols_c = Error_cv_ols + Correction_ols\n",
    "\n",
    "Error_te_lmm = 1/n_te *(np.sum(np.square(y_te - H_te_lmm @ y_tr)))\n",
    "Error_te_wls = 1/n_te *(np.sum(np.square(y_te - H_te_wls @ y_tr)))\n",
    "Error_te_ols = 1/n_te *(np.sum(np.square(y_te - H_te_ols @ y_tr)))\n",
    "\n",
    "print('The CV error of   lmm is {}, wls is {}, and ols is {}'.format(Error_cv_lmm, Error_cv_wls, Error_cv_ols))\n",
    "print('The CVc error of  lmm is {}, wls is {}, and ols is {}'.format(Error_cv_lmm_c, Error_cv_wls_c, Error_cv_ols_c))\n",
    "print('The test error of lmm is {}, wls is {}, and ols is {}'.format(Error_te_lmm, Error_te_wls, Error_te_ols))"
   ]
  },
  {
   "cell_type": "markdown",
   "metadata": {},
   "source": [
    "#### Testing with null space of w_tr testing data"
   ]
  },
  {
   "cell_type": "code",
   "execution_count": 126,
   "metadata": {},
   "outputs": [],
   "source": [
    "from scipy.linalg import null_space\n",
    "null_V = null_space(W_tr)"
   ]
  },
  {
   "cell_type": "code",
   "execution_count": 147,
   "metadata": {},
   "outputs": [],
   "source": [
    "W_te_in_null_V = null_V.T\n",
    "n_te_in_null_V = W_te_in_null_V.shape[0]\n",
    "X_te_in_null_V = np.concatenate([np.ones([n_te_in_null_V,1]), W_te_in_null_V[:, :num_large_effet_terms]], axis = 1)\n",
    "np.random.seed(0)\n",
    "epsilon = np.random.normal(0, np.sqrt(sigma_e2), n_te_in_null_V)\n",
    "y_te_in_null_V = W_te_in_null_V @ beta[1:]  + beta[0] + epsilon"
   ]
  },
  {
   "cell_type": "code",
   "execution_count": 151,
   "metadata": {},
   "outputs": [
    {
     "name": "stdout",
     "output_type": "stream",
     "text": [
      "The CV error of   lmm is 3166.1290499916586, wls is 4086.1420579337723, and ols is 3958.7607906402673\n",
      "The CVc error of  lmm is 10967.655802624773, wls is 6582.661526050029, and ols is 10643.766022072985\n",
      "The test error of lmm is 777484.2286892927, wls is 777484.2286892927, and ols is 715767.2650530639\n"
     ]
    }
   ],
   "source": [
    "# Using Test Error to estimate the Generalization error\n",
    "Error_cv_lmm = 1/n_tr * (np.sum(np.square(y_tr - H_cv_lmm2 @ y_tr)))\n",
    "Error_cv_wls = 1/n_tr * (np.sum(np.square(y_tr - H_cv_wls2 @ y_tr)))\n",
    "Error_cv_ols = 1/n_tr * (np.sum(np.square(y_tr - H_cv_ols2 @ y_tr)))\n",
    "\n",
    "\n",
    "\n",
    "V_inv = fast.V_inv()\n",
    "# using estimated sigma_g2 to get the Covariance(y_tr, y_te)\n",
    "V_tr_te = 1/sc * fast.sigma_g2 * W_tr @ W_te_in_null_V.T\n",
    "\n",
    "H_te_wls = X_te_in_null_V @ u.inv(X_tr.T @ V_inv @ X_tr) @ X_tr.T @ V_inv\n",
    "H_te_lmm = H_te_wls + V_tr_te.T @ V_inv @ (np.identity(n_tr) - X_tr @ u.inv(X_tr.T @ V_inv @ X_tr) @ X_tr.T @ V_inv) \n",
    "H_te_ols = X_te_in_null_V @ u.inv(X_tr.T @ X_tr) @ X_tr.T\n",
    "\n",
    "V = fast.V()\n",
    "Correction_lmm = 2 * (1/n_tr * np.trace(H_cv_lmm2 @ V) - 1/n_te * np.trace(H_te_lmm @ V_tr_te))\n",
    "Correction_wls = 2 * (1/n_tr * np.trace(H_cv_wls2 @ V) - 1/n_te * np.trace(H_te_wls @ V_tr_te))\n",
    "Correction_ols = 2 * (1/n_tr * np.trace(H_cv_ols2 @ V) - 1/n_te * np.trace(H_te_ols @ V_tr_te))\n",
    "\n",
    "Error_cv_lmm_c = Error_cv_lmm + Correction_lmm\n",
    "Error_cv_wls_c = Error_cv_wls + Correction_wls\n",
    "Error_cv_ols_c = Error_cv_ols + Correction_ols\n",
    "\n",
    "Error_te_lmm = 1/n_te *(np.sum(np.square(y_te_in_null_V - H_te_lmm @ y_tr)))\n",
    "Error_te_wls = 1/n_te *(np.sum(np.square(y_te_in_null_V - H_te_wls @ y_tr)))\n",
    "Error_te_ols = 1/n_te *(np.sum(np.square(y_te_in_null_V - H_te_ols @ y_tr)))\n",
    "\n",
    "\n",
    "\n",
    "print('The CV error of   lmm is {}, wls is {}, and ols is {}'.format(Error_cv_lmm, Error_cv_wls, Error_cv_ols))\n",
    "print('The CVc error of  lmm is {}, wls is {}, and ols is {}'.format(Error_cv_lmm_c, Error_cv_wls_c, Error_cv_ols_c))\n",
    "print('The test error of lmm is {}, wls is {}, and ols is {}'.format(Error_te_lmm, Error_te_wls, Error_te_ols))"
   ]
  },
  {
   "cell_type": "markdown",
   "metadata": {},
   "source": [
    "#### Testing with random generated test data"
   ]
  },
  {
   "cell_type": "code",
   "execution_count": 153,
   "metadata": {},
   "outputs": [],
   "source": [
    "np.random.seed(0)\n",
    "W_te_random = np.random.choice([0,1,2], [n_te, sc])\n",
    "X_te_random = np.concatenate([np.ones([n_te,1]), W_te_random[:, :num_large_effet_terms]], axis = 1)\n",
    "epsilon = np.random.normal(0, np.sqrt(sigma_e2), n_te)\n",
    "y_te_random = W_te_random@ beta[1:]  + beta[0] + epsilon"
   ]
  },
  {
   "cell_type": "code",
   "execution_count": 156,
   "metadata": {},
   "outputs": [
    {
     "name": "stdout",
     "output_type": "stream",
     "text": [
      "The CV error of   lmm is 3166.1290499916586, wls is 4086.1420579337723, and ols is 3958.7607906402673\n",
      "The CVc error of  lmm is 3088.5540679543146, wls is 4446.571102554026, and ols is 4848.4583546978365\n",
      "The test error of lmm is 7007735.62992001, wls is 6988273.477089207, and ols is 7136313.608272911\n"
     ]
    }
   ],
   "source": [
    "# Using Test Error to estimate the Generalization error\n",
    "Error_cv_lmm = 1/n_tr * (np.sum(np.square(y_tr - H_cv_lmm2 @ y_tr)))\n",
    "Error_cv_wls = 1/n_tr * (np.sum(np.square(y_tr - H_cv_wls2 @ y_tr)))\n",
    "Error_cv_ols = 1/n_tr * (np.sum(np.square(y_tr - H_cv_ols2 @ y_tr)))\n",
    "\n",
    "\n",
    "\n",
    "V_inv = fast.V_inv()\n",
    "# using estimated sigma_g2 to get the Covariance(y_tr, y_te)\n",
    "V_tr_te = 1/sc * fast.sigma_g2 * W_tr @ W_te_random.T\n",
    "\n",
    "H_te_wls = X_te_random @ u.inv(X_tr.T @ V_inv @ X_tr) @ X_tr.T @ V_inv\n",
    "H_te_lmm = H_te_wls + V_tr_te.T @ V_inv @ (np.identity(n_tr) - X_tr @ u.inv(X_tr.T @ V_inv @ X_tr) @ X_tr.T @ V_inv) \n",
    "H_te_ols = X_te_random @ u.inv(X_tr.T @ X_tr) @ X_tr.T\n",
    "\n",
    "V = fast.V()\n",
    "Correction_lmm = 2 * (1/n_tr * np.trace(H_cv_lmm2 @ V) - 1/n_te * np.trace(H_te_lmm @ V_tr_te))\n",
    "Correction_wls = 2 * (1/n_tr * np.trace(H_cv_wls2 @ V) - 1/n_te * np.trace(H_te_wls @ V_tr_te))\n",
    "Correction_ols = 2 * (1/n_tr * np.trace(H_cv_ols2 @ V) - 1/n_te * np.trace(H_te_ols @ V_tr_te))\n",
    "\n",
    "Error_cv_lmm_c = Error_cv_lmm + Correction_lmm\n",
    "Error_cv_wls_c = Error_cv_wls + Correction_wls\n",
    "Error_cv_ols_c = Error_cv_ols + Correction_ols\n",
    "\n",
    "Error_te_lmm = 1/n_te *(np.sum(np.square(y_te_random - H_te_lmm @ y_tr)))\n",
    "Error_te_wls = 1/n_te *(np.sum(np.square(y_te_random - H_te_wls @ y_tr)))\n",
    "Error_te_ols = 1/n_te *(np.sum(np.square(y_te_random - H_te_ols @ y_tr)))\n",
    "\n",
    "\n",
    "\n",
    "print('The CV error of   lmm is {}, wls is {}, and ols is {}'.format(Error_cv_lmm, Error_cv_wls, Error_cv_ols))\n",
    "print('The CVc error of  lmm is {}, wls is {}, and ols is {}'.format(Error_cv_lmm_c, Error_cv_wls_c, Error_cv_ols_c))\n",
    "print('The test error of lmm is {}, wls is {}, and ols is {}'.format(Error_te_lmm, Error_te_wls, Error_te_ols))"
   ]
  },
  {
   "cell_type": "code",
   "execution_count": 176,
   "metadata": {},
   "outputs": [
    {
     "name": "stdout",
     "output_type": "stream",
     "text": [
      "(510,)\n"
     ]
    },
    {
     "data": {
      "text/plain": [
       "3434438.8720892463"
      ]
     },
     "execution_count": 176,
     "metadata": {},
     "output_type": "execute_result"
    }
   ],
   "source": [
    "y_te_random_hat = X_te_random @ u.inv(X_te_random.T @ X_te_random) @ X_te_random.T @ y_te_random\n",
    "print(y_te_random_hat.shape)\n",
    "np.sum(np.square(y_te_random_hat - y_te_random))"
   ]
  },
  {
   "cell_type": "markdown",
   "metadata": {},
   "source": [
    "#### CV with k folds"
   ]
  },
  {
   "cell_type": "code",
   "execution_count": 201,
   "metadata": {},
   "outputs": [
    {
     "data": {
      "text/plain": [
       "(2036, 1)"
      ]
     },
     "execution_count": 201,
     "metadata": {},
     "output_type": "execute_result"
    }
   ],
   "source": [
    "y_tr[list(range(5))+ list(range(8, n_tr))].shape"
   ]
  },
  {
   "cell_type": "code",
   "execution_count": 237,
   "metadata": {},
   "outputs": [
    {
     "name": "stdout",
     "output_type": "stream",
     "text": [
      "First 5 fold indices : [(0, 1), (1, 2), (2, 3), (3, 4), (4, 5)]\n"
     ]
    }
   ],
   "source": [
    "def H_function_ols(X_minus_k, X_k, y_minus_k, y_k ):\n",
    "    return X_k @ u.inv(X_minus_k.T @ X_minus_k) @ X_minus_k.T\n",
    "\n",
    "H_cv_ols_k = getHcv_for_Kfolds(X_tr, y_tr, H_function_ols, nfolds = n_tr )"
   ]
  },
  {
   "cell_type": "code",
   "execution_count": 253,
   "metadata": {},
   "outputs": [
    {
     "name": "stdout",
     "output_type": "stream",
     "text": [
      "First 5 fold indices : [(0, 204), (204, 408), (408, 612), (612, 816), (816, 1020)]\n"
     ]
    }
   ],
   "source": [
    "def H_function_wls(X_minus_k, X_k, y_minus_k, y_k, V):\n",
    "    V_inv = u.inv(V)\n",
    "    inverse = u.inv(X_minus_k.T @ V_inv @ X_minus_k) \n",
    "    return X_k @ inverse @ X_minus_k.T @ V_inv\n",
    "\n",
    "H_cv_wls_k = getHcv_for_Kfolds(X_tr, y_tr, H_function_wls, fast.V(), nfolds = 10)\n"
   ]
  },
  {
   "cell_type": "code",
   "execution_count": 264,
   "metadata": {},
   "outputs": [
    {
     "name": "stdout",
     "output_type": "stream",
     "text": [
      "First 5 fold indices : [(0, 204), (204, 408), (408, 612), (612, 816), (816, 1020)]\n"
     ]
    }
   ],
   "source": [
    "H_cv_lmm_k = np.zeros([n_tr, n_tr])\n",
    "V_inv = fast.V_inv()\n",
    "inverse = u.inv (X_tr.T @ V_inv @ X_tr)\n",
    "H_cv_temp = X_tr @ inverse @ X_tr.T @ V_inv\n",
    "\n",
    "folds_indices = get_folds_indices(10, n_tr)\n",
    "# get H_temp\n",
    "for Kindices in folds_indices:\n",
    "    ia,ib = Kindices\n",
    "    indices_minus_K = list(range(0, ia)) + list(range(ib, n_tr))\n",
    "\n",
    "    V_minus_k = V[indices_minus_K,:][:, indices_minus_K]\n",
    "    X_k = X_tr[ia:ib,:]\n",
    "    X_minus_k = X_tr[indices_minus_K,]\n",
    "\n",
    "    V_inv = u.inv(V_minus_k)\n",
    "\n",
    "    H_cv_temp = X_minus_k @ inverse @ X_minus_k.T @ V_inv\n",
    "\n",
    "    # inverse = u.inv(X_minus_k.T @ V_inv @ X_minus_k) \n",
    "\n",
    "    # temp =  X_k @ inverse @ X_minus_k.T @ V_inv\n",
    "    # H_cv_temp.append(temp)\n",
    "    \n",
    "    temp_u= V[ia:ib, indices_minus_K] @ u.inv(V_minus_k) @(\n",
    "        np.identity(n_tr - (ib - ia)) - H_cv_temp #[indices_minus_K,:][:, indices_minus_K]\n",
    "    )\n",
    "\n",
    "    H_cv_lmm_k[ia:ib, indices_minus_K] = H_cv_wls_k[ia:ib, indices_minus_K] + temp_u\n"
   ]
  },
  {
   "cell_type": "code",
   "execution_count": 265,
   "metadata": {},
   "outputs": [
    {
     "name": "stdout",
     "output_type": "stream",
     "text": [
      "The CV error of   lmm is 2924.597316831033, wls is 4156.506837943065, and ols is 3958.7607906402673\n",
      "The CVc error of  lmm is 3084.366379786584, wls is 4252.30842376592, and ols is 4002.1606211191156\n",
      "The test error of lmm is 3125.187171464316, wls is 4482.009660400972, and ols is 4301.224827649088\n"
     ]
    }
   ],
   "source": [
    "# Using Test Error to estimate the Generalization error\n",
    "Error_cv_lmm = 1/n_tr * (np.sum(np.square(y_tr - H_cv_lmm_k @ y_tr)))\n",
    "Error_cv_wls = 1/n_tr * (np.sum(np.square(y_tr - H_cv_wls_k @ y_tr)))\n",
    "Error_cv_ols = 1/n_tr * (np.sum(np.square(y_tr - H_cv_ols_k @ y_tr)))\n",
    "\n",
    "\n",
    "\n",
    "V_inv = fast.V_inv()\n",
    "# using estimated sigma_g2 to get the Covariance(y_tr, y_te)\n",
    "V_tr_te = 1/sc * fast.sigma_g2 * W_tr @ W_te.T\n",
    "\n",
    "H_te_wls = X_te @ u.inv(X_tr.T @ V_inv @ X_tr) @ X_tr.T @ V_inv\n",
    "H_te_lmm = H_te_wls + V_tr_te.T @ V_inv @ (np.identity(n_tr) - X_tr @ u.inv(X_tr.T @ V_inv @ X_tr) @ X_tr.T @ V_inv) \n",
    "H_te_ols = X_te @ u.inv(X_tr.T @ X_tr) @ X_tr.T\n",
    "\n",
    "V = fast.V()\n",
    "Correction_lmm = 2 * (1/n_tr * np.trace(H_cv_lmm_k @ V) - 1/n_te * np.trace(H_te_lmm @ V_tr_te))\n",
    "Correction_wls = 2 * (1/n_tr * np.trace(H_cv_wls_k @ V) - 1/n_te * np.trace(H_te_wls @ V_tr_te))\n",
    "Correction_ols = 2 * (1/n_tr * np.trace(H_cv_ols_k @ V) - 1/n_te * np.trace(H_te_ols @ V_tr_te))\n",
    "\n",
    "Error_cv_lmm_c = Error_cv_lmm + Correction_lmm\n",
    "Error_cv_wls_c = Error_cv_wls + Correction_wls\n",
    "Error_cv_ols_c = Error_cv_ols + Correction_ols\n",
    "\n",
    "Error_te_lmm = 1/n_te *(np.sum(np.square(y_te - H_te_lmm @ y_tr)))\n",
    "Error_te_wls = 1/n_te *(np.sum(np.square(y_te - H_te_wls @ y_tr)))\n",
    "Error_te_ols = 1/n_te *(np.sum(np.square(y_te - H_te_ols @ y_tr)))\n",
    "\n",
    "\n",
    "\n",
    "print('The CV error of   lmm is {}, wls is {}, and ols is {}'.format(Error_cv_lmm, Error_cv_wls, Error_cv_ols))\n",
    "print('The CVc error of  lmm is {}, wls is {}, and ols is {}'.format(Error_cv_lmm_c, Error_cv_wls_c, Error_cv_ols_c))\n",
    "print('The test error of lmm is {}, wls is {}, and ols is {}'.format(Error_te_lmm, Error_te_wls, Error_te_ols))"
   ]
  },
  {
   "cell_type": "markdown",
   "metadata": {},
   "source": [
    "### Ridge\n",
    "\n",
    "\n",
    "$$\n",
    "Q(\\boldsymbol{\\beta})=\\frac{1}{n}(\\mathbf{y}-\\mathbf{X} \\boldsymbol{\\beta})^{\\prime}(\\mathbf{y}-\\mathbf{X} \\boldsymbol{\\beta})+ \\lambda ||{\\beta}||_2\n",
    "$$\n",
    "\n",
    "$$\n",
    "\\hat \\beta = \\left(X^\\top X +n \\lambda \\mathbf{I} \\right)^{-1} X^{\\top} Y\n",
    "$$\n",
    "\n",
    "So the \n",
    "$$\n",
    "\\hat Y = H Y = X \\left(X^\\top X + n\\lambda \\mathbf{I} \\right)^{-1} X^{\\top} Y\n",
    "$$\n"
   ]
  },
  {
   "cell_type": "markdown",
   "metadata": {},
   "source": [
    "##### Training and testing error of Ridge"
   ]
  },
  {
   "cell_type": "code",
   "execution_count": 272,
   "metadata": {},
   "outputs": [
    {
     "name": "stdout",
     "output_type": "stream",
     "text": [
      "training error of ridge is 3937.30, test error is 4296.72, corrected training error is 4029.31\n"
     ]
    }
   ],
   "source": [
    "n_tr,p = X_tr.shape\n",
    "\n",
    "nlamb = 10\n",
    "beta_without_y = u.inv(X_tr.T @ X_tr + nlamb * np.identity(p)) @ X_tr.T\n",
    "beta_hat_ridge = beta_without_y @ y_tr\n",
    "H_tr_ridge = X_tr @ beta_without_y\n",
    "H_te_ridge = X_te @ beta_without_y\n",
    "y_tr_hat_ridge = H_tr_ridge @ y_tr\n",
    "y_te_hat_ridge = H_te_ridge @ y_tr \n",
    "\n",
    "tr_error_ridge = 1/n_tr * np.sum((y_tr-y_tr_hat_ridge) ** 2)\n",
    "te_error_ridge = 1/n_te * np.sum((y_te-y_te_hat_ridge) ** 2)\n",
    "\n",
    "Correction_ridge = 2 * (1/n_tr * np.trace(H_tr_ridge @ V) - 1/n_te * np.trace(H_te_ridge @ V_tr_te))\n",
    "tr_error_ridge_c = tr_error_ridge + Correction_lmm\n",
    "print('training error of ridge is {:.2f}, test error is {:.2f}, corrected training error is {:.2f}'.\n",
    "    format(tr_error_ridge, te_error_ridge, tr_error_ridge_c))"
   ]
  },
  {
   "cell_type": "code",
   "execution_count": 121,
   "metadata": {},
   "outputs": [
    {
     "name": "stdout",
     "output_type": "stream",
     "text": [
      "training error of ridge is 1629.12, test error is 5291.02, sigma_e2 is 3321.627\n"
     ]
    }
   ],
   "source": [
    "print('training error of ridge is {:.2f}, test error is {:.2f}, sigma_e2 is {:.3f}'.format(tr_error_ridge, te_error_ridge, sigma_e2))"
   ]
  },
  {
   "cell_type": "markdown",
   "metadata": {},
   "source": [
    "##### LOO Cross-valication "
   ]
  },
  {
   "cell_type": "code",
   "execution_count": 347,
   "metadata": {},
   "outputs": [],
   "source": [
    "n_tr,p = X_tr.shape\n",
    "H_cv_ridge = np.zeros([n_tr,n_tr])\n",
    "\n",
    "lamb = 100 \n",
    "for i in range(n_tr):\n",
    "    indices_mi= list(range(n_tr))\n",
    "    indices_mi.remove(i)\n",
    "    X_minusi = X_tr[indices_mi, :]\n",
    "    inverse = u.inv(X_minusi.T @  X_minusi + lamb * np.diag(np.ones(p)) )\n",
    "\n",
    "    temp = X_tr[i,:] @ inverse @ X_minusi.T  \n",
    "    H_cv_ridge[i, indices_mi] = temp\n",
    "\n",
    "np.savez('Parameters/H_cv ridge.npz', H_cv_ridge = H_cv_ridge)"
   ]
  },
  {
   "cell_type": "code",
   "execution_count": 279,
   "metadata": {},
   "outputs": [
    {
     "name": "stdout",
     "output_type": "stream",
     "text": [
      "The CV error and CVc error and test error of ridge are 3971.16, 4005.64, 4310.60\n"
     ]
    }
   ],
   "source": [
    "Error_cv_ridge = 1/n_tr * (np.sum((y_tr - H_cv_ridge @ y_tr)**2))\n",
    "\n",
    "H_te_ridge = X_te @ u.inv(X_tr.T @ X_tr + lamb * np.identity(p)) @ X_tr.T\n",
    "Error_te_ridge = 1/n_te * (np.sum((y_te - H_te_ridge @ y_tr)**2))\n",
    "\n",
    "\n",
    "Correction_ridge = 2  * (np.trace(H_cv_ridge @ V)/n_tr - np.trace(H_te_ridge @ V_tr_te) /n_te)\n",
    "Error_cv_ridge_c = Error_cv_ridge + Correction_ridge\n",
    "\n",
    "print('The CV error and CVc error and test error of ridge are {:.2f}, {:.2f}, {:.2f}'\n",
    ".format(Error_cv_ridge, Error_cv_ridge_c, Error_te_ridge))"
   ]
  },
  {
   "cell_type": "markdown",
   "metadata": {},
   "source": [
    "##### CV with k folds"
   ]
  },
  {
   "cell_type": "code",
   "execution_count": 295,
   "metadata": {},
   "outputs": [
    {
     "name": "stdout",
     "output_type": "stream",
     "text": [
      "First 5 fold indices : [(0, 1020), (1020, 2039)]\n"
     ]
    }
   ],
   "source": [
    " \n",
    "def H_function_ridge(X_minus_k, X_k, y_minus_k, y_k ):\n",
    "\n",
    "    return X_k @ u.inv(X_minus_k.T @ X_minus_k + lamb * np.identity(X_minus_k.shape[1])) @ X_minus_k.T\n",
    "\n",
    "H_cv_ridge_k = getHcv_for_Kfolds(X_tr, y_tr, H_function_ridge, nfolds = 2)"
   ]
  },
  {
   "cell_type": "code",
   "execution_count": 299,
   "metadata": {},
   "outputs": [
    {
     "name": "stdout",
     "output_type": "stream",
     "text": [
      "The CV error and CVc error and test error of ridge are 4005.21, 3981.10, 4310.60\n"
     ]
    }
   ],
   "source": [
    "V = fast.V()\n",
    "V_tr_te = 1/sc * fast.sigma_g2* W_tr @ W_te.T\n",
    "Error_cv_ridge = 1/n_tr * (np.sum((y_tr - H_cv_ridge_k @ y_tr)**2))\n",
    "\n",
    "H_te_ridge = X_te @ u.inv(X_tr.T @ X_tr + lamb * np.identity(p)) @ X_tr.T\n",
    "Error_te_ridge = 1/n_te * (np.sum((y_te - H_te_ridge @ y_tr)**2))\n",
    "\n",
    "\n",
    "Correction_ridge = 2  * (1/n_tr*np.trace(H_cv_ridge_k @ V) - 1/n_te * np.trace(H_te_ridge @ V_tr_te))\n",
    "Error_cv_ridge_c = Error_cv_ridge + Correction_ridge\n",
    "\n",
    "print('The CV error and CVc error and test error of ridge are {:.2f}, {:.2f}, {:.2f}'\n",
    ".format(Error_cv_ridge, Error_cv_ridge_c, Error_te_ridge))"
   ]
  },
  {
   "cell_type": "code",
   "execution_count": 331,
   "metadata": {},
   "outputs": [
    {
     "name": "stdout",
     "output_type": "stream",
     "text": [
      "-14.747054866241797\n",
      "The CV error and CVc error and test error of ridge are 4005.21, 3990.46, 4310.60\n"
     ]
    }
   ],
   "source": [
    "sigma_g2_test = sigma_g2 \n",
    "# using theoretical sigma\n",
    "# V = fast.V(sigma_g2=sigma_g2_test, sigma_e2 = sigma_e2)\n",
    "V =  1/sc * sigma_g2_test * W_tr @ W_tr.T + sigma_e2 * np.identity(X_tr.shape[0])\n",
    "V_tr_te = 1/sc * sigma_g2_test * W_tr @ W_te.T\n",
    "Error_cv_ridge = 1/n_tr * (np.sum((y_tr - H_cv_ridge_k @ y_tr)**2))\n",
    "\n",
    "H_te_ridge = X_te @ u.inv(X_tr.T @ X_tr + lamb * np.identity(p)) @ X_tr.T\n",
    "Error_te_ridge = 1/n_te * (np.sum((y_te - H_te_ridge @ y_tr)**2))\n",
    "\n",
    "\n",
    "Correction_ridge = 2  * (1/n_tr*np.trace(H_cv_ridge_k @ V) - 1/n_te * np.trace(H_te_ridge @ V_tr_te))\n",
    "Error_cv_ridge_c = Error_cv_ridge + Correction_ridge\n",
    "\n",
    "print(Correction_ridge)\n",
    "print('The CV error and CVc error and test error of ridge are {:.2f}, {:.2f}, {:.2f}'\n",
    ".format(Error_cv_ridge, Error_cv_ridge_c, Error_te_ridge))"
   ]
  }
 ],
 "metadata": {
  "kernelspec": {
   "display_name": "Python 3.9.12 ('base')",
   "language": "python",
   "name": "python3"
  },
  "language_info": {
   "codemirror_mode": {
    "name": "ipython",
    "version": 3
   },
   "file_extension": ".py",
   "mimetype": "text/x-python",
   "name": "python",
   "nbconvert_exporter": "python",
   "pygments_lexer": "ipython3",
   "version": "3.9.12"
  },
  "orig_nbformat": 4,
  "vscode": {
   "interpreter": {
    "hash": "b09ec625f77bf4fd762565a912b97636504ad6ec901eb2d0f4cf5a7de23e1ee5"
   }
  }
 },
 "nbformat": 4,
 "nbformat_minor": 2
}
