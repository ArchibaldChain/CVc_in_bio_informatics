{
 "cells": [
  {
   "cell_type": "markdown",
   "metadata": {},
   "source": [
    "# Simulation"
   ]
  },
  {
   "cell_type": "markdown",
   "metadata": {},
   "source": [
    "### 1. Choose $n = 20$ genes"
   ]
  },
  {
   "cell_type": "code",
   "execution_count": 45,
   "metadata": {},
   "outputs": [],
   "source": [
    "import numpy as np\n",
    "import pandas as pd\n",
    "import os"
   ]
  },
  {
   "cell_type": "code",
   "execution_count": 46,
   "metadata": {},
   "outputs": [
    {
     "name": "stdout",
     "output_type": "stream",
     "text": [
      "i:\\Programming\\Python\\bio_informatics\n",
      "['a.txt', 'Chr1First2000 - 副本.vcf', 'Chr1First2000.vcf', 'eg.vcf', 'filtered_test.vcf', 'selected_genes.csv', 'SNP_in_200GENE_chr1.csv', 'SNP_in_20GENE_chr1.csv', 'test.csv']\n"
     ]
    }
   ],
   "source": [
    "print(os.getcwd())\n",
    "print(os.listdir('./data'))\n",
    "file = 'data/SNP_in_200GENE_chr1.csv'\n",
    "data = pd.read_csv(file, error_bad_lines=False)\n"
   ]
  },
  {
   "cell_type": "code",
   "execution_count": 47,
   "metadata": {},
   "outputs": [
    {
     "name": "stdout",
     "output_type": "stream",
     "text": [
      "10297\n"
     ]
    },
    {
     "data": {
      "text/html": [
       "<div>\n",
       "<style scoped>\n",
       "    .dataframe tbody tr th:only-of-type {\n",
       "        vertical-align: middle;\n",
       "    }\n",
       "\n",
       "    .dataframe tbody tr th {\n",
       "        vertical-align: top;\n",
       "    }\n",
       "\n",
       "    .dataframe thead th {\n",
       "        text-align: right;\n",
       "    }\n",
       "</style>\n",
       "<table border=\"1\" class=\"dataframe\">\n",
       "  <thead>\n",
       "    <tr style=\"text-align: right;\">\n",
       "      <th></th>\n",
       "      <th>GENE</th>\n",
       "      <th>POS</th>\n",
       "      <th>HG00096</th>\n",
       "      <th>HG00097</th>\n",
       "      <th>HG00099</th>\n",
       "      <th>HG00100</th>\n",
       "      <th>HG00101</th>\n",
       "      <th>HG00102</th>\n",
       "      <th>HG00103</th>\n",
       "      <th>HG00104</th>\n",
       "      <th>...</th>\n",
       "      <th>NA21128</th>\n",
       "      <th>NA21129</th>\n",
       "      <th>NA21130</th>\n",
       "      <th>NA21133</th>\n",
       "      <th>NA21135</th>\n",
       "      <th>NA21137</th>\n",
       "      <th>NA21141</th>\n",
       "      <th>NA21142</th>\n",
       "      <th>NA21143</th>\n",
       "      <th>NA21144</th>\n",
       "    </tr>\n",
       "  </thead>\n",
       "  <tbody>\n",
       "    <tr>\n",
       "      <th>0</th>\n",
       "      <td>ENSG00000227634</td>\n",
       "      <td>8269039</td>\n",
       "      <td>2</td>\n",
       "      <td>2</td>\n",
       "      <td>1</td>\n",
       "      <td>2</td>\n",
       "      <td>2</td>\n",
       "      <td>1</td>\n",
       "      <td>1</td>\n",
       "      <td>2</td>\n",
       "      <td>...</td>\n",
       "      <td>1</td>\n",
       "      <td>2</td>\n",
       "      <td>1</td>\n",
       "      <td>2</td>\n",
       "      <td>1</td>\n",
       "      <td>2</td>\n",
       "      <td>2</td>\n",
       "      <td>1</td>\n",
       "      <td>2</td>\n",
       "      <td>1</td>\n",
       "    </tr>\n",
       "    <tr>\n",
       "      <th>1</th>\n",
       "      <td>ENSG00000227634</td>\n",
       "      <td>8269341</td>\n",
       "      <td>0</td>\n",
       "      <td>0</td>\n",
       "      <td>0</td>\n",
       "      <td>0</td>\n",
       "      <td>0</td>\n",
       "      <td>0</td>\n",
       "      <td>0</td>\n",
       "      <td>0</td>\n",
       "      <td>...</td>\n",
       "      <td>0</td>\n",
       "      <td>0</td>\n",
       "      <td>0</td>\n",
       "      <td>0</td>\n",
       "      <td>0</td>\n",
       "      <td>0</td>\n",
       "      <td>0</td>\n",
       "      <td>0</td>\n",
       "      <td>0</td>\n",
       "      <td>0</td>\n",
       "    </tr>\n",
       "    <tr>\n",
       "      <th>2</th>\n",
       "      <td>ENSG00000227634</td>\n",
       "      <td>8269373</td>\n",
       "      <td>2</td>\n",
       "      <td>2</td>\n",
       "      <td>1</td>\n",
       "      <td>2</td>\n",
       "      <td>2</td>\n",
       "      <td>1</td>\n",
       "      <td>1</td>\n",
       "      <td>2</td>\n",
       "      <td>...</td>\n",
       "      <td>1</td>\n",
       "      <td>2</td>\n",
       "      <td>1</td>\n",
       "      <td>2</td>\n",
       "      <td>1</td>\n",
       "      <td>2</td>\n",
       "      <td>2</td>\n",
       "      <td>1</td>\n",
       "      <td>2</td>\n",
       "      <td>1</td>\n",
       "    </tr>\n",
       "    <tr>\n",
       "      <th>3</th>\n",
       "      <td>ENSG00000227634</td>\n",
       "      <td>8269650</td>\n",
       "      <td>2</td>\n",
       "      <td>2</td>\n",
       "      <td>1</td>\n",
       "      <td>2</td>\n",
       "      <td>2</td>\n",
       "      <td>1</td>\n",
       "      <td>1</td>\n",
       "      <td>2</td>\n",
       "      <td>...</td>\n",
       "      <td>1</td>\n",
       "      <td>2</td>\n",
       "      <td>1</td>\n",
       "      <td>1</td>\n",
       "      <td>1</td>\n",
       "      <td>2</td>\n",
       "      <td>2</td>\n",
       "      <td>1</td>\n",
       "      <td>2</td>\n",
       "      <td>1</td>\n",
       "    </tr>\n",
       "    <tr>\n",
       "      <th>4</th>\n",
       "      <td>ENSG00000227634</td>\n",
       "      <td>8269712</td>\n",
       "      <td>0</td>\n",
       "      <td>0</td>\n",
       "      <td>0</td>\n",
       "      <td>0</td>\n",
       "      <td>0</td>\n",
       "      <td>0</td>\n",
       "      <td>0</td>\n",
       "      <td>0</td>\n",
       "      <td>...</td>\n",
       "      <td>0</td>\n",
       "      <td>0</td>\n",
       "      <td>0</td>\n",
       "      <td>0</td>\n",
       "      <td>0</td>\n",
       "      <td>0</td>\n",
       "      <td>0</td>\n",
       "      <td>0</td>\n",
       "      <td>0</td>\n",
       "      <td>0</td>\n",
       "    </tr>\n",
       "  </tbody>\n",
       "</table>\n",
       "<p>5 rows × 2550 columns</p>\n",
       "</div>"
      ],
      "text/plain": [
       "              GENE      POS  HG00096  HG00097  HG00099  HG00100  HG00101  \\\n",
       "0  ENSG00000227634  8269039        2        2        1        2        2   \n",
       "1  ENSG00000227634  8269341        0        0        0        0        0   \n",
       "2  ENSG00000227634  8269373        2        2        1        2        2   \n",
       "3  ENSG00000227634  8269650        2        2        1        2        2   \n",
       "4  ENSG00000227634  8269712        0        0        0        0        0   \n",
       "\n",
       "   HG00102  HG00103  HG00104  ...  NA21128  NA21129  NA21130  NA21133  \\\n",
       "0        1        1        2  ...        1        2        1        2   \n",
       "1        0        0        0  ...        0        0        0        0   \n",
       "2        1        1        2  ...        1        2        1        2   \n",
       "3        1        1        2  ...        1        2        1        1   \n",
       "4        0        0        0  ...        0        0        0        0   \n",
       "\n",
       "   NA21135  NA21137  NA21141  NA21142  NA21143  NA21144  \n",
       "0        1        2        2        1        2        1  \n",
       "1        0        0        0        0        0        0  \n",
       "2        1        2        2        1        2        1  \n",
       "3        1        2        2        1        2        1  \n",
       "4        0        0        0        0        0        0  \n",
       "\n",
       "[5 rows x 2550 columns]"
      ]
     },
     "execution_count": 47,
     "metadata": {},
     "output_type": "execute_result"
    }
   ],
   "source": [
    "print(len(data))\n",
    "data.head()"
   ]
  },
  {
   "cell_type": "code",
   "execution_count": 48,
   "metadata": {},
   "outputs": [
    {
     "data": {
      "text/html": [
       "<div>\n",
       "<style scoped>\n",
       "    .dataframe tbody tr th:only-of-type {\n",
       "        vertical-align: middle;\n",
       "    }\n",
       "\n",
       "    .dataframe tbody tr th {\n",
       "        vertical-align: top;\n",
       "    }\n",
       "\n",
       "    .dataframe thead th {\n",
       "        text-align: right;\n",
       "    }\n",
       "</style>\n",
       "<table border=\"1\" class=\"dataframe\">\n",
       "  <thead>\n",
       "    <tr style=\"text-align: right;\">\n",
       "      <th></th>\n",
       "      <th>GENE</th>\n",
       "      <th>POS</th>\n",
       "      <th>HG00096</th>\n",
       "      <th>HG00097</th>\n",
       "      <th>HG00099</th>\n",
       "      <th>HG00100</th>\n",
       "      <th>HG00101</th>\n",
       "      <th>HG00102</th>\n",
       "      <th>HG00103</th>\n",
       "      <th>HG00104</th>\n",
       "      <th>...</th>\n",
       "      <th>NA21129</th>\n",
       "      <th>NA21130</th>\n",
       "      <th>NA21133</th>\n",
       "      <th>NA21135</th>\n",
       "      <th>NA21137</th>\n",
       "      <th>NA21141</th>\n",
       "      <th>NA21142</th>\n",
       "      <th>NA21143</th>\n",
       "      <th>NA21144</th>\n",
       "      <th>gene</th>\n",
       "    </tr>\n",
       "  </thead>\n",
       "  <tbody>\n",
       "    <tr>\n",
       "      <th>0</th>\n",
       "      <td>ENSG00000227634</td>\n",
       "      <td>8269039</td>\n",
       "      <td>2</td>\n",
       "      <td>2</td>\n",
       "      <td>1</td>\n",
       "      <td>2</td>\n",
       "      <td>2</td>\n",
       "      <td>1</td>\n",
       "      <td>1</td>\n",
       "      <td>2</td>\n",
       "      <td>...</td>\n",
       "      <td>2</td>\n",
       "      <td>1</td>\n",
       "      <td>2</td>\n",
       "      <td>1</td>\n",
       "      <td>2</td>\n",
       "      <td>2</td>\n",
       "      <td>1</td>\n",
       "      <td>2</td>\n",
       "      <td>1</td>\n",
       "      <td>ENSG00000227634</td>\n",
       "    </tr>\n",
       "    <tr>\n",
       "      <th>1</th>\n",
       "      <td>ENSG00000227634</td>\n",
       "      <td>8269341</td>\n",
       "      <td>0</td>\n",
       "      <td>0</td>\n",
       "      <td>0</td>\n",
       "      <td>0</td>\n",
       "      <td>0</td>\n",
       "      <td>0</td>\n",
       "      <td>0</td>\n",
       "      <td>0</td>\n",
       "      <td>...</td>\n",
       "      <td>0</td>\n",
       "      <td>0</td>\n",
       "      <td>0</td>\n",
       "      <td>0</td>\n",
       "      <td>0</td>\n",
       "      <td>0</td>\n",
       "      <td>0</td>\n",
       "      <td>0</td>\n",
       "      <td>0</td>\n",
       "      <td>ENSG00000227634</td>\n",
       "    </tr>\n",
       "    <tr>\n",
       "      <th>2</th>\n",
       "      <td>ENSG00000227634</td>\n",
       "      <td>8269373</td>\n",
       "      <td>2</td>\n",
       "      <td>2</td>\n",
       "      <td>1</td>\n",
       "      <td>2</td>\n",
       "      <td>2</td>\n",
       "      <td>1</td>\n",
       "      <td>1</td>\n",
       "      <td>2</td>\n",
       "      <td>...</td>\n",
       "      <td>2</td>\n",
       "      <td>1</td>\n",
       "      <td>2</td>\n",
       "      <td>1</td>\n",
       "      <td>2</td>\n",
       "      <td>2</td>\n",
       "      <td>1</td>\n",
       "      <td>2</td>\n",
       "      <td>1</td>\n",
       "      <td>ENSG00000227634</td>\n",
       "    </tr>\n",
       "    <tr>\n",
       "      <th>3</th>\n",
       "      <td>ENSG00000227634</td>\n",
       "      <td>8269650</td>\n",
       "      <td>2</td>\n",
       "      <td>2</td>\n",
       "      <td>1</td>\n",
       "      <td>2</td>\n",
       "      <td>2</td>\n",
       "      <td>1</td>\n",
       "      <td>1</td>\n",
       "      <td>2</td>\n",
       "      <td>...</td>\n",
       "      <td>2</td>\n",
       "      <td>1</td>\n",
       "      <td>1</td>\n",
       "      <td>1</td>\n",
       "      <td>2</td>\n",
       "      <td>2</td>\n",
       "      <td>1</td>\n",
       "      <td>2</td>\n",
       "      <td>1</td>\n",
       "      <td>ENSG00000227634</td>\n",
       "    </tr>\n",
       "    <tr>\n",
       "      <th>4</th>\n",
       "      <td>ENSG00000227634</td>\n",
       "      <td>8269712</td>\n",
       "      <td>0</td>\n",
       "      <td>0</td>\n",
       "      <td>0</td>\n",
       "      <td>0</td>\n",
       "      <td>0</td>\n",
       "      <td>0</td>\n",
       "      <td>0</td>\n",
       "      <td>0</td>\n",
       "      <td>...</td>\n",
       "      <td>0</td>\n",
       "      <td>0</td>\n",
       "      <td>0</td>\n",
       "      <td>0</td>\n",
       "      <td>0</td>\n",
       "      <td>0</td>\n",
       "      <td>0</td>\n",
       "      <td>0</td>\n",
       "      <td>0</td>\n",
       "      <td>ENSG00000227634</td>\n",
       "    </tr>\n",
       "  </tbody>\n",
       "</table>\n",
       "<p>5 rows × 2551 columns</p>\n",
       "</div>"
      ],
      "text/plain": [
       "              GENE      POS  HG00096  HG00097  HG00099  HG00100  HG00101  \\\n",
       "0  ENSG00000227634  8269039        2        2        1        2        2   \n",
       "1  ENSG00000227634  8269341        0        0        0        0        0   \n",
       "2  ENSG00000227634  8269373        2        2        1        2        2   \n",
       "3  ENSG00000227634  8269650        2        2        1        2        2   \n",
       "4  ENSG00000227634  8269712        0        0        0        0        0   \n",
       "\n",
       "   HG00102  HG00103  HG00104  ...  NA21129  NA21130  NA21133  NA21135  \\\n",
       "0        1        1        2  ...        2        1        2        1   \n",
       "1        0        0        0  ...        0        0        0        0   \n",
       "2        1        1        2  ...        2        1        2        1   \n",
       "3        1        1        2  ...        2        1        1        1   \n",
       "4        0        0        0  ...        0        0        0        0   \n",
       "\n",
       "   NA21137  NA21141  NA21142  NA21143  NA21144             gene  \n",
       "0        2        2        1        2        1  ENSG00000227634  \n",
       "1        0        0        0        0        0  ENSG00000227634  \n",
       "2        2        2        1        2        1  ENSG00000227634  \n",
       "3        2        2        1        2        1  ENSG00000227634  \n",
       "4        0        0        0        0        0  ENSG00000227634  \n",
       "\n",
       "[5 rows x 2551 columns]"
      ]
     },
     "execution_count": 48,
     "metadata": {},
     "output_type": "execute_result"
    }
   ],
   "source": [
    "data['gene'] = data.GENE.astype('category')\n",
    "data.head()"
   ]
  },
  {
   "cell_type": "code",
   "execution_count": 49,
   "metadata": {},
   "outputs": [
    {
     "data": {
      "text/plain": [
       "gene\n",
       "ENSG00000001461    [ENSG00000001461]\n",
       "ENSG00000018625    [ENSG00000018625]\n",
       "ENSG00000084070    [ENSG00000084070]\n",
       "ENSG00000084072    [ENSG00000084072]\n",
       "ENSG00000116147    [ENSG00000116147]\n",
       "                         ...        \n",
       "ENSG00000268172    [ENSG00000268172]\n",
       "ENSG00000271647    [ENSG00000271647]\n",
       "ENSG00000271810    [ENSG00000271810]\n",
       "ENSG00000272084    [ENSG00000272084]\n",
       "ENSG00000273002    [ENSG00000273002]\n",
       "Name: GENE, Length: 136, dtype: object"
      ]
     },
     "execution_count": 49,
     "metadata": {},
     "output_type": "execute_result"
    }
   ],
   "source": [
    "data.groupby('gene').GENE.unique().sort_values()"
   ]
  },
  {
   "cell_type": "code",
   "execution_count": 50,
   "metadata": {},
   "outputs": [
    {
     "name": "stdout",
     "output_type": "stream",
     "text": [
      "CategoricalIndex(['ENSG00000116704', 'ENSG00000162378', 'ENSG00000162374',\n",
      "                  'ENSG00000168710', 'ENSG00000121644', 'ENSG00000116353',\n",
      "                  'ENSG00000237413', 'ENSG00000143190', 'ENSG00000203739',\n",
      "                  'ENSG00000134198', 'ENSG00000153207', 'ENSG00000229956',\n",
      "                  'ENSG00000198198', 'ENSG00000172380', 'ENSG00000143702',\n",
      "                  'ENSG00000225006', 'ENSG00000117461', 'ENSG00000117602',\n",
      "                  'ENSG00000143344', 'ENSG00000162688'],\n",
      "                 categories=['ENSG00000001461', 'ENSG00000018625', 'ENSG00000084070', 'ENSG00000084072', 'ENSG00000116147', 'ENSG00000116353', 'ENSG00000116497', 'ENSG00000116704', ...], ordered=False, name='gene', dtype='category')\n"
     ]
    }
   ],
   "source": [
    "# Selecting 20 Genes that have more than 100 SNPs\n",
    "n = 20\n",
    "counts = data.groupby('gene').size().sort_values(ascending=False) \n",
    "groups = counts[counts > 100].sample(n, replace = False, random_state = 1 ).index\n",
    "\n",
    "print(groups)"
   ]
  },
  {
   "cell_type": "code",
   "execution_count": 51,
   "metadata": {},
   "outputs": [
    {
     "name": "stdout",
     "output_type": "stream",
     "text": [
      "5443\n"
     ]
    },
    {
     "data": {
      "text/html": [
       "<div>\n",
       "<style scoped>\n",
       "    .dataframe tbody tr th:only-of-type {\n",
       "        vertical-align: middle;\n",
       "    }\n",
       "\n",
       "    .dataframe tbody tr th {\n",
       "        vertical-align: top;\n",
       "    }\n",
       "\n",
       "    .dataframe thead th {\n",
       "        text-align: right;\n",
       "    }\n",
       "</style>\n",
       "<table border=\"1\" class=\"dataframe\">\n",
       "  <thead>\n",
       "    <tr style=\"text-align: right;\">\n",
       "      <th></th>\n",
       "      <th>GENE</th>\n",
       "      <th>POS</th>\n",
       "      <th>HG00096</th>\n",
       "      <th>HG00097</th>\n",
       "      <th>HG00099</th>\n",
       "      <th>HG00100</th>\n",
       "      <th>HG00101</th>\n",
       "      <th>HG00102</th>\n",
       "      <th>HG00103</th>\n",
       "      <th>HG00104</th>\n",
       "      <th>...</th>\n",
       "      <th>NA21129</th>\n",
       "      <th>NA21130</th>\n",
       "      <th>NA21133</th>\n",
       "      <th>NA21135</th>\n",
       "      <th>NA21137</th>\n",
       "      <th>NA21141</th>\n",
       "      <th>NA21142</th>\n",
       "      <th>NA21143</th>\n",
       "      <th>NA21144</th>\n",
       "      <th>gene</th>\n",
       "    </tr>\n",
       "  </thead>\n",
       "  <tbody>\n",
       "    <tr>\n",
       "      <th>331</th>\n",
       "      <td>ENSG00000117602</td>\n",
       "      <td>24830297</td>\n",
       "      <td>2</td>\n",
       "      <td>2</td>\n",
       "      <td>2</td>\n",
       "      <td>2</td>\n",
       "      <td>2</td>\n",
       "      <td>2</td>\n",
       "      <td>2</td>\n",
       "      <td>2</td>\n",
       "      <td>...</td>\n",
       "      <td>2</td>\n",
       "      <td>2</td>\n",
       "      <td>2</td>\n",
       "      <td>2</td>\n",
       "      <td>2</td>\n",
       "      <td>2</td>\n",
       "      <td>2</td>\n",
       "      <td>2</td>\n",
       "      <td>2</td>\n",
       "      <td>ENSG00000117602</td>\n",
       "    </tr>\n",
       "    <tr>\n",
       "      <th>332</th>\n",
       "      <td>ENSG00000117602</td>\n",
       "      <td>24831517</td>\n",
       "      <td>2</td>\n",
       "      <td>2</td>\n",
       "      <td>2</td>\n",
       "      <td>2</td>\n",
       "      <td>2</td>\n",
       "      <td>2</td>\n",
       "      <td>2</td>\n",
       "      <td>2</td>\n",
       "      <td>...</td>\n",
       "      <td>2</td>\n",
       "      <td>2</td>\n",
       "      <td>2</td>\n",
       "      <td>2</td>\n",
       "      <td>2</td>\n",
       "      <td>2</td>\n",
       "      <td>2</td>\n",
       "      <td>2</td>\n",
       "      <td>2</td>\n",
       "      <td>ENSG00000117602</td>\n",
       "    </tr>\n",
       "    <tr>\n",
       "      <th>333</th>\n",
       "      <td>ENSG00000117602</td>\n",
       "      <td>24832009</td>\n",
       "      <td>2</td>\n",
       "      <td>2</td>\n",
       "      <td>1</td>\n",
       "      <td>0</td>\n",
       "      <td>1</td>\n",
       "      <td>2</td>\n",
       "      <td>2</td>\n",
       "      <td>1</td>\n",
       "      <td>...</td>\n",
       "      <td>1</td>\n",
       "      <td>2</td>\n",
       "      <td>2</td>\n",
       "      <td>0</td>\n",
       "      <td>2</td>\n",
       "      <td>2</td>\n",
       "      <td>1</td>\n",
       "      <td>0</td>\n",
       "      <td>0</td>\n",
       "      <td>ENSG00000117602</td>\n",
       "    </tr>\n",
       "    <tr>\n",
       "      <th>334</th>\n",
       "      <td>ENSG00000117602</td>\n",
       "      <td>24835018</td>\n",
       "      <td>2</td>\n",
       "      <td>2</td>\n",
       "      <td>1</td>\n",
       "      <td>2</td>\n",
       "      <td>2</td>\n",
       "      <td>1</td>\n",
       "      <td>1</td>\n",
       "      <td>1</td>\n",
       "      <td>...</td>\n",
       "      <td>2</td>\n",
       "      <td>1</td>\n",
       "      <td>2</td>\n",
       "      <td>2</td>\n",
       "      <td>2</td>\n",
       "      <td>2</td>\n",
       "      <td>2</td>\n",
       "      <td>2</td>\n",
       "      <td>2</td>\n",
       "      <td>ENSG00000117602</td>\n",
       "    </tr>\n",
       "    <tr>\n",
       "      <th>335</th>\n",
       "      <td>ENSG00000117602</td>\n",
       "      <td>24835171</td>\n",
       "      <td>0</td>\n",
       "      <td>0</td>\n",
       "      <td>1</td>\n",
       "      <td>2</td>\n",
       "      <td>1</td>\n",
       "      <td>0</td>\n",
       "      <td>0</td>\n",
       "      <td>1</td>\n",
       "      <td>...</td>\n",
       "      <td>1</td>\n",
       "      <td>0</td>\n",
       "      <td>0</td>\n",
       "      <td>2</td>\n",
       "      <td>0</td>\n",
       "      <td>0</td>\n",
       "      <td>1</td>\n",
       "      <td>2</td>\n",
       "      <td>2</td>\n",
       "      <td>ENSG00000117602</td>\n",
       "    </tr>\n",
       "  </tbody>\n",
       "</table>\n",
       "<p>5 rows × 2551 columns</p>\n",
       "</div>"
      ],
      "text/plain": [
       "                GENE       POS  HG00096  HG00097  HG00099  HG00100  HG00101  \\\n",
       "331  ENSG00000117602  24830297        2        2        2        2        2   \n",
       "332  ENSG00000117602  24831517        2        2        2        2        2   \n",
       "333  ENSG00000117602  24832009        2        2        1        0        1   \n",
       "334  ENSG00000117602  24835018        2        2        1        2        2   \n",
       "335  ENSG00000117602  24835171        0        0        1        2        1   \n",
       "\n",
       "     HG00102  HG00103  HG00104  ...  NA21129  NA21130  NA21133  NA21135  \\\n",
       "331        2        2        2  ...        2        2        2        2   \n",
       "332        2        2        2  ...        2        2        2        2   \n",
       "333        2        2        1  ...        1        2        2        0   \n",
       "334        1        1        1  ...        2        1        2        2   \n",
       "335        0        0        1  ...        1        0        0        2   \n",
       "\n",
       "     NA21137  NA21141  NA21142  NA21143  NA21144             gene  \n",
       "331        2        2        2        2        2  ENSG00000117602  \n",
       "332        2        2        2        2        2  ENSG00000117602  \n",
       "333        2        2        1        0        0  ENSG00000117602  \n",
       "334        2        2        2        2        2  ENSG00000117602  \n",
       "335        0        0        1        2        2  ENSG00000117602  \n",
       "\n",
       "[5 rows x 2551 columns]"
      ]
     },
     "execution_count": 51,
     "metadata": {},
     "output_type": "execute_result"
    }
   ],
   "source": [
    "index = [i for i,x in enumerate(data['gene']) if x in groups]\n",
    "data_selected = data.iloc[index, :]\n",
    "print(len(data_selected))\n",
    "data_selected.head()"
   ]
  },
  {
   "cell_type": "code",
   "execution_count": 52,
   "metadata": {},
   "outputs": [
    {
     "name": "stderr",
     "output_type": "stream",
     "text": [
      "C:\\Users\\Archibald Chain\\AppData\\Roaming\\Python\\Python37\\site-packages\\ipykernel_launcher.py:4: SettingWithCopyWarning: \n",
      "A value is trying to be set on a copy of a slice from a DataFrame.\n",
      "Try using .loc[row_indexer,col_indexer] = value instead\n",
      "\n",
      "See the caveats in the documentation: https://pandas.pydata.org/pandas-docs/stable/user_guide/indexing.html#returning-a-view-versus-a-copy\n",
      "  after removing the cwd from sys.path.\n",
      "C:\\Users\\Archibald Chain\\AppData\\Roaming\\Python\\Python37\\site-packages\\pandas\\core\\indexing.py:1676: SettingWithCopyWarning: \n",
      "A value is trying to be set on a copy of a slice from a DataFrame.\n",
      "Try using .loc[row_indexer,col_indexer] = value instead\n",
      "\n",
      "See the caveats in the documentation: https://pandas.pydata.org/pandas-docs/stable/user_guide/indexing.html#returning-a-view-versus-a-copy\n",
      "  self._setitem_single_column(ilocs[0], value, pi)\n"
     ]
    }
   ],
   "source": [
    "# get the group names\n",
    "gene_names = list(data_selected.gene.unique())\n",
    "\n",
    "data_selected['sign'] = 0\n",
    "\n",
    "# Choose five SNPs as significant SNPs and 95 as small sigficance others are non-significant\n",
    "for gene in gene_names:\n",
    "    n = len(data_selected.loc[data_selected['gene'] == gene ,:])\n",
    "    sign = [2]*5 + [1] * (100 - 5)  + [0] * (n - 100)\n",
    "    \n",
    "    data_selected.loc[data_selected['gene'] == gene ,'sign'] = sign"
   ]
  },
  {
   "cell_type": "markdown",
   "metadata": {},
   "source": [
    "### Get Beta"
   ]
  },
  {
   "cell_type": "code",
   "execution_count": 76,
   "metadata": {},
   "outputs": [],
   "source": [
    "# Get Beta\n",
    "data_selected = data_selected.loc[data_selected['sign'] != 0,:]\n",
    "data_selected['beta'] = 0\n",
    "n = len(data_selected.loc[data_selected['sign'] == 2,'beta'])\n",
    "data_selected.loc[data_selected['sign'] == 2,'beta'] = np.random.normal(0, np.sqrt(20), n)\n",
    "\n",
    "n = len(data_selected.loc[data_selected['sign'] == 1,'beta'])\n",
    "data_selected.loc[data_selected['sign'] == 1,'beta'] = np.random.normal(0, np.sqrt(3), n)\n",
    "\n",
    "beta = data_selected.beta"
   ]
  },
  {
   "cell_type": "code",
   "execution_count": 77,
   "metadata": {},
   "outputs": [
    {
     "data": {
      "text/plain": [
       "(2000,)"
      ]
     },
     "execution_count": 77,
     "metadata": {},
     "output_type": "execute_result"
    }
   ],
   "source": [
    "beta.shape"
   ]
  },
  {
   "cell_type": "code",
   "execution_count": 73,
   "metadata": {},
   "outputs": [
    {
     "data": {
      "text/html": [
       "<div>\n",
       "<style scoped>\n",
       "    .dataframe tbody tr th:only-of-type {\n",
       "        vertical-align: middle;\n",
       "    }\n",
       "\n",
       "    .dataframe tbody tr th {\n",
       "        vertical-align: top;\n",
       "    }\n",
       "\n",
       "    .dataframe thead th {\n",
       "        text-align: right;\n",
       "    }\n",
       "</style>\n",
       "<table border=\"1\" class=\"dataframe\">\n",
       "  <thead>\n",
       "    <tr style=\"text-align: right;\">\n",
       "      <th></th>\n",
       "      <th>331</th>\n",
       "      <th>332</th>\n",
       "      <th>333</th>\n",
       "      <th>334</th>\n",
       "      <th>335</th>\n",
       "      <th>336</th>\n",
       "      <th>337</th>\n",
       "      <th>338</th>\n",
       "      <th>339</th>\n",
       "      <th>340</th>\n",
       "      <th>...</th>\n",
       "      <th>9964</th>\n",
       "      <th>9965</th>\n",
       "      <th>9966</th>\n",
       "      <th>9967</th>\n",
       "      <th>9968</th>\n",
       "      <th>9969</th>\n",
       "      <th>9970</th>\n",
       "      <th>9971</th>\n",
       "      <th>9972</th>\n",
       "      <th>Bias</th>\n",
       "    </tr>\n",
       "  </thead>\n",
       "  <tbody>\n",
       "    <tr>\n",
       "      <th>HG00096</th>\n",
       "      <td>2</td>\n",
       "      <td>2</td>\n",
       "      <td>2</td>\n",
       "      <td>2</td>\n",
       "      <td>0</td>\n",
       "      <td>0</td>\n",
       "      <td>2</td>\n",
       "      <td>0</td>\n",
       "      <td>2</td>\n",
       "      <td>0</td>\n",
       "      <td>...</td>\n",
       "      <td>1</td>\n",
       "      <td>1</td>\n",
       "      <td>0</td>\n",
       "      <td>1</td>\n",
       "      <td>0</td>\n",
       "      <td>1</td>\n",
       "      <td>0</td>\n",
       "      <td>0</td>\n",
       "      <td>0</td>\n",
       "      <td>1</td>\n",
       "    </tr>\n",
       "    <tr>\n",
       "      <th>HG00097</th>\n",
       "      <td>2</td>\n",
       "      <td>2</td>\n",
       "      <td>2</td>\n",
       "      <td>2</td>\n",
       "      <td>0</td>\n",
       "      <td>0</td>\n",
       "      <td>2</td>\n",
       "      <td>0</td>\n",
       "      <td>2</td>\n",
       "      <td>0</td>\n",
       "      <td>...</td>\n",
       "      <td>1</td>\n",
       "      <td>1</td>\n",
       "      <td>0</td>\n",
       "      <td>1</td>\n",
       "      <td>0</td>\n",
       "      <td>1</td>\n",
       "      <td>0</td>\n",
       "      <td>0</td>\n",
       "      <td>0</td>\n",
       "      <td>1</td>\n",
       "    </tr>\n",
       "    <tr>\n",
       "      <th>HG00099</th>\n",
       "      <td>2</td>\n",
       "      <td>2</td>\n",
       "      <td>1</td>\n",
       "      <td>1</td>\n",
       "      <td>1</td>\n",
       "      <td>0</td>\n",
       "      <td>1</td>\n",
       "      <td>1</td>\n",
       "      <td>1</td>\n",
       "      <td>1</td>\n",
       "      <td>...</td>\n",
       "      <td>0</td>\n",
       "      <td>1</td>\n",
       "      <td>0</td>\n",
       "      <td>0</td>\n",
       "      <td>0</td>\n",
       "      <td>0</td>\n",
       "      <td>0</td>\n",
       "      <td>0</td>\n",
       "      <td>0</td>\n",
       "      <td>1</td>\n",
       "    </tr>\n",
       "    <tr>\n",
       "      <th>HG00100</th>\n",
       "      <td>2</td>\n",
       "      <td>2</td>\n",
       "      <td>0</td>\n",
       "      <td>2</td>\n",
       "      <td>2</td>\n",
       "      <td>0</td>\n",
       "      <td>0</td>\n",
       "      <td>2</td>\n",
       "      <td>0</td>\n",
       "      <td>2</td>\n",
       "      <td>...</td>\n",
       "      <td>1</td>\n",
       "      <td>1</td>\n",
       "      <td>0</td>\n",
       "      <td>1</td>\n",
       "      <td>0</td>\n",
       "      <td>1</td>\n",
       "      <td>0</td>\n",
       "      <td>0</td>\n",
       "      <td>0</td>\n",
       "      <td>1</td>\n",
       "    </tr>\n",
       "    <tr>\n",
       "      <th>HG00101</th>\n",
       "      <td>2</td>\n",
       "      <td>2</td>\n",
       "      <td>1</td>\n",
       "      <td>2</td>\n",
       "      <td>1</td>\n",
       "      <td>0</td>\n",
       "      <td>1</td>\n",
       "      <td>1</td>\n",
       "      <td>1</td>\n",
       "      <td>1</td>\n",
       "      <td>...</td>\n",
       "      <td>1</td>\n",
       "      <td>1</td>\n",
       "      <td>0</td>\n",
       "      <td>1</td>\n",
       "      <td>0</td>\n",
       "      <td>1</td>\n",
       "      <td>0</td>\n",
       "      <td>0</td>\n",
       "      <td>0</td>\n",
       "      <td>1</td>\n",
       "    </tr>\n",
       "  </tbody>\n",
       "</table>\n",
       "<p>5 rows × 2001 columns</p>\n",
       "</div>"
      ],
      "text/plain": [
       "         331  332  333  334  335  336  337  338  339  340  ...  9964  9965  \\\n",
       "HG00096    2    2    2    2    0    0    2    0    2    0  ...     1     1   \n",
       "HG00097    2    2    2    2    0    0    2    0    2    0  ...     1     1   \n",
       "HG00099    2    2    1    1    1    0    1    1    1    1  ...     0     1   \n",
       "HG00100    2    2    0    2    2    0    0    2    0    2  ...     1     1   \n",
       "HG00101    2    2    1    2    1    0    1    1    1    1  ...     1     1   \n",
       "\n",
       "         9966  9967  9968  9969  9970  9971  9972  Bias  \n",
       "HG00096     0     1     0     1     0     0     0     1  \n",
       "HG00097     0     1     0     1     0     0     0     1  \n",
       "HG00099     0     0     0     0     0     0     0     1  \n",
       "HG00100     0     1     0     1     0     0     0     1  \n",
       "HG00101     0     1     0     1     0     0     0     1  \n",
       "\n",
       "[5 rows x 2001 columns]"
      ]
     },
     "execution_count": 73,
     "metadata": {},
     "output_type": "execute_result"
    }
   ],
   "source": [
    "from  sklearn.preprocessing import StandardScaler \n",
    "SNP = data_selected.drop(['GENE', 'POS', 'gene', 'beta'], axis=1).T\n",
    "# ss = StandardScaler()\n",
    "# SNP.loc[:,:] = ss.fit_teansform(X = SNP.loc[:,:])\n",
    "\n",
    "SNP.head()\n"
   ]
  },
  {
   "cell_type": "code",
   "execution_count": 74,
   "metadata": {},
   "outputs": [],
   "source": [
    "SNP1 = SNP.copy()"
   ]
  },
  {
   "cell_type": "code",
   "execution_count": 75,
   "metadata": {},
   "outputs": [
    {
     "name": "stdout",
     "output_type": "stream",
     "text": [
      "(2549,)\n",
      "The sigma_g^2 is 3321.6, and sigma_e^2 is 3321.6\n"
     ]
    }
   ],
   "source": [
    "temp = SNP1.values @ beta\n",
    "print(temp.shape)\n",
    "sigma_g2 = np.var(temp, ddof = 1) # get the overall variance\n",
    "h2 = 0.5 # heritability\n",
    "sigma_e2 = sigma_g2 * (1 - h2)/ h2\n",
    "print(\"The sigma_g^2 is {:.5}, and sigma_e^2 is {:.5}\".format(sigma_g2, sigma_e2))"
   ]
  },
  {
   "cell_type": "markdown",
   "metadata": {},
   "source": [
    "Add bias term"
   ]
  },
  {
   "cell_type": "code",
   "execution_count": 78,
   "metadata": {},
   "outputs": [],
   "source": [
    "beta0 = np.random.normal(0, np.sqrt(3))\n",
    "beta = np.append(beta, beta0)\n",
    "SNP['Bias'] = 1"
   ]
  },
  {
   "cell_type": "code",
   "execution_count": 79,
   "metadata": {},
   "outputs": [],
   "source": [
    "residual = np.random.normal(0, np.sqrt(sigma_e2), len(SNP))\n",
    "SNP['Y'] = SNP1.values @ beta + residual + beta0"
   ]
  },
  {
   "cell_type": "code",
   "execution_count": 81,
   "metadata": {},
   "outputs": [
    {
     "data": {
      "text/html": [
       "<div>\n",
       "<style scoped>\n",
       "    .dataframe tbody tr th:only-of-type {\n",
       "        vertical-align: middle;\n",
       "    }\n",
       "\n",
       "    .dataframe tbody tr th {\n",
       "        vertical-align: top;\n",
       "    }\n",
       "\n",
       "    .dataframe thead th {\n",
       "        text-align: right;\n",
       "    }\n",
       "</style>\n",
       "<table border=\"1\" class=\"dataframe\">\n",
       "  <thead>\n",
       "    <tr style=\"text-align: right;\">\n",
       "      <th></th>\n",
       "      <th>331</th>\n",
       "      <th>332</th>\n",
       "      <th>333</th>\n",
       "      <th>334</th>\n",
       "      <th>335</th>\n",
       "      <th>336</th>\n",
       "      <th>337</th>\n",
       "      <th>338</th>\n",
       "      <th>339</th>\n",
       "      <th>340</th>\n",
       "      <th>...</th>\n",
       "      <th>9965</th>\n",
       "      <th>9966</th>\n",
       "      <th>9967</th>\n",
       "      <th>9968</th>\n",
       "      <th>9969</th>\n",
       "      <th>9970</th>\n",
       "      <th>9971</th>\n",
       "      <th>9972</th>\n",
       "      <th>Bias</th>\n",
       "      <th>Y</th>\n",
       "    </tr>\n",
       "  </thead>\n",
       "  <tbody>\n",
       "    <tr>\n",
       "      <th>HG00096</th>\n",
       "      <td>2</td>\n",
       "      <td>2</td>\n",
       "      <td>2</td>\n",
       "      <td>2</td>\n",
       "      <td>0</td>\n",
       "      <td>0</td>\n",
       "      <td>2</td>\n",
       "      <td>0</td>\n",
       "      <td>2</td>\n",
       "      <td>0</td>\n",
       "      <td>...</td>\n",
       "      <td>1</td>\n",
       "      <td>0</td>\n",
       "      <td>1</td>\n",
       "      <td>0</td>\n",
       "      <td>1</td>\n",
       "      <td>0</td>\n",
       "      <td>0</td>\n",
       "      <td>0</td>\n",
       "      <td>1</td>\n",
       "      <td>-120.080300</td>\n",
       "    </tr>\n",
       "    <tr>\n",
       "      <th>HG00097</th>\n",
       "      <td>2</td>\n",
       "      <td>2</td>\n",
       "      <td>2</td>\n",
       "      <td>2</td>\n",
       "      <td>0</td>\n",
       "      <td>0</td>\n",
       "      <td>2</td>\n",
       "      <td>0</td>\n",
       "      <td>2</td>\n",
       "      <td>0</td>\n",
       "      <td>...</td>\n",
       "      <td>1</td>\n",
       "      <td>0</td>\n",
       "      <td>1</td>\n",
       "      <td>0</td>\n",
       "      <td>1</td>\n",
       "      <td>0</td>\n",
       "      <td>0</td>\n",
       "      <td>0</td>\n",
       "      <td>1</td>\n",
       "      <td>-25.341184</td>\n",
       "    </tr>\n",
       "    <tr>\n",
       "      <th>HG00099</th>\n",
       "      <td>2</td>\n",
       "      <td>2</td>\n",
       "      <td>1</td>\n",
       "      <td>1</td>\n",
       "      <td>1</td>\n",
       "      <td>0</td>\n",
       "      <td>1</td>\n",
       "      <td>1</td>\n",
       "      <td>1</td>\n",
       "      <td>1</td>\n",
       "      <td>...</td>\n",
       "      <td>1</td>\n",
       "      <td>0</td>\n",
       "      <td>0</td>\n",
       "      <td>0</td>\n",
       "      <td>0</td>\n",
       "      <td>0</td>\n",
       "      <td>0</td>\n",
       "      <td>0</td>\n",
       "      <td>1</td>\n",
       "      <td>-66.071638</td>\n",
       "    </tr>\n",
       "    <tr>\n",
       "      <th>HG00100</th>\n",
       "      <td>2</td>\n",
       "      <td>2</td>\n",
       "      <td>0</td>\n",
       "      <td>2</td>\n",
       "      <td>2</td>\n",
       "      <td>0</td>\n",
       "      <td>0</td>\n",
       "      <td>2</td>\n",
       "      <td>0</td>\n",
       "      <td>2</td>\n",
       "      <td>...</td>\n",
       "      <td>1</td>\n",
       "      <td>0</td>\n",
       "      <td>1</td>\n",
       "      <td>0</td>\n",
       "      <td>1</td>\n",
       "      <td>0</td>\n",
       "      <td>0</td>\n",
       "      <td>0</td>\n",
       "      <td>1</td>\n",
       "      <td>61.324924</td>\n",
       "    </tr>\n",
       "    <tr>\n",
       "      <th>HG00101</th>\n",
       "      <td>2</td>\n",
       "      <td>2</td>\n",
       "      <td>1</td>\n",
       "      <td>2</td>\n",
       "      <td>1</td>\n",
       "      <td>0</td>\n",
       "      <td>1</td>\n",
       "      <td>1</td>\n",
       "      <td>1</td>\n",
       "      <td>1</td>\n",
       "      <td>...</td>\n",
       "      <td>1</td>\n",
       "      <td>0</td>\n",
       "      <td>1</td>\n",
       "      <td>0</td>\n",
       "      <td>1</td>\n",
       "      <td>0</td>\n",
       "      <td>0</td>\n",
       "      <td>0</td>\n",
       "      <td>1</td>\n",
       "      <td>-124.191793</td>\n",
       "    </tr>\n",
       "  </tbody>\n",
       "</table>\n",
       "<p>5 rows × 2002 columns</p>\n",
       "</div>"
      ],
      "text/plain": [
       "         331  332  333  334  335  336  337  338  339  340  ...  9965  9966  \\\n",
       "HG00096    2    2    2    2    0    0    2    0    2    0  ...     1     0   \n",
       "HG00097    2    2    2    2    0    0    2    0    2    0  ...     1     0   \n",
       "HG00099    2    2    1    1    1    0    1    1    1    1  ...     1     0   \n",
       "HG00100    2    2    0    2    2    0    0    2    0    2  ...     1     0   \n",
       "HG00101    2    2    1    2    1    0    1    1    1    1  ...     1     0   \n",
       "\n",
       "         9967  9968  9969  9970  9971  9972  Bias           Y  \n",
       "HG00096     1     0     1     0     0     0     1 -120.080300  \n",
       "HG00097     1     0     1     0     0     0     1  -25.341184  \n",
       "HG00099     0     0     0     0     0     0     1  -66.071638  \n",
       "HG00100     1     0     1     0     0     0     1   61.324924  \n",
       "HG00101     1     0     1     0     0     0     1 -124.191793  \n",
       "\n",
       "[5 rows x 2002 columns]"
      ]
     },
     "execution_count": 81,
     "metadata": {},
     "output_type": "execute_result"
    }
   ],
   "source": [
    "SNP.head()"
   ]
  },
  {
   "cell_type": "code",
   "execution_count": 82,
   "metadata": {},
   "outputs": [],
   "source": [
    "# Save Simulated Parameters and data\n",
    "SNP.to_csv('Simulated_SNPs.csv')\n",
    "np.savez('simulated_parameters.npz', sigma_e2 =sigma_e2,sigma_g2 =sigma_g2, h2 = h2, beta = beta)"
   ]
  },
  {
   "cell_type": "markdown",
   "metadata": {},
   "source": [
    "## Model Test"
   ]
  },
  {
   "cell_type": "markdown",
   "metadata": {},
   "source": [
    "### 1. Weighted LSE (weighted linear square estimate)\n",
    "Let the model be\n",
    "$$\n",
    "Y_i = \\sum_{j = 1}^{p} \\beta_j X_{i,j} + u_i +\\epsilon_i \\ \\text{where } i = 1, 2,3,\\dots,n\n",
    "$$\n",
    "where $(u_1, u_2, \\dots, u_n)^\\top \\sim MVN(0, \\sigma_g^2 K ) $ and $\\epsilon_i \\sim ^{i.i.d} N(0, \\sigma_e^2)$, and  $K = 1/p X X^\\top$, $\\sigma_e^2 = \\frac{1 - h^2}{h^2} \\sigma_g^2$ . \n",
    "\n",
    "> ? how to estimate $\\sigma_e \\text{ and } \\sigma_g$?  Maybe using REML? But it requires the indication of the clusters.\n",
    "\n",
    "We can write the model as \n",
    "$$\n",
    "Y_i = \\sum_{j = 1}^{p} \\beta_j X_{i,j} + \\epsilon_i^* \\ \\text{where } i = 1, 2,3,\\dots,n \\text{ and } \\boldsymbol{\\epsilon}^{*} = \\boldsymbol u + \\boldsymbol \\epsilon \\sim N_{n}(\\mathbf{0}, V)\n",
    "$$\n",
    "where $V = Var(Y|X\\beta) = \\sigma^2_g K + \\sigma^2_e I$\n",
    "\n",
    "So we need to estimate two of  $\\sigma_g, \\sigma_e \\text{or } h$\n",
    "\n",
    "so we can get estimate for $\\tilde{\\boldsymbol{\\beta}}:=\\left(X^{t} V^{-1} X\\right)^{-1} X^{t} V^{-1} \\boldsymbol{Y}$\n",
    "\n",
    "BLUP for $\\tilde u = E(u|Y) = \\sigma^2_g K V^{-1}(Y - X\\tilde \\beta)$\n",
    "\n",
    " And $\\hat Y = X \\tilde \\beta + \\tilde u$\n",
    "\n",
    "Now we can define $H$ by\n",
    "\n",
    "$H = X\\left(X^{t} V^{-1} X\\right)^{-1} X^{t} V^{-1} + \\sigma^2_g K V^{-1}(I - X\\left(X^{t} V^{-1} X\\right)^{-1} X^{t} V^{-1})$\n"
   ]
  },
  {
   "cell_type": "code",
   "execution_count": 84,
   "metadata": {},
   "outputs": [
    {
     "data": {
      "text/html": [
       "<div>\n",
       "<style scoped>\n",
       "    .dataframe tbody tr th:only-of-type {\n",
       "        vertical-align: middle;\n",
       "    }\n",
       "\n",
       "    .dataframe tbody tr th {\n",
       "        vertical-align: top;\n",
       "    }\n",
       "\n",
       "    .dataframe thead th {\n",
       "        text-align: right;\n",
       "    }\n",
       "</style>\n",
       "<table border=\"1\" class=\"dataframe\">\n",
       "  <thead>\n",
       "    <tr style=\"text-align: right;\">\n",
       "      <th></th>\n",
       "      <th>331</th>\n",
       "      <th>332</th>\n",
       "      <th>333</th>\n",
       "      <th>334</th>\n",
       "      <th>335</th>\n",
       "      <th>336</th>\n",
       "      <th>337</th>\n",
       "      <th>338</th>\n",
       "      <th>339</th>\n",
       "      <th>340</th>\n",
       "      <th>...</th>\n",
       "      <th>9965</th>\n",
       "      <th>9966</th>\n",
       "      <th>9967</th>\n",
       "      <th>9968</th>\n",
       "      <th>9969</th>\n",
       "      <th>9970</th>\n",
       "      <th>9971</th>\n",
       "      <th>9972</th>\n",
       "      <th>Bias</th>\n",
       "      <th>Y</th>\n",
       "    </tr>\n",
       "  </thead>\n",
       "  <tbody>\n",
       "    <tr>\n",
       "      <th>HG00096</th>\n",
       "      <td>2</td>\n",
       "      <td>2</td>\n",
       "      <td>2</td>\n",
       "      <td>2</td>\n",
       "      <td>0</td>\n",
       "      <td>0</td>\n",
       "      <td>2</td>\n",
       "      <td>0</td>\n",
       "      <td>2</td>\n",
       "      <td>0</td>\n",
       "      <td>...</td>\n",
       "      <td>1</td>\n",
       "      <td>0</td>\n",
       "      <td>1</td>\n",
       "      <td>0</td>\n",
       "      <td>1</td>\n",
       "      <td>0</td>\n",
       "      <td>0</td>\n",
       "      <td>0</td>\n",
       "      <td>1</td>\n",
       "      <td>-120.080300</td>\n",
       "    </tr>\n",
       "    <tr>\n",
       "      <th>HG00097</th>\n",
       "      <td>2</td>\n",
       "      <td>2</td>\n",
       "      <td>2</td>\n",
       "      <td>2</td>\n",
       "      <td>0</td>\n",
       "      <td>0</td>\n",
       "      <td>2</td>\n",
       "      <td>0</td>\n",
       "      <td>2</td>\n",
       "      <td>0</td>\n",
       "      <td>...</td>\n",
       "      <td>1</td>\n",
       "      <td>0</td>\n",
       "      <td>1</td>\n",
       "      <td>0</td>\n",
       "      <td>1</td>\n",
       "      <td>0</td>\n",
       "      <td>0</td>\n",
       "      <td>0</td>\n",
       "      <td>1</td>\n",
       "      <td>-25.341184</td>\n",
       "    </tr>\n",
       "    <tr>\n",
       "      <th>HG00099</th>\n",
       "      <td>2</td>\n",
       "      <td>2</td>\n",
       "      <td>1</td>\n",
       "      <td>1</td>\n",
       "      <td>1</td>\n",
       "      <td>0</td>\n",
       "      <td>1</td>\n",
       "      <td>1</td>\n",
       "      <td>1</td>\n",
       "      <td>1</td>\n",
       "      <td>...</td>\n",
       "      <td>1</td>\n",
       "      <td>0</td>\n",
       "      <td>0</td>\n",
       "      <td>0</td>\n",
       "      <td>0</td>\n",
       "      <td>0</td>\n",
       "      <td>0</td>\n",
       "      <td>0</td>\n",
       "      <td>1</td>\n",
       "      <td>-66.071638</td>\n",
       "    </tr>\n",
       "    <tr>\n",
       "      <th>HG00100</th>\n",
       "      <td>2</td>\n",
       "      <td>2</td>\n",
       "      <td>0</td>\n",
       "      <td>2</td>\n",
       "      <td>2</td>\n",
       "      <td>0</td>\n",
       "      <td>0</td>\n",
       "      <td>2</td>\n",
       "      <td>0</td>\n",
       "      <td>2</td>\n",
       "      <td>...</td>\n",
       "      <td>1</td>\n",
       "      <td>0</td>\n",
       "      <td>1</td>\n",
       "      <td>0</td>\n",
       "      <td>1</td>\n",
       "      <td>0</td>\n",
       "      <td>0</td>\n",
       "      <td>0</td>\n",
       "      <td>1</td>\n",
       "      <td>61.324924</td>\n",
       "    </tr>\n",
       "    <tr>\n",
       "      <th>HG00101</th>\n",
       "      <td>2</td>\n",
       "      <td>2</td>\n",
       "      <td>1</td>\n",
       "      <td>2</td>\n",
       "      <td>1</td>\n",
       "      <td>0</td>\n",
       "      <td>1</td>\n",
       "      <td>1</td>\n",
       "      <td>1</td>\n",
       "      <td>1</td>\n",
       "      <td>...</td>\n",
       "      <td>1</td>\n",
       "      <td>0</td>\n",
       "      <td>1</td>\n",
       "      <td>0</td>\n",
       "      <td>1</td>\n",
       "      <td>0</td>\n",
       "      <td>0</td>\n",
       "      <td>0</td>\n",
       "      <td>1</td>\n",
       "      <td>-124.191793</td>\n",
       "    </tr>\n",
       "  </tbody>\n",
       "</table>\n",
       "<p>5 rows × 2002 columns</p>\n",
       "</div>"
      ],
      "text/plain": [
       "         331  332  333  334  335  336  337  338  339  340  ...  9965  9966  \\\n",
       "HG00096    2    2    2    2    0    0    2    0    2    0  ...     1     0   \n",
       "HG00097    2    2    2    2    0    0    2    0    2    0  ...     1     0   \n",
       "HG00099    2    2    1    1    1    0    1    1    1    1  ...     1     0   \n",
       "HG00100    2    2    0    2    2    0    0    2    0    2  ...     1     0   \n",
       "HG00101    2    2    1    2    1    0    1    1    1    1  ...     1     0   \n",
       "\n",
       "         9967  9968  9969  9970  9971  9972  Bias           Y  \n",
       "HG00096     1     0     1     0     0     0     1 -120.080300  \n",
       "HG00097     1     0     1     0     0     0     1  -25.341184  \n",
       "HG00099     0     0     0     0     0     0     1  -66.071638  \n",
       "HG00100     1     0     1     0     0     0     1   61.324924  \n",
       "HG00101     1     0     1     0     0     0     1 -124.191793  \n",
       "\n",
       "[5 rows x 2002 columns]"
      ]
     },
     "execution_count": 84,
     "metadata": {},
     "output_type": "execute_result"
    }
   ],
   "source": [
    "import pandas as pd\n",
    "import numpy as np\n",
    "import matplotlib.pyplot as plt\n",
    "%matplotlib inline\n",
    "if not 'SNP' in locals():\n",
    "    SNP = pd.read_csv('Simulated_SNPs.csv', index_col=0)\n",
    "par = np.load('simulated_parameters.npz')\n",
    "sigma_e2, sigma_g2, h2, beta = [par[params] for params in par.files]\n",
    "sigma_g2 = float(sigma_g2)\n",
    "sigma_e2 = float(sigma_e2)\n",
    "h2 = float(h2)\n",
    "SNP.head()"
   ]
  },
  {
   "cell_type": "markdown",
   "metadata": {},
   "source": [
    "Get $V = Var(Y|X\\beta) = \\sigma^2_g K + \\sigma^2_e I$ where $K = 1/p X X^\\top$"
   ]
  },
  {
   "cell_type": "code",
   "execution_count": 90,
   "metadata": {},
   "outputs": [],
   "source": [
    "from sklearn.model_selection import train_test_split\n",
    "SNP_ = SNP.copy()\n",
    "SNP_.drop('Y', inplace= True, axis = 1)\n",
    "data = SNP_.values\n",
    "X_tr, X_te, y_tr, y_te = train_test_split(data, SNP['Y'], test_size = 0.2, random_state = 123)"
   ]
  },
  {
   "cell_type": "code",
   "execution_count": 107,
   "metadata": {},
   "outputs": [
    {
     "name": "stdout",
     "output_type": "stream",
     "text": [
      "(2039,) (2039, 2001) (510,) (510, 2001)\n"
     ]
    }
   ],
   "source": [
    "print(y_tr.shape, X_tr.shape, y_te.shape, X_te.shape)"
   ]
  },
  {
   "cell_type": "markdown",
   "metadata": {},
   "source": [
    "##### 1. Comparison of training and test error of using LMM, OLS, WLS\n",
    "First we Just calculate $H_{tr}$, which is $H = X\\left(X^{t} V^{-1} X\\right)^{-1} X^{t} V^{-1} + \\sigma^2_g K V^{-1}(I - X\\left(X^{t} V^{-1} X\\right)^{-1} X^{t} V^{-1})$"
   ]
  },
  {
   "cell_type": "code",
   "execution_count": 158,
   "metadata": {},
   "outputs": [],
   "source": [
    "from numpy.linalg import inv\n",
    "from numpy.linalg import pinv\n",
    "from numpy.linalg import LinAlgError\n",
    "from numpy.linalg import det\n",
    "\n",
    "def getInv(Matrix):\n",
    "    try:\n",
    "        inv_mat = inv(Matrix)\n",
    "    except LinAlgError as lae:\n",
    "        if str(lae) != \"Singular matrix\":\n",
    "            print('Determint is {}'.format(det(Matrix)))\n",
    "            print('shape is {}'.format(Matrix.shape))\n",
    "            raise lae\n",
    "\n",
    "        print('Singluar Matrix')\n",
    "        inv_mat = pinv(Matrix)\n",
    "    finally:\n",
    "        return inv_mat"
   ]
  },
  {
   "cell_type": "code",
   "execution_count": 95,
   "metadata": {},
   "outputs": [
    {
     "name": "stdout",
     "output_type": "stream",
     "text": [
      "Singluar Matrix determinant is 0.0\n",
      "shape of matrix origin (2001, 2001), psesudo invserse (2001, 2001)\n"
     ]
    }
   ],
   "source": [
    "n_tr,p = X_tr.shape\n",
    "V = sigma_g2 / p * X_tr @ X_tr.T + sigma_e2 * np.diag(np.ones(X_tr.shape[0]))\n",
    "inverse_part = getInv(X_tr.T @ getInv(V) @ X_tr)\n",
    "K = X_tr @ X_tr.T /p\n",
    "add1 = X_tr @ inverse_part @ X_tr.T @ getInv(V)\n",
    "add2 = sigma_g2 * K @ getInv(V) @ (np.identity(n_tr) - add1 )\n",
    "H = add1 + add2"
   ]
  },
  {
   "cell_type": "code",
   "execution_count": 196,
   "metadata": {},
   "outputs": [
    {
     "name": "stdout",
     "output_type": "stream",
     "text": [
      "Singluar Matrix\n",
      "training error is 580.65, ols error is 580.65, wls error is 580.65, sigma_e2 is 3321.63\n",
      "The ratio is 1.00 : 1.00 : 1.00\n"
     ]
    }
   ],
   "source": [
    "beta_hat_ols = getInv(X_tr.T @ X_tr) @ X_tr.T @y_tr\n",
    "beta_hat_wls = inverse_part @ X_tr.T @ getInv(V) @ y_tr\n",
    "y_tr_hat = H @ y_tr\n",
    "y_tr_hat_ols = X_tr @ beta_hat_ols\n",
    "y_tr_hat_wls = X_tr @ beta_hat_wls\n",
    "tr_error = 1/n_tr * (np.sum((y_tr - y_tr_hat)**2))\n",
    "tr_error_ols = 1/n_tr * (np.sum((y_tr - y_tr_hat_ols)**2))\n",
    "tr_error_wls = 1/n_tr * (np.sum((y_tr - y_tr_hat_wls)**2))\n",
    "print('training error is {:.2f}, ols error is {:.2f}, wls error is {:.2f}, sigma_e2 is {:.2f}'.format(tr_error, tr_error_ols, tr_error_wls, sigma_e2))\n",
    "print('The ratio is {:.2f} : {:.2f} : {:.2f}'.format(1, tr_error_ols/tr_error, tr_error_wls/tr_error))"
   ]
  },
  {
   "cell_type": "code",
   "execution_count": 114,
   "metadata": {},
   "outputs": [
    {
     "name": "stdout",
     "output_type": "stream",
     "text": [
      "Singluar Matrix determinant is 0.0\n",
      "shape of matrix origin (2001, 2001), psesudo invserse (2001, 2001)\n"
     ]
    }
   ],
   "source": [
    "y_te_hat_ols = X_te @ beta_hat_ols\n",
    "y_te_hat_wls = X_te @ beta_hat_wls\n",
    "\n",
    "COV_tr_te = sigma_g2 * X_te @ X_tr.T\n",
    "V_inv = np.linalg.inv(V)\n",
    "y_te_hat_LMM = y_te_hat_wls + \\\n",
    "    COV_tr_te @ V_inv @ (np.identity(n_tr) - X_tr @ getInv(X_tr.T @ V_inv @ X_tr) @ X_tr.T @ V_inv) @ y_tr\n",
    "\n",
    "n_te, p = X_te.shape\n",
    "\n",
    "te_error = 1/n_te * (np.sum((y_te - y_te_hat_LMM)**2))\n",
    "te_error_ols = 1/n_te * (np.sum((y_te - y_te_hat_ols)**2))\n",
    "te_error_wls = 1/n_te * (np.sum((y_te - y_te_hat_wls)**2))\n"
   ]
  },
  {
   "cell_type": "code",
   "execution_count": 115,
   "metadata": {},
   "outputs": [
    {
     "name": "stdout",
     "output_type": "stream",
     "text": [
      "test error of LMM is 79553.59, ols error is 79553.59, wls error is 79553.59, sigma_e2 is 3321.63\n",
      "The ratio is 1.00 : 1.00 : 1.00\n"
     ]
    }
   ],
   "source": [
    "print('test error of LMM is {:.2f}, ols error is {:.2f}, wls error is {:.2f}, sigma_e2 is {:.2f}'.format(te_error, te_error_ols, te_error_wls, sigma_e2))\n",
    "print('The ratio is {:.2f} : {:.2f} : {:.2f}'.format(1, te_error_ols/te_error, te_error_wls/te_error))"
   ]
  },
  {
   "cell_type": "code",
   "execution_count": 44,
   "metadata": {},
   "outputs": [
    {
     "name": "stdout",
     "output_type": "stream",
     "text": [
      "training error is 1.6451314558528703e-10, test error is 0\n"
     ]
    }
   ],
   "source": [
    "y_tr_hat = H @ y_tr\n",
    "# y_te_hat = H @ y_te\n",
    "tr_error = 1/n * (np.sum((y_tr - y_tr_hat)**2))\n",
    "n_te = len(y_te)\n",
    "# te_error = 1/n_te * (np.sum( (y_te - y_te_hat)**2))\n",
    "te_error = 0\n",
    "print('training error is {}, test error is {}'.format(tr_error, te_error))"
   ]
  },
  {
   "cell_type": "code",
   "execution_count": 37,
   "metadata": {},
   "outputs": [
    {
     "name": "stdout",
     "output_type": "stream",
     "text": [
      "training error is 2.0329926265123375e-10, test error is 0\n"
     ]
    }
   ],
   "source": [
    "Hadd1 = add1\n",
    "y_tr_hat = Hadd1 @ y_tr\n",
    "tr_error = 1/n * (np.sum((y_tr - y_tr_hat)**2))\n",
    "n_te = len(y_te)\n",
    "# te_error = 1/n_te * (np.sum( (y_te - y_te_hat)**2))\n",
    "te_error = 0\n",
    "print('training error is {}, test error is {}'.format(tr_error, te_error))"
   ]
  },
  {
   "cell_type": "markdown",
   "metadata": {},
   "source": [
    "##### Leave One out Cross-validation error of LMM WLS and OLS"
   ]
  },
  {
   "cell_type": "code",
   "execution_count": 4,
   "metadata": {},
   "outputs": [
    {
     "ename": "NameError",
     "evalue": "name 'LinAlgError' is not defined",
     "output_type": "error",
     "traceback": [
      "\u001b[1;31m---------------------------------------------------------------------------\u001b[0m",
      "\u001b[1;31mKeyboardInterrupt\u001b[0m                         Traceback (most recent call last)",
      "\u001b[1;32m<ipython-input-4-43aab69a5781>\u001b[0m in \u001b[0;36m<module>\u001b[1;34m\u001b[0m\n\u001b[0;32m     16\u001b[0m     \u001b[1;32mtry\u001b[0m\u001b[1;33m:\u001b[0m\u001b[1;33m\u001b[0m\u001b[1;33m\u001b[0m\u001b[0m\n\u001b[1;32m---> 17\u001b[1;33m         \u001b[0minverse\u001b[0m \u001b[1;33m=\u001b[0m \u001b[0mnp\u001b[0m\u001b[1;33m.\u001b[0m\u001b[0mlinalg\u001b[0m\u001b[1;33m.\u001b[0m\u001b[0minv\u001b[0m\u001b[1;33m(\u001b[0m\u001b[0mX_minusi\u001b[0m\u001b[1;33m.\u001b[0m\u001b[0mT\u001b[0m \u001b[1;33m@\u001b[0m \u001b[0mV_minusi_inv\u001b[0m \u001b[1;33m@\u001b[0m \u001b[0mX_minusi\u001b[0m\u001b[1;33m)\u001b[0m\u001b[1;33m\u001b[0m\u001b[1;33m\u001b[0m\u001b[0m\n\u001b[0m\u001b[0;32m     18\u001b[0m     \u001b[1;32mexcept\u001b[0m \u001b[0mLinAlgError\u001b[0m\u001b[1;33m:\u001b[0m\u001b[1;33m\u001b[0m\u001b[1;33m\u001b[0m\u001b[0m\n",
      "\u001b[1;31mKeyboardInterrupt\u001b[0m: ",
      "\nDuring handling of the above exception, another exception occurred:\n",
      "\u001b[1;31mNameError\u001b[0m                                 Traceback (most recent call last)",
      "\u001b[1;32m<ipython-input-4-43aab69a5781>\u001b[0m in \u001b[0;36m<module>\u001b[1;34m\u001b[0m\n\u001b[0;32m     16\u001b[0m     \u001b[1;32mtry\u001b[0m\u001b[1;33m:\u001b[0m\u001b[1;33m\u001b[0m\u001b[1;33m\u001b[0m\u001b[0m\n\u001b[0;32m     17\u001b[0m         \u001b[0minverse\u001b[0m \u001b[1;33m=\u001b[0m \u001b[0mnp\u001b[0m\u001b[1;33m.\u001b[0m\u001b[0mlinalg\u001b[0m\u001b[1;33m.\u001b[0m\u001b[0minv\u001b[0m\u001b[1;33m(\u001b[0m\u001b[0mX_minusi\u001b[0m\u001b[1;33m.\u001b[0m\u001b[0mT\u001b[0m \u001b[1;33m@\u001b[0m \u001b[0mV_minusi_inv\u001b[0m \u001b[1;33m@\u001b[0m \u001b[0mX_minusi\u001b[0m\u001b[1;33m)\u001b[0m\u001b[1;33m\u001b[0m\u001b[1;33m\u001b[0m\u001b[0m\n\u001b[1;32m---> 18\u001b[1;33m     \u001b[1;32mexcept\u001b[0m \u001b[0mLinAlgError\u001b[0m\u001b[1;33m:\u001b[0m\u001b[1;33m\u001b[0m\u001b[1;33m\u001b[0m\u001b[0m\n\u001b[0m\u001b[0;32m     19\u001b[0m         \u001b[0mprint\u001b[0m\u001b[1;33m(\u001b[0m\u001b[1;34m'Singular matrix'\u001b[0m\u001b[1;33m)\u001b[0m\u001b[1;33m\u001b[0m\u001b[1;33m\u001b[0m\u001b[0m\n\u001b[0;32m     20\u001b[0m         \u001b[0mprint\u001b[0m\u001b[1;33m(\u001b[0m\u001b[0mX_minusi\u001b[0m\u001b[1;33m.\u001b[0m\u001b[0mT\u001b[0m \u001b[1;33m@\u001b[0m \u001b[0mV_minusi_inv\u001b[0m \u001b[1;33m@\u001b[0m \u001b[0mX_minusi\u001b[0m\u001b[1;33m)\u001b[0m\u001b[1;33m\u001b[0m\u001b[1;33m\u001b[0m\u001b[0m\n",
      "\u001b[1;31mNameError\u001b[0m: name 'LinAlgError' is not defined"
     ]
    }
   ],
   "source": [
    "n_tr,p = X_tr.shape\n",
    "V = sigma_g2 / p * X_tr @ X_tr.T + sigma_e2 * np.identity(X_tr.shape[0])\n",
    "\n",
    "H_cv_lmm = np.zeros([n_tr,n_tr])\n",
    "H_cv_wls = np.zeros([n_tr,n_tr])\n",
    "H_cv_ols = np.zeros([n_tr,n_tr])\n",
    "\n",
    "H_cv_temp = np.zeros([n_tr,n_tr-1])\n",
    "# V_minusi_inv_storage = np.zeros([n_tr,n_tr-1,n_tr-1]) \n",
    "# Store the inverse of Variance to reduce time consumpution\n",
    "# Storge comsumption will be too large\n",
    "\n",
    "for i in range(n_tr):\n",
    "    indices_mi= list(range(n_tr))\n",
    "    indices_mi.remove(i)\n",
    "    V_minusi_inv = getInv(V[indices_mi,:][:,indices_mi]) \n",
    "    X_minusi = X_tr[indices_mi, :]\n",
    "\n",
    "    inverse1 = getInv(X_minusi.T @ V_minusi_inv @ X_minusi)\n",
    "    inverse2 = getInv(X_minusi.T @  X_minusi)\n",
    "\n",
    "    temp = X_tr[i,:] @ inverse1 @ X_minusi.T @ V_minusi_inv\n",
    "\n",
    "    H_cv_temp[i, ] = temp\n",
    "    H_cv_wls[i, indices_mi] = temp\n",
    "    H_cv_ols[i, indices_mi] = X_tr[i,:] @ inverse2 @ X_minusi.T \n",
    "\n",
    "for i in range(n_tr):\n",
    "    indices_mi= list(range(n_tr))\n",
    "    indices_mi.remove(i)\n",
    "    H_cv_lmm[i, indices_mi] = H_cv_wls[i, indices_mi] + \\\n",
    "        V[i, indices_mi] @ getInv(V[indices_mi,:][:,indices_mi])  @ (np.identity(n_tr - 1) - H_cv_temp[indices_mi,: ])\n",
    "\n",
    "np.savez('H_cv LMM.npz', H_cv_ols = H_cv_ols,H_cv_wls = H_cv_wls, H_cv_lmm= H_cv_lmm)\n"
   ]
  },
  {
   "cell_type": "code",
   "execution_count": null,
   "metadata": {},
   "outputs": [],
   "source": [
    "# Using Test Error to estimate the Generalization error\n",
    "Error_cv = 1/n_tr * (np.square(y_tr - H_cv_lmm @ y_tr).sum())\n",
    "\n",
    "V_inv = getInv(V)\n",
    "H_te_lmm = X_te @ np.linalg.inv(X_tr.T @ V_inv @ X_tr) @ X_tr.T +\\\n",
    "    COV_tr_te @ V_inv @ (np.identity(n_tr) - X_tr @ getInv(X_tr.T @ V_inv @ X_tr) @ X_tr.T @ V_inv) \n",
    "\n",
    "\n",
    "Correction = 2 /n_tr * np.trace(H_cv_lmm @ V)\n",
    "\n",
    "COV_tr_te = sigma_g2 * X_te @ X_tr.T\n",
    "n_te = y_te.shape[0]\n",
    "\n",
    "Error_te_lmm = 1/n_te *(np.squeare(y_te - H_te_lmm @ y_tr).sum())"
   ]
  },
  {
   "cell_type": "markdown",
   "metadata": {},
   "source": [
    "##### CV with k folds"
   ]
  },
  {
   "cell_type": "code",
   "execution_count": 197,
   "metadata": {},
   "outputs": [
    {
     "name": "stdout",
     "output_type": "stream",
     "text": [
      "Head of fold indices : [(0, 204), (204, 408), (408, 612), (612, 816), (816, 1020)]\n",
      "Singluar Matrix\n",
      "Singluar Matrix\n",
      "Singluar Matrix\n",
      "Singluar Matrix\n",
      "Singluar Matrix\n",
      "Singluar Matrix\n",
      "Singluar Matrix\n",
      "Singluar Matrix\n",
      "Singluar Matrix\n",
      "Singluar Matrix\n"
     ]
    }
   ],
   "source": [
    "def H_function_ols(X_minus_k, X_k, y_minus_k, y_k, V):\n",
    "    return X_k @ getInv(X_minus_k.T @ X_minus_k) @ X_minus_k.T\n",
    "\n",
    "H_cv_ols_k = getHcv_for_Kfolds(X_tr, y_tr, H_function_ols, V)"
   ]
  },
  {
   "cell_type": "code",
   "execution_count": 163,
   "metadata": {},
   "outputs": [
    {
     "name": "stdout",
     "output_type": "stream",
     "text": [
      "Head of fold indices : [(0, 205), (205, 410), (410, 615), (615, 820), (820, 1025)]\n",
      "Singluar Matrix\n",
      "Singluar Matrix\n",
      "Singluar Matrix\n",
      "Singluar Matrix\n",
      "Singluar Matrix\n",
      "Singluar Matrix\n",
      "Singluar Matrix\n",
      "Singluar Matrix\n",
      "Singluar Matrix\n",
      "Singluar Matrix\n"
     ]
    }
   ],
   "source": [
    "def H_function_wls(X_minus_k, X_k, y_minus_k, y_k, V):\n",
    "    V_inv = getInv(V)\n",
    "    inverse = getInv(X_minus_k.T @ V_inv @ X_minus_k) \n",
    "    return X_k @ inverse @ X_minus_k.T \n",
    "\n",
    "H_cv_ols_k = getHcv_for_Kfolds(X_tr, y_tr, H_function_wls, V)\n"
   ]
  },
  {
   "cell_type": "code",
   "execution_count": 175,
   "metadata": {},
   "outputs": [
    {
     "data": {
      "text/plain": [
       "2039"
      ]
     },
     "execution_count": 175,
     "metadata": {},
     "output_type": "execute_result"
    }
   ],
   "source": [
    "n_tr"
   ]
  },
  {
   "cell_type": "code",
   "execution_count": 184,
   "metadata": {},
   "outputs": [
    {
     "name": "stdout",
     "output_type": "stream",
     "text": [
      "Head of fold indices : [(0, 204), (204, 408), (408, 612), (612, 816), (816, 1020)]\n",
      "Singluar Matrix\n",
      "1835\n",
      "(1835, 1835)\n",
      "Singluar Matrix\n",
      "1835\n",
      "(1835, 1835)\n",
      "Singluar Matrix\n",
      "1835\n",
      "(1835, 1835)\n",
      "Singluar Matrix\n",
      "1835\n",
      "(1835, 1835)\n",
      "Singluar Matrix\n",
      "1835\n",
      "(1835, 1835)\n",
      "Singluar Matrix\n",
      "1835\n",
      "(1835, 1835)\n",
      "Singluar Matrix\n",
      "1835\n",
      "(1835, 1835)\n",
      "Singluar Matrix\n",
      "1835\n",
      "(1835, 1835)\n",
      "Singluar Matrix\n",
      "1835\n",
      "(1835, 1835)\n",
      "Singluar Matrix\n",
      "1836\n",
      "(1836, 1836)\n"
     ]
    }
   ],
   "source": [
    "H_cv_lmm_k = np.zeros([n_tr, n_tr])\n",
    "\n",
    "folds_indices = getFoldsIndices(10, n_tr)\n",
    "# get H_temp\n",
    "for Kindices in folds_indices:\n",
    "    ia,ib = Kindices\n",
    "    indices_minus_K = list(range(0, ia)) + list(range(ib, n_tr))\n",
    "\n",
    "    V_minus_k = V[indices_minus_K,:][:, indices_minus_K]\n",
    "    X_k = X_tr[ia:ib,:]\n",
    "    X_minus_k = X_tr[indices_minus_K,]\n",
    "\n",
    "    V_inv = getInv(V_minus_k)\n",
    "    inverse = getInv(X_minus_k.T @ V_inv @ X_minus_k) \n",
    "\n",
    "    H_cv_temp = X_minus_k @ inverse @ X_minus_k.T\n",
    "    temp = V[ia:ib, indices_minus_K] @ getInv(V_minus_k) @(\n",
    "        np.identity(n_tr - (ib - ia)) - H_cv_temp\n",
    "    )\n",
    "\n",
    "    H_cv_lmm_k[ia:ib, indices_minus_K] = H_cv_lmm_k[ia:ib, indices_minus_K] + temp\n"
   ]
  },
  {
   "cell_type": "code",
   "execution_count": 195,
   "metadata": {},
   "outputs": [
    {
     "ename": "NameError",
     "evalue": "name 'H_cv_ols' is not defined",
     "output_type": "error",
     "traceback": [
      "\u001b[1;31m---------------------------------------------------------------------------\u001b[0m",
      "\u001b[1;31mNameError\u001b[0m                                 Traceback (most recent call last)",
      "\u001b[1;32m<ipython-input-195-54a5648b0f33>\u001b[0m in \u001b[0;36m<module>\u001b[1;34m\u001b[0m\n\u001b[1;32m----> 1\u001b[1;33m \u001b[0mH_cv_ols\u001b[0m \u001b[1;33m@\u001b[0m \u001b[0my_tr\u001b[0m\u001b[1;33m\u001b[0m\u001b[1;33m\u001b[0m\u001b[0m\n\u001b[0m",
      "\u001b[1;31mNameError\u001b[0m: name 'H_cv_ols' is not defined"
     ]
    }
   ],
   "source": [
    "H_cv_ols @ y_tr"
   ]
  },
  {
   "cell_type": "code",
   "execution_count": 192,
   "metadata": {},
   "outputs": [
    {
     "data": {
      "text/plain": [
       "array([-3.32904605e+08, -3.58577993e+08, -3.15753003e+08, ...,\n",
       "       -3.91617846e+08, -3.56790202e+08, -3.80309905e+08])"
      ]
     },
     "execution_count": 192,
     "metadata": {},
     "output_type": "execute_result"
    }
   ],
   "source": [
    "y_tr_hat_LMM_cv = H_cv_ols_k @ y_tr"
   ]
  },
  {
   "cell_type": "code",
   "execution_count": 189,
   "metadata": {},
   "outputs": [
    {
     "name": "stdout",
     "output_type": "stream",
     "text": [
      "-24209657844566.86 1.240268868584204e+19\n",
      "CV error is 128764615966208640.00, CVc is 80126597373170112.00, Generalization Error is 552905916288798393329065656320.00\n",
      "sigma_e2 is 3321.63\n"
     ]
    }
   ],
   "source": [
    "Error_cv_lmm_k = 1/n_tr * (np.sum((y_tr - H_cv_lmm_k @ y_tr)**2))\n",
    "\n",
    "K = 1/p * X_tr @ X_tr.T\n",
    "V = sigma_g2 * K + sigma_e2 * np.identity(X_tr.shape[0])\n",
    "\n",
    "h_te = X_te @ ( X_tr.T @ X_tr + nlamb * np.identity(p)) @ X_tr.T\n",
    "Cov_tr_te = 1/p * sigma_g2 *  X_tr @ X_te.T\n",
    "print(np.trace(H_cv_lmm_k @ V), np.trace(h_te @ Cov_tr_te))\n",
    "Correction = 2  * (1/ n_tr *np.trace(H_cv_lmm_k @ V ) - 1/n_te * np.trace( h_te @ Cov_tr_te))\n",
    "\n",
    "\n",
    "CV_c1 = Error_cv_lmm_k+ Correction\n",
    "\n",
    "# Using Test Error to estimate the Generalization error\n",
    "y_te_hat_ridge = h_te @ y_tr\n",
    "\n",
    "n_te = y_te.shape[0]\n",
    "Error_te = 1/n_te *(np.sum((y_te - y_te_hat_ridge)**2 ) )\n",
    "print(\"CV error is {:.2f}, CVc is {:.2f}, Generalization Error is {:.2f}\".\\\n",
    "    format(Error_cv_lmm_k, CV_c1,Error_te))\n",
    "print('sigma_e2 is {:.2f}'.format(sigma_e2))"
   ]
  },
  {
   "cell_type": "markdown",
   "metadata": {},
   "source": [
    "### 1.) Ridge\n",
    "\n",
    "\n",
    "$$\n",
    "Q(\\boldsymbol{\\beta})=\\frac{1}{n}(\\mathbf{y}-\\mathbf{X} \\boldsymbol{\\beta})^{\\prime}(\\mathbf{y}-\\mathbf{X} \\boldsymbol{\\beta})+ \\lambda ||{\\beta}||_2\n",
    "$$\n",
    "\n",
    "$$\n",
    "\\hat \\beta = \\left(X^\\top X +n \\lambda \\mathbf{I} \\right)^{-1} X^{\\top} Y\n",
    "$$\n",
    "\n",
    "So the \n",
    "$$\n",
    "\\hat Y = H Y = X \\left(X^\\top X + n\\lambda \\mathbf{I} \\right)^{-1} X^{\\top} Y\n",
    "$$\n"
   ]
  },
  {
   "cell_type": "markdown",
   "metadata": {},
   "source": [
    "##### Training and testing error of Ridge"
   ]
  },
  {
   "cell_type": "code",
   "execution_count": 120,
   "metadata": {},
   "outputs": [
    {
     "name": "stdout",
     "output_type": "stream",
     "text": [
      "training error of ridge is 1629.12, test error is 5291.02\n"
     ]
    }
   ],
   "source": [
    "n_tr,p = X_tr.shape\n",
    "\n",
    "nlamb = 10\n",
    "beta_without_y = getInv(X_tr.T @ X_tr + nlamb * np.identity(p)) @ X_tr.T\n",
    "beta_hat_ridge = beta_without_y @ y_tr\n",
    "H_tr = X_tr @ beta_without_y\n",
    "H_te = X_te @ beta_without_y\n",
    "y_tr_hat_ridge = H_tr @ y_tr\n",
    "y_te_hat_ridge = H_te @ y_tr \n",
    "\n",
    "tr_error_ridge = 1/n_tr * np.sum((y_tr-y_tr_hat_ridge) ** 2)\n",
    "te_error_ridge = 1/n_te * np.sum((y_te-y_te_hat_ridge) ** 2)\n",
    "print('training error of ridge is {:.2f}, test error is {:.2f}'.format(tr_error_ridge, te_error_ridge))"
   ]
  },
  {
   "cell_type": "code",
   "execution_count": 121,
   "metadata": {},
   "outputs": [
    {
     "name": "stdout",
     "output_type": "stream",
     "text": [
      "training error of ridge is 1629.12, test error is 5291.02, sigma_e2 is 3321.627\n"
     ]
    }
   ],
   "source": [
    "print('training error of ridge is {:.2f}, test error is {:.2f}, sigma_e2 is {:.3f}'.format(tr_error_ridge, te_error_ridge, sigma_e2))"
   ]
  },
  {
   "cell_type": "markdown",
   "metadata": {},
   "source": [
    "##### LOO Cross-valication "
   ]
  },
  {
   "cell_type": "code",
   "execution_count": 106,
   "metadata": {},
   "outputs": [],
   "source": [
    "n_tr,p = X_tr.shape\n",
    "H_cv_ridge = np.zeros([n_tr,n_tr])\n",
    "\n",
    "lamb = 100 \n",
    "for i in range(n_tr):\n",
    "    indices_mi= list(range(n_tr))\n",
    "    indices_mi.remove(i)\n",
    "    X_minusi = X_tr[indices_mi, :]\n",
    "    inverse = getInv(X_minusi.T @  X_minusi + lamb * np.diag(np.ones(p)) )\n",
    "\n",
    "    temp = X_tr[i,:] @ inverse @ X_minusi.T  \n",
    "    H_cv_ridge[i, indices_mi] = temp\n",
    "\n",
    "np.savez('H_cv ridge.npz', H_cv_ridge = H_cv_ridge)"
   ]
  },
  {
   "cell_type": "code",
   "execution_count": 107,
   "metadata": {},
   "outputs": [],
   "source": [
    "Error_cv = 1/n_tr * (np.sum((y_tr - H_cv @ y_tr)**2))\n",
    "Correction = 2 /n_tr * np.trace(H_cv @ V) ## Todo ?\n",
    "\n",
    "CV_c = Error_cv + Correction\n"
   ]
  },
  {
   "cell_type": "code",
   "execution_count": 115,
   "metadata": {},
   "outputs": [
    {
     "name": "stdout",
     "output_type": "stream",
     "text": [
      "CVc is 1008492111.4700671, Generalization Error is 5.272504717120024e-11\n"
     ]
    }
   ],
   "source": [
    "# Using Test Error to estimate the Generalization error\n",
    "y_te_hat = X_te @ np.linalg.inv(X_tr.T @ X_tr + lamb * np.diag(np.ones(p))) @ X_tr.T @ y_tr\n",
    "\n",
    "n_te = y_te.shape[0]\n",
    "Error_te = 1/n_te *(np.sum((y_te - y_te_hat)**2 ) )\n",
    "print(\"CVc is {}, Generalization Error is {}\".format(CV_c,Error_te))"
   ]
  },
  {
   "cell_type": "code",
   "execution_count": 117,
   "metadata": {},
   "outputs": [
    {
     "name": "stdout",
     "output_type": "stream",
     "text": [
      "4.6513079051403714e-11\n",
      "1008492111.4700671\n"
     ]
    }
   ],
   "source": [
    "print(Error_cv)\n",
    "print(Correction)"
   ]
  },
  {
   "cell_type": "code",
   "execution_count": 134,
   "metadata": {},
   "outputs": [
    {
     "name": "stdout",
     "output_type": "stream",
     "text": [
      "Head of fold indices : [(0, 205), (205, 410), (410, 615), (615, 820), (820, 1025)]\n"
     ]
    }
   ],
   "source": [
    "n_tr,p = X_tr.shape\n",
    "Hcv_ridge_k = np.zeros([n_tr,n_tr])\n",
    "nlamb = 100\n",
    "\n",
    "folds_indices = getFoldsIndices(nfolds = 10, n_tr = n_tr)\n",
    "for Kindices in folds_indices:\n",
    "    ia,ib = Kindices\n",
    "    indices_minus_K = list(range(0, ia)) + list(range(ib, n_tr))\n",
    "    X_minus_K = X_tr[indices_minus_K,:]\n",
    "\n",
    "    inverse = getInv(X_minus_K.T @ X_minus_K + nlamb * np.identity(p))\n",
    "\n",
    "    temp = X_tr[ia:ib, :] @ inverse @ X_minus_K.T\n",
    "    Hcv_ridge_k[ia:ib, indices_minus_K] = temp"
   ]
  },
  {
   "cell_type": "markdown",
   "metadata": {},
   "source": [
    "##### CV with k folds"
   ]
  },
  {
   "cell_type": "markdown",
   "metadata": {},
   "source": [
    "$$\n",
    "\\widehat{C V}_{c}=\\frac{1}{n}\\left(\\boldsymbol{y}-H_{c v} \\boldsymbol{y}\\right)^{t}\\left(\\boldsymbol{y}-H_{c v} \\boldsymbol{y}\\right)+\\frac{2}{n}\\left[\\operatorname{tr}\\left(H_{c v} \\operatorname{Cov}(\\boldsymbol{y}, \\boldsymbol{y})\\right)-n \\boldsymbol{h}_{t e} \\operatorname{Cov}\\left(\\boldsymbol{y}_{t r}, y_{t e}\\right)\\right]\n",
    "$$"
   ]
  },
  {
   "cell_type": "code",
   "execution_count": 188,
   "metadata": {},
   "outputs": [
    {
     "name": "stdout",
     "output_type": "stream",
     "text": [
      "7233216.21903292 1.240268868584204e+19\n",
      "CV error is 3674.41, CVc is -48637994846428608.00, Generalization Error is 552905916288798393329065656320.00\n",
      "sigma_e2 is 3321.63\n"
     ]
    }
   ],
   "source": [
    "Error_cv_ridge_k = 1/n_tr * (np.sum((y_tr - Hcv_ridge_k @ y_tr)**2))\n",
    "\n",
    "K = 1/p * X_tr @ X_tr.T\n",
    "V = sigma_g2 * K + sigma_e2 * np.identity(X_tr.shape[0])\n",
    "\n",
    "h_te = X_te @ ( X_tr.T @ X_tr + nlamb * np.identity(p)) @ X_tr.T\n",
    "Cov_tr_te = 1/p * sigma_g2 *  X_tr @ X_te.T\n",
    "print(np.trace(Hcv_ridge_k @ V), np.trace(h_te @ Cov_tr_te))\n",
    "Correction = 2  * (1/ n_tr *np.trace(Hcv_ridge_k @ V ) - 1/n_te * np.trace( h_te @ Cov_tr_te))\n",
    "\n",
    "\n",
    "CV_c1 = Error_cv_ridge_k + Correction\n",
    "\n",
    "# Using Test Error to estimate the Generalization error\n",
    "y_te_hat_ridge = h_te @ y_tr\n",
    "\n",
    "n_te = y_te.shape[0]\n",
    "Error_te = 1/n_te *(np.sum((y_te - y_te_hat_ridge)**2 ) )\n",
    "print(\"CV error is {:.2f}, CVc is {:.2f}, Generalization Error is {:.2f}\".\\\n",
    "    format(Error_cv_ridge_k, CV_c1,Error_te))\n",
    "print('sigma_e2 is {:.2f}'.format(sigma_e2))"
   ]
  },
  {
   "cell_type": "code",
   "execution_count": null,
   "metadata": {},
   "outputs": [
    {
     "name": "stdout",
     "output_type": "stream",
     "text": [
      "CVc is 1008492111.4700671, Generalization Error is 5.272504717120024e-11\n"
     ]
    }
   ],
   "source": [
    "# Using Test Error to estimate the Generalization error\n",
    "y_te_hat = X_te @ np.linalg.inv(X_tr.T @ X_tr + lamb * np.diag(np.ones(p))) @ X_tr.T @ y_tr\n",
    "\n",
    "n_te = y_te.shape[0]\n",
    "Error_te = 1/n_te *(np.sum((y_te - y_te_hat)**2 ) )\n",
    "print(\"CVc is {}, Generalization Error is {}\".format(CV_c,Error_te))"
   ]
  },
  {
   "cell_type": "markdown",
   "metadata": {},
   "source": [
    "## Working with K-folds"
   ]
  },
  {
   "cell_type": "code",
   "execution_count": 182,
   "metadata": {},
   "outputs": [],
   "source": [
    "def getFoldsIndices(nfolds, n_tr):\n",
    "    if nfolds <= n_tr:\n",
    "        fold_size = int(np.floor(n_tr/nfolds))\n",
    "        resi = n_tr % nfolds\n",
    "        fold_sizes = [0] + resi * [fold_size +1] + (nfolds - resi) * [fold_size]\n",
    "        indices = np.cumsum(fold_sizes)\n",
    "        folds_indices = [(indices[i], indices[i + 1])  for i in range(nfolds)]\n",
    "\n",
    "    else:\n",
    "        raise Exception(\"Number of folds is larger than numer of samples\")\n",
    "    print('Head of fold indices : {}'.format(folds_indices[:5]))\n",
    "    return folds_indices\n",
    "    \n",
    "def getHcv_for_Kfolds(X_tr, y_tr,  H_function, V, nfolds = 10):\n",
    "    n_tr,p = X_tr.shape\n",
    "    Hcv_k = np.zeros([n_tr,n_tr])\n",
    "    \n",
    "    folds_indices = getFoldsIndices(nfolds = nfolds, n_tr = n_tr)\n",
    "    for Kindices in folds_indices:\n",
    "        ia,ib = Kindices\n",
    "        indices_minus_K = list(range(0, ia)) + list(range(ib, n_tr))\n",
    "\n",
    "        X_minus_K = X_tr[indices_minus_K,:]\n",
    "        y_minus_K = y_tr[indices_minus_K]\n",
    "        X_k = X_tr[ia:ib,:]\n",
    "        y_K = y_tr[ia:ib]\n",
    "\n",
    "        V_minus_k = V[indices_minus_K,:][:, indices_minus_K]\n",
    "        temp = H_function(X_minus_K, X_k , y_minus_K, y_K, V_minus_k)\n",
    "\n",
    "        Hcv_k[ia:ib, indices_minus_K] = temp\n",
    "\n",
    "    return Hcv_k"
   ]
  }
 ],
 "metadata": {
  "kernelspec": {
   "display_name": "Python 3.7.3 64-bit",
   "language": "python",
   "name": "python3"
  },
  "language_info": {
   "codemirror_mode": {
    "name": "ipython",
    "version": 3
   },
   "file_extension": ".py",
   "mimetype": "text/x-python",
   "name": "python",
   "nbconvert_exporter": "python",
   "pygments_lexer": "ipython3",
   "version": "3.7.3"
  },
  "orig_nbformat": 4,
  "vscode": {
   "interpreter": {
    "hash": "5109d816b82be14675a6b11f8e0f0d2e80f029176ed3710d54e125caa8520dfd"
   }
  }
 },
 "nbformat": 4,
 "nbformat_minor": 2
}
